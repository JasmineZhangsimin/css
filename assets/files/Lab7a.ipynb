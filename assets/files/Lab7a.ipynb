{
 "cells": [
  {
   "cell_type": "markdown",
   "metadata": {
    "_uuid": "84163f3ca19c0b7c9fda47121b3bc4cadfaf1fcc",
    "colab_type": "text",
    "id": "LJvFLldenOYi"
   },
   "source": [
    "# Gensim Word2Vec Tutorial"
   ]
  },
  {
   "cell_type": "markdown",
   "metadata": {
    "_uuid": "9e858d8c6e56ee78629e1cc21ce8fee6dc3cec0b",
    "colab_type": "text",
    "id": "rrFy5MLVnOYl"
   },
   "source": [
    "In this tutorial, we will learn how to use python gensim word2vec to train our word embedding. You can click here for more info about this python library <https://radimrehurek.com/gensim/>. \n",
    "\n",
    "This tutorial focuses on the use of the Word2Vec package from the Gensim libray. For more conceptual details, you can check my lecture slides. For more conceptual details, you can check my lecture slides. You can check here for more gensim word2vec model intro <https://radimrehurek.com/gensim/auto_examples/tutorials/run_word2vec.html#sphx-glr-download-auto-examples-tutorials-run-word2vec-py>.\n",
    "\n",
    "For the understanding of basic concepts of neural network on nlp, you can check Stanford CS224d: Deep Learning for NLP <http://web.stanford.edu/class/cs224n/>. Dr. Manning has a very intuitive, useful intro to word2vec. \n",
    "\n",
    "You will use 2000 NYT news article related to dynamic of collective action as raw texts. Please do not share this data set publicly. You can click here for more information about DOCA project <https://web.stanford.edu/group/collectiveaction/cgi-bin/drupal/>.\n",
    "\n",
    "This tutorial is adapted from <https://www.kaggle.com/pierremegret/gensim-word2vec-tutorial> and <https://radimrehurek.com/gensim/auto_examples/tutorials/run_word2vec.html#sphx-glr-download-auto-examples-tutorials-run-word2vec-py>. You can check here for more details.\n",
    "\n",
    "# Briefing about Word2Vec\n",
    "\n",
    "<img src=\"http://mccormickml.com/assets/word2vec/skip_gram_net_arch.png\" alt=\"drawing\" width=\"550\"/>\n",
    "\n",
    "Word2Vec was introduced in two papers, including [Efficient Estimation of Word Representations in Vector Space](https://arxiv.org/pdf/1301.3781.pdf) and [Distributed Representations of Words and Phrases and their Compositionality](http://papers.nips.cc/paper/5021-distributed-representations-of-words-and-phrases-and-their-compositionality.pdf) between September and October 2013, by a team of researchers at Google. You can read these papers for more tech details. The Python implementation was in [Gensim](https://radimrehurek.com/gensim/index.html). \n",
    "\n",
    "Word2Vec assumes that two words sharing similar contexts also share a similar meaning and consequently a similar vector representation from the model. Word2vec is a widely featured as a member of the “new wave” of machine learning algorithms based on neural networks, commonly referred to as “deep learning” (though word2vec itself is rather shallow). \n",
    "\n",
    "Using large amounts of unannotated plain text, word2vec learns relationships between words automatically. The output are vectors, one vector per word, with remarkable linear relationships that allow us to do things like:\n",
    "\n",
    "vec(“king”) - vec(“man”) + vec(“woman”) =~ vec(“queen”)\n",
    "\n",
    "You should be familiar with the bag-of-words model. This model transforms each document to a fixed-length vector of integers. For example, given the sentence:\n",
    "\n",
    "John likes to watch movies. Mary likes movies too.\n",
    "\n",
    "John also likes to watch football games. Mary hates football.\n",
    "\n",
    "The model outputs the vectors:\n",
    "\n",
    "[1, 2, 1, 1, 2, 1, 1, 0, 0, 0, 0]\n",
    "\n",
    "[1, 1, 1, 1, 0, 1, 0, 1, 2, 1, 1]\n",
    "\n",
    "Each vector has 10 elements, where each element counts the number of times a particular word occurred in the document. The order of elements is arbitrary. In the example above, the order of the elements corresponds to the words: [\"John\", \"likes\", \"to\", \"watch\", \"movies\", \"Mary\", \"too\", \"also\", \"football\", \"games\", \"hates\"].\n",
    "\n",
    "Bag-of-words models are surprisingly effective, but have several weaknesses.\n",
    "\n",
    "First, they lose all information about word order: “John likes Mary” and “Mary likes John” correspond to identical vectors. \n",
    "\n",
    "Second, the model does not attempt to learn the meaning of the underlying words, and as a consequence, the distance between vectors doesn’t always reflect the difference in meaning. The Word2Vec model addresses this second problem.\n",
    "\n",
    "Word2Vec is a more recent model that embeds words in a lower-dimensional vector space using a shallow neural network. The result is a set of word-vectors where vectors close together in vector space have similar meanings based on context, and word-vectors distant to each other have differing meanings. For example, strong and powerful would be close together and strong and Paris would be relatively far.\n",
    "\n",
    "The are two versions of this model and Word2Vec class implements them both: Skip-grams (SG) and Continuous-bag-of-words (CBOW)\n",
    "\n",
    "The Word2Vec Skip-gram model, for example, takes in pairs (word1, word2) generated by moving a window across text data, and trains a 1-hidden-layer neural network based on the synthetic task of given an input word, giving us a predicted probability distribution of nearby words to the input. A virtual one-hot encoding of words goes through a ‘projection layer’ to the hidden layer; these projection weights are later interpreted as the word embeddings. So if the hidden layer has 300 neurons, this network will give us 300-dimensional word embeddings.\n",
    "\n",
    "Continuous-bag-of-words Word2vec is very similar to the skip-gram model. It is also a 1-hidden-layer neural network. The synthetic training task now uses the average of multiple input context words, rather than a single word as in skip-gram, to predict the center word. Again, the projection weights that turn one-hot words into averageable vectors, of the same width as the hidden layer, are interpreted as the word embeddings."
   ]
  },
  {
   "cell_type": "markdown",
   "metadata": {
    "_uuid": "7d96105f0c90bf052b2afdb684bf31549e1e6c81",
    "colab_type": "text",
    "id": "uGQv6ugEnOYo"
   },
   "source": [
    "# Getting Started\n",
    "\n",
    "Libraries used:\n",
    " * `spaCy`: https://spacy.io/usage/\n",
    " * `gensim`: https://radimrehurek.com/gensim/install.html\n",
    " * `scikit-learn`: http://scikit-learn.org/stable/install.html\n",
    " * `seaborn`: https://seaborn.pydata.org/installing.html\n",
    " \n",
    "If your python environment does not have these libraries, you should use pip or conda to install these modules."
   ]
  },
  {
   "cell_type": "code",
   "execution_count": 42,
   "metadata": {
    "_uuid": "cc7b3e6ca62670ff13626705402f626778487204",
    "colab": {},
    "colab_type": "code",
    "executionInfo": {
     "elapsed": 362,
     "status": "ok",
     "timestamp": 1600128814013,
     "user": {
      "displayName": "Yongjun Zhang",
      "photoUrl": "https://lh3.googleusercontent.com/a-/AOh14Gimk07UnSWf8tgoIgpz-30olfpE49PRXAOwGrYb1RI=s64",
      "userId": "16913951745033588592"
     },
     "user_tz": 240
    },
    "id": "_K_IhXmenOYp"
   },
   "outputs": [],
   "source": [
    "import re  # For preprocessing\n",
    "import pandas as pd  # For data handling\n",
    "from time import time  # To time our operations\n",
    "from collections import defaultdict  # For word frequency\n",
    "\n",
    "import spacy  # For preprocessing\n",
    "\n",
    "import logging  # Setting up the loggings to monitor gensim\n",
    "logging.basicConfig(format=\"%(levelname)s - %(asctime)s: %(message)s\", datefmt= '%H:%M:%S', level=logging.INFO)"
   ]
  },
  {
   "cell_type": "markdown",
   "metadata": {
    "_uuid": "8ec7ce784f6d9e7f71e2b5789b1e65ec4414628b",
    "colab_type": "text",
    "id": "Te-ZaDRvnOYw"
   },
   "source": [
    "## The data\n",
    "The DoCA NYT news articles raw texts were collected from ProQuest by matching news article titles with doca news article title. We only provide you 2000 articles for this tutorial. If your mac has limited RAM, you can then randomly select 1000 articles, but you can try to use 2K articles.\n",
    "\n",
    "Again you can access the data set via this [link](https://yongjunzhang.com/intro2css/assets/files/data_doca.csv).\n",
    "You can also access doca data set here: <https://web.stanford.edu/group/collectiveaction/cgi-bin/drupal/node/21>\n",
    "You can match article data with doca main dataset to retrieve more covariates. DOCA coded all news artcles. If you have any research ideas regarding using the DOCA raw NYT news articles, plz let me know. We can think about some research ideas maybe in the future.\n",
    "\n",
    "# Preprocessing\n",
    "\n",
    "We keep only two variables:\n",
    "* `title_doca`: the news article title for doca in case that you want to match the data with doca_main data.\n",
    "* `text`: the raw text for news articles related to protest"
   ]
  },
  {
   "cell_type": "code",
   "execution_count": 43,
   "metadata": {
    "_uuid": "6453b9c3f797e51923e030090ead659253f4e459",
    "colab": {},
    "colab_type": "code",
    "id": "1r3K-b8bnOYy"
   },
   "outputs": [
    {
     "data": {
      "text/plain": [
       "(2000, 3)"
      ]
     },
     "execution_count": 43,
     "metadata": {},
     "output_type": "execute_result"
    }
   ],
   "source": [
    "import os\n",
    "os.getcwd() # check the working directory...\n",
    "# in python, we use pandas to read and manipulate data...it is similar to R dataframe...\n",
    "df = pd.read_csv('data_doca.csv').sample(n=2000).reset_index() # large text data\n",
    "df.shape"
   ]
  },
  {
   "cell_type": "code",
   "execution_count": 44,
   "metadata": {
    "_uuid": "c6c6bf4462fb4bc00c2abdbf65eced888219f364",
    "colab": {},
    "colab_type": "code",
    "id": "FKD343qknOY6",
    "outputId": "9df80613-63ed-4682-c7c4-26e565090d69"
   },
   "outputs": [
    {
     "data": {
      "text/html": [
       "<div>\n",
       "<style scoped>\n",
       "    .dataframe tbody tr th:only-of-type {\n",
       "        vertical-align: middle;\n",
       "    }\n",
       "\n",
       "    .dataframe tbody tr th {\n",
       "        vertical-align: top;\n",
       "    }\n",
       "\n",
       "    .dataframe thead th {\n",
       "        text-align: right;\n",
       "    }\n",
       "</style>\n",
       "<table border=\"1\" class=\"dataframe\">\n",
       "  <thead>\n",
       "    <tr style=\"text-align: right;\">\n",
       "      <th></th>\n",
       "      <th>index</th>\n",
       "      <th>title_doca</th>\n",
       "      <th>text</th>\n",
       "    </tr>\n",
       "  </thead>\n",
       "  <tbody>\n",
       "    <tr>\n",
       "      <th>0</th>\n",
       "      <td>1432</td>\n",
       "      <td>FIRE RAZES SCHOOL THAT HELPED MARCH</td>\n",
       "      <td>FIRE RAZES SCHOOL THAT HELPED MARCH\\nNew York ...</td>\n",
       "    </tr>\n",
       "    <tr>\n",
       "      <th>1</th>\n",
       "      <td>614</td>\n",
       "      <td>Antiwar Protests Erupt Across US</td>\n",
       "      <td>ANTIWAR PROTESTS ERUPT ACROSS U.S.: COLUMBIA R...</td>\n",
       "    </tr>\n",
       "    <tr>\n",
       "      <th>2</th>\n",
       "      <td>1461</td>\n",
       "      <td>3 NEGRO STUDENTS GET POLICE ESCORT</td>\n",
       "      <td>3 NEGRO STUDENTS GET POLICE ESCORT: PARENTS TE...</td>\n",
       "    </tr>\n",
       "    <tr>\n",
       "      <th>3</th>\n",
       "      <td>681</td>\n",
       "      <td>NEW ROCHELLE HIGH SHUT</td>\n",
       "      <td>New Rochelle High Shut\\n\\nSpecial to The New Y...</td>\n",
       "    </tr>\n",
       "    <tr>\n",
       "      <th>4</th>\n",
       "      <td>350</td>\n",
       "      <td>SPLIT AMONG JERSEY CUBANS IS POINTED UP BY BOM...</td>\n",
       "      <td>Split Among, Jersey Cubans Is Pointed Up by Bo...</td>\n",
       "    </tr>\n",
       "  </tbody>\n",
       "</table>\n",
       "</div>"
      ],
      "text/plain": [
       "   index                                         title_doca  \\\n",
       "0   1432                FIRE RAZES SCHOOL THAT HELPED MARCH   \n",
       "1    614                   Antiwar Protests Erupt Across US   \n",
       "2   1461                 3 NEGRO STUDENTS GET POLICE ESCORT   \n",
       "3    681                             NEW ROCHELLE HIGH SHUT   \n",
       "4    350  SPLIT AMONG JERSEY CUBANS IS POINTED UP BY BOM...   \n",
       "\n",
       "                                                text  \n",
       "0  FIRE RAZES SCHOOL THAT HELPED MARCH\\nNew York ...  \n",
       "1  ANTIWAR PROTESTS ERUPT ACROSS U.S.: COLUMBIA R...  \n",
       "2  3 NEGRO STUDENTS GET POLICE ESCORT: PARENTS TE...  \n",
       "3  New Rochelle High Shut\\n\\nSpecial to The New Y...  \n",
       "4  Split Among, Jersey Cubans Is Pointed Up by Bo...  "
      ]
     },
     "execution_count": 44,
     "metadata": {},
     "output_type": "execute_result"
    }
   ],
   "source": [
    "df.head() # check the top 5 rows for a look"
   ]
  },
  {
   "cell_type": "markdown",
   "metadata": {
    "colab_type": "text",
    "id": "t57Hlu-pGjoe"
   },
   "source": [
    "Let us dive into one example. See raw text"
   ]
  },
  {
   "cell_type": "code",
   "execution_count": 45,
   "metadata": {
    "_uuid": "3a15727caeba1c8d10573456640d0b8b9f2f2e2d",
    "colab": {},
    "colab_type": "code",
    "id": "_QjYuIEFnOY_",
    "outputId": "fbf01646-5624-459d-c370-454ccfb73eae"
   },
   "outputs": [
    {
     "data": {
      "text/plain": [
       "\"FIRE RAZES SCHOOL THAT HELPED MARCH\\nNew York Times (1923-Current fle); Jun 25, 1966; ProQuest Historical Newspapers: The New York Times\\n\\nFIRE RAZES SCHOOL\\nTHAT HELPED MARCH\\n\\nCARTHAGE, Miss., June 24\\n(AP)—A rural Roman Catholic\\nmission school for Negroes near\\nhere was destroyed by fire early\\ntoday. The Federal Bureau of\\nInvestigation said it was looking into possible violations of\\nFederal law.\\n\\nA staff member at the school,\\nthe Rev. Luke Mikschl of New\\nYork, said dynamite had been\\nthrown on the school grounds\\n“on several occasions” since it\\nbegan classes for Negro adults\\nlast February, No one was hurt\\nby the blasts, he said.\\n\\nThe school, St. Joachim, was\\noperated by the Trinitarian Missionaries. It was situated six\\nmiles northwest of Carthage-—\\na town half way between Mississippi's two cities of current\\nracial tensions, Canton and Philadelphia, and had given refuge\\nto civil rights marchers.\\n\\nLeake County Sheriff Russell\\nEdwards could not be reached,\\nbut a spokesman in his office\\nhere said no record of the fire\\nhad been received. .\\n\\nThe FBI. said an explosive\\nhad been detonated at the\\nschool “on at least one occasion\\npreviously.” Antipoverty program literacy classes for adults\\nwere begun at the school in\\nFebruary.\\n\\nReproduced with permission of the copyright owner. Further reproduction prohibited without permission.\""
      ]
     },
     "execution_count": 45,
     "metadata": {},
     "output_type": "execute_result"
    }
   ],
   "source": [
    "df[\"text\"][0]"
   ]
  },
  {
   "cell_type": "markdown",
   "metadata": {
    "_uuid": "885a555596d7484841ea54c94405d03d90572396",
    "colab_type": "text",
    "id": "T0NIYTEwnOZD"
   },
   "source": [
    "Removing the missing values:"
   ]
  },
  {
   "cell_type": "markdown",
   "metadata": {
    "_uuid": "7f07dca2a2656dcd9e0c315afa36af32a992eef7",
    "colab_type": "text",
    "id": "2e8vhRPTnOZJ"
   },
   "source": [
    "## Cleaning:\n",
    "We need to remove those urgly punctuations\n",
    "We are lemmatizing and removing the stopwords and non-alphabetic characters for each line of dialogue.\n",
    "We use spacy library to do text processing. You can check here for more details <https://spacy.io/usage/processing-pipelines>"
   ]
  },
  {
   "cell_type": "code",
   "execution_count": 46,
   "metadata": {
    "_uuid": "b26a0c01c5701630d3951cfc808a9d944eea6371",
    "colab": {},
    "colab_type": "code",
    "id": "BpIk_iwynOZL"
   },
   "outputs": [],
   "source": [
    "nlp = spacy.load('en_core_web_sm', disable=['ner', 'parser']) # disabling Named Entity Recognition for speed\n",
    "## Josh comments: you need to download en_core_web_sm using \"python -m spacy download en_core_web_sm\"\n",
    "def cleaning(doc):\n",
    "    # Lemmatizes and removes stopwords\n",
    "    # doc needs to be a spacy Doc object\n",
    "    txt = [token.lemma_ for token in doc if not token.is_stop]\n",
    "    return ' '.join(txt)"
   ]
  },
  {
   "cell_type": "markdown",
   "metadata": {
    "_uuid": "f686964722eede40e5961cd232aee7b6dd587bd1",
    "colab_type": "text",
    "id": "Lb-3nXQPnOZP"
   },
   "source": [
    "Let us removes non-alphabetic characters:"
   ]
  },
  {
   "cell_type": "code",
   "execution_count": 47,
   "metadata": {
    "_uuid": "b45598934171607242ca7d50f8c5f7c91411aace",
    "colab": {},
    "colab_type": "code",
    "id": "i1Hn8euUnOZQ"
   },
   "outputs": [],
   "source": [
    "brief_cleaning = (re.sub(\"[^A-Za-z']+\", ' ', str(row)).lower() for row in df['text'])"
   ]
  },
  {
   "cell_type": "markdown",
   "metadata": {
    "_uuid": "2360160a7f326a32d56f2f18782d7ce2f4ac1def",
    "colab_type": "text",
    "id": "-LjUyfq4nOZT"
   },
   "source": [
    "Taking advantage of spaCy .pipe() attribute to speed-up the cleaning process:"
   ]
  },
  {
   "cell_type": "code",
   "execution_count": 48,
   "metadata": {
    "_uuid": "fa44ca458c970ca229426779e6ffcd46c2de313c",
    "colab": {},
    "colab_type": "code",
    "id": "BRlffNTRnOZU"
   },
   "outputs": [
    {
     "name": "stdout",
     "output_type": "stream",
     "text": [
      "Time to clean up everything: 0.46 mins\n"
     ]
    }
   ],
   "source": [
    "t = time()\n",
    "\n",
    "txt = [cleaning(doc) for doc in nlp.pipe(brief_cleaning, batch_size=5000, n_threads=-1)]\n",
    "\n",
    "print('Time to clean up everything: {} mins'.format(round((time() - t) / 60, 2)))"
   ]
  },
  {
   "cell_type": "markdown",
   "metadata": {
    "_uuid": "65ec76c60f9fe93bba6909f4e696f90e3e54710b",
    "colab_type": "text",
    "id": "hqZsoZZZnOZX"
   },
   "source": [
    "Put the results in a DataFrame to remove missing values and duplicates:"
   ]
  },
  {
   "cell_type": "code",
   "execution_count": 54,
   "metadata": {
    "_uuid": "57f1eb8382554bc592d48915a903230b5b6d6cf7",
    "colab": {},
    "colab_type": "code",
    "id": "MBtJa7QynOZY"
   },
   "outputs": [
    {
     "data": {
      "text/plain": [
       "(1980, 1)"
      ]
     },
     "execution_count": 54,
     "metadata": {},
     "output_type": "execute_result"
    }
   ],
   "source": [
    "df_clean = pd.DataFrame({'clean': txt})\n",
    "df_clean = df_clean.dropna().drop_duplicates()\n",
    "df_clean.shape"
   ]
  },
  {
   "cell_type": "markdown",
   "metadata": {
    "_uuid": "31b4a744059df490ddb47ab6cdec008dc929ede3",
    "colab_type": "text",
    "id": "G-3CO52AnOZf"
   },
   "source": [
    "## Bigrams:\n",
    "We are using Gensim Phrases package to automatically detect common phrases (bigrams) from a list of sentences.\n",
    "https://radimrehurek.com/gensim/models/phrases.html\n",
    "\n",
    "The main reason we do this is to catch words like \"new york\" or \"social movement\" !"
   ]
  },
  {
   "cell_type": "code",
   "execution_count": 55,
   "metadata": {
    "_uuid": "af6d420284a0ff7a7407d4c526754ffe850d6170",
    "colab": {},
    "colab_type": "code",
    "id": "8HPLPx1cnOZg"
   },
   "outputs": [],
   "source": [
    "from gensim.models.phrases import Phrases, Phraser"
   ]
  },
  {
   "cell_type": "markdown",
   "metadata": {
    "_uuid": "788aec3c82788101db25d4ca6105ee133fecae7c",
    "colab_type": "text",
    "id": "yXqWVsiTnOZj"
   },
   "source": [
    "As `Phrases()` takes a list of list of words as input:"
   ]
  },
  {
   "cell_type": "code",
   "execution_count": 56,
   "metadata": {
    "_uuid": "f58487ff08d8812622fd7aef36139f1c850add18",
    "colab": {},
    "colab_type": "code",
    "id": "wvWAu3xpnOZl"
   },
   "outputs": [],
   "source": [
    "article = [row.split() for row in df_clean['clean']]"
   ]
  },
  {
   "cell_type": "markdown",
   "metadata": {
    "_uuid": "bb7766b322cbc1d3381912b890585eb249ac5304",
    "colab_type": "text",
    "id": "O8GlLzChnOZp"
   },
   "source": [
    "Creates the relevant phrases from the list of articles:"
   ]
  },
  {
   "cell_type": "code",
   "execution_count": 57,
   "metadata": {
    "_uuid": "8befad8c76c54bd2b831b0942a2f626f7d8a6dac",
    "colab": {},
    "colab_type": "code",
    "id": "bDaA0RMLnOZr"
   },
   "outputs": [
    {
     "name": "stderr",
     "output_type": "stream",
     "text": [
      "INFO - 10:30:37: collecting all words and their counts\n",
      "INFO - 10:30:37: PROGRESS: at sentence #0, processed 0 words and 0 word types\n",
      "INFO - 10:30:38: collected 453893 word types from a corpus of 662842 words (unigram + bigrams) and 1980 sentences\n",
      "INFO - 10:30:38: using 453893 counts as vocab in Phrases<0 vocab, min_count=3, threshold=10.0, max_vocab_size=40000000>\n"
     ]
    }
   ],
   "source": [
    "phrases = Phrases(article, min_count=3)"
   ]
  },
  {
   "cell_type": "markdown",
   "metadata": {},
   "source": [
    "Phrases function Parameters\n",
    "\n",
    "sentences (iterable of list of str, optional) – The sentences iterable can be simply a list, but for larger corpora, consider a generator that streams the sentences directly from disk/network, See BrownCorpus, Text8Corpus or LineSentence for such examples.\n",
    "\n",
    "min_count (float, optional) – Ignore all words and bigrams with total collected count lower than this value.\n",
    "\n",
    "threshold (float, optional) – Represent a score threshold for forming the phrases (higher means fewer phrases). A phrase of words a followed by b is accepted if the score of the phrase is greater than threshold. Heavily depends on concrete scoring-function, see the scoring parameter.\n",
    "\n",
    "max_vocab_size (int, optional) – Maximum size (number of tokens) of the vocabulary. Used to control pruning of less common words, to keep memory under control. The default of 40M needs about 3.6GB of RAM. Increase/decrease max_vocab_size depending on how much available memory you have.\n",
    "\n",
    "delimiter (str, optional) – Glue character used to join collocation tokens, should be a byte string (e.g. b’_’).\n",
    "\n",
    "scoring ({'default', 'npmi', function}, optional) –\n",
    "\n",
    "Specify how potential phrases are scored. scoring can be set with either a string that refers to a built-in scoring function, or with a function with the expected parameter names. Two built-in scoring functions are available by setting scoring to a string:\n",
    "\n",
    "”default” - original_scorer().\n",
    "\n",
    "”npmi” - npmi_scorer().\n",
    "\n",
    "common_terms (set of str, optional) – List of “stop words” that won’t affect frequency count of expressions containing them. Allow to detect expressions like “bank_of_america” or “eye_of_the_beholder”."
   ]
  },
  {
   "cell_type": "markdown",
   "metadata": {
    "_uuid": "45bae4a953f2ad8951e4efb234e1e357857a33b3",
    "colab_type": "text",
    "id": "d1fhYzwmnOZx"
   },
   "source": [
    "The goal of Phraser() is to cut down memory consumption of Phrases(), by discarding model state not strictly needed for the bigram detection task:"
   ]
  },
  {
   "cell_type": "code",
   "execution_count": 58,
   "metadata": {
    "_kg_hide-input": true,
    "_uuid": "b8ae81ba230013aefe7c584338de7376fedf6294",
    "colab": {},
    "colab_type": "code",
    "id": "Juw1Tp_lnOZx"
   },
   "outputs": [
    {
     "name": "stderr",
     "output_type": "stream",
     "text": [
      "INFO - 10:30:40: source_vocab length 453893\n",
      "INFO - 10:30:43: Phraser built with 6551 phrasegrams\n"
     ]
    }
   ],
   "source": [
    "bigram = Phraser(phrases)"
   ]
  },
  {
   "cell_type": "markdown",
   "metadata": {
    "_uuid": "4a58380f19d159688aeee665d1afb96289fdd4b8",
    "colab_type": "text",
    "id": "yC7qD51unOZ1"
   },
   "source": [
    "Transform the corpus based on the bigrams detected:"
   ]
  },
  {
   "cell_type": "code",
   "execution_count": 59,
   "metadata": {
    "_uuid": "8051b56890c147119db3df529d3cfd3cf675fdca",
    "colab": {},
    "colab_type": "code",
    "id": "mSxjufoknOZ1"
   },
   "outputs": [],
   "source": [
    "articles = bigram[article]"
   ]
  },
  {
   "cell_type": "markdown",
   "metadata": {
    "_uuid": "a4f81e8bb2c09a67b00cd24db28353eca8ae188c",
    "colab_type": "text",
    "id": "xlft2dy3nOZ7"
   },
   "source": [
    "## Most Frequent Words:\n",
    "Mainly a sanity check of the effectiveness of the lemmatization, removal of stopwords, and addition of bigrams."
   ]
  },
  {
   "cell_type": "code",
   "execution_count": 60,
   "metadata": {
    "_uuid": "eeb8afe1cfcb7ba65bd14d657455600acacf39ba",
    "colab": {},
    "colab_type": "code",
    "id": "E6PlvUlQnOZ8"
   },
   "outputs": [
    {
     "data": {
      "text/plain": [
       "45255"
      ]
     },
     "execution_count": 60,
     "metadata": {},
     "output_type": "execute_result"
    }
   ],
   "source": [
    "word_freq = defaultdict(int)\n",
    "for article in articles:\n",
    "    for i in article:\n",
    "        word_freq[i] += 1\n",
    "len(word_freq)"
   ]
  },
  {
   "cell_type": "code",
   "execution_count": 61,
   "metadata": {
    "_uuid": "5b010149150b2b2eaf332d79bcde0649b8a3c2b5",
    "colab": {},
    "colab_type": "code",
    "id": "JHvmdzG0nOaA"
   },
   "outputs": [
    {
     "data": {
      "text/plain": [
       "['say',\n",
       " 's',\n",
       " 'new_york',\n",
       " 'student',\n",
       " 'mr',\n",
       " 'group',\n",
       " 'york_times',\n",
       " 'school',\n",
       " 'city',\n",
       " 'black']"
      ]
     },
     "execution_count": 61,
     "metadata": {},
     "output_type": "execute_result"
    }
   ],
   "source": [
    "sorted(word_freq, key=word_freq.get, reverse=True)[:10]"
   ]
  },
  {
   "cell_type": "markdown",
   "metadata": {
    "_uuid": "500ab7b5c84dc006d7945f339c40725a82856fdf",
    "colab_type": "text",
    "id": "rn6Y7bQ3nOaE"
   },
   "source": [
    "# Training the model\n",
    "## Gensim Word2Vec Implementation:\n",
    "We use Gensim implementation of word2vec: https://radimrehurek.com/gensim/models/word2vec.html\n",
    "\n",
    "BEFORE WE DIVE INTO TRAINING OUR OWN MODEL, LET US SEE A DEMO FIRST\n",
    "\n",
    "To see what Word2Vec can do, let’s download a pre-trained model and play around with it. We will fetch the Word2Vec model trained on part of the Google News dataset, covering approximately 3 million words and phrases. Downloading and loading it with Gensim takes minutes.\n",
    "The model is approximately 2GB, so you’ll need a decent network connection and enough storage to proceed. Otherwise, skip ahead to the “Training Our Own Model” section below.\n",
    "\n",
    "You can download google news dataset here <https://drive.google.com/file/d/0B7XkCwpI5KDYNlNUTTlSS21pQmM/edit?usp=sharing>"
   ]
  },
  {
   "cell_type": "code",
   "execution_count": 62,
   "metadata": {},
   "outputs": [
    {
     "name": "stderr",
     "output_type": "stream",
     "text": [
      "INFO - 10:30:54: loading projection weights from GoogleNews-vectors-negative300.bin.gz\n",
      "INFO - 10:31:24: loaded (3000000, 300) matrix from GoogleNews-vectors-negative300.bin.gz\n"
     ]
    }
   ],
   "source": [
    "from gensim.models import KeyedVectors\n",
    "model = KeyedVectors.load_word2vec_format('GoogleNews-vectors-negative300.bin.gz', binary=True)"
   ]
  },
  {
   "cell_type": "markdown",
   "metadata": {},
   "source": [
    "A common operation is to retrieve the vocabulary of a model. That is trivial:"
   ]
  },
  {
   "cell_type": "code",
   "execution_count": 63,
   "metadata": {},
   "outputs": [
    {
     "name": "stdout",
     "output_type": "stream",
     "text": [
      "</s>\n",
      "in\n",
      "for\n",
      "that\n",
      "is\n",
      "on\n",
      "##\n",
      "The\n",
      "with\n",
      "said\n"
     ]
    }
   ],
   "source": [
    "for i, word in enumerate(model.vocab):\n",
    "    if i == 10:\n",
    "        break\n",
    "    print(word)"
   ]
  },
  {
   "cell_type": "markdown",
   "metadata": {},
   "source": [
    "Word2Vec supports several word similarity tasks out of the box. You can see how the similarity intuitively decreases as the words get less and less similar."
   ]
  },
  {
   "cell_type": "code",
   "execution_count": 64,
   "metadata": {},
   "outputs": [
    {
     "name": "stdout",
     "output_type": "stream",
     "text": [
      "'car'\t'minivan'\t0.69\n",
      "'car'\t'bicycle'\t0.54\n",
      "'car'\t'airplane'\t0.42\n",
      "'car'\t'cereal'\t0.14\n",
      "'car'\t'communism'\t0.06\n"
     ]
    }
   ],
   "source": [
    "pairs = [\n",
    "    ('car', 'minivan'),   # a minivan is a kind of car\n",
    "    ('car', 'bicycle'),   # still a wheeled vehicle\n",
    "    ('car', 'airplane'),  # ok, no wheels, but still a vehicle\n",
    "    ('car', 'cereal'),    # ... and so on\n",
    "    ('car', 'communism'),\n",
    "]\n",
    "for w1, w2 in pairs:\n",
    "    print('%r\\t%r\\t%.2f' % (w1, w2, model.similarity(w1, w2)))"
   ]
  },
  {
   "cell_type": "markdown",
   "metadata": {},
   "source": [
    "Check here for a description of cosine similairty <https://en.wikipedia.org/wiki/Cosine_similarity>"
   ]
  },
  {
   "cell_type": "code",
   "execution_count": 65,
   "metadata": {},
   "outputs": [
    {
     "name": "stderr",
     "output_type": "stream",
     "text": [
      "INFO - 10:31:48: precomputing L2-norms of word weight vectors\n"
     ]
    },
    {
     "name": "stdout",
     "output_type": "stream",
     "text": [
      "[('SUV', 0.853219211101532), ('vehicle', 0.8175784349441528), ('pickup_truck', 0.7763689160346985), ('Jeep', 0.7567334175109863), ('Ford_Explorer', 0.756571888923645)]\n",
      "car\n"
     ]
    },
    {
     "name": "stderr",
     "output_type": "stream",
     "text": [
      "/Library/Frameworks/Python.framework/Versions/3.8/lib/python3.8/site-packages/gensim/models/keyedvectors.py:877: FutureWarning: arrays to stack must be passed as a \"sequence\" type such as list or tuple. Support for non-sequence iterables such as generators is deprecated as of NumPy 1.16 and will raise an error in the future.\n",
      "  vectors = vstack(self.word_vec(word, use_norm=True) for word in used_words).astype(REAL)\n"
     ]
    }
   ],
   "source": [
    "print(model.most_similar(positive=['car', 'minivan'], topn=5)) #Print the 5 most similar words to “car” or “minivan”\n",
    "print(model.doesnt_match(['fire', 'water', 'land', 'sea', 'air', 'car'])) #Print the one that does not belong in the sequence?\n"
   ]
  },
  {
   "cell_type": "code",
   "execution_count": 66,
   "metadata": {
    "_uuid": "3269be205cadbad499aa87890893d92da6adc796",
    "colab": {},
    "colab_type": "code",
    "id": "W9Uxyr9vnOaE"
   },
   "outputs": [],
   "source": [
    "import multiprocessing\n",
    "\n",
    "from gensim.models import Word2Vec"
   ]
  },
  {
   "cell_type": "markdown",
   "metadata": {
    "_uuid": "7c524bc49c41a6c37f9e754a38797c9501202090",
    "colab_type": "text",
    "id": "KvBiPeGFnOaJ"
   },
   "source": [
    "## Train our OWN model\n",
    "1. `Word2Vec()`: In this first step, set up the parameters of the model one-by-one.\n",
    "2. `.build_vocab()`: Here it builds the vocabulary from a sequence of sentences and thus initialized the model.\n",
    "3. `.train()`: Finally, trains the model."
   ]
  },
  {
   "cell_type": "code",
   "execution_count": 67,
   "metadata": {
    "_uuid": "03488d9b68963579c96094aca88a302c9f2753a7",
    "colab": {},
    "colab_type": "code",
    "id": "T7GnlylNnOaJ"
   },
   "outputs": [
    {
     "data": {
      "text/plain": [
       "16"
      ]
     },
     "execution_count": 67,
     "metadata": {},
     "output_type": "execute_result"
    }
   ],
   "source": [
    "cores = multiprocessing.cpu_count() # Count the number of cores in a computer\n",
    "cores"
   ]
  },
  {
   "cell_type": "markdown",
   "metadata": {
    "_uuid": "89c305fcd163488441ac2ac6133678bd973b4419",
    "colab_type": "text",
    "id": "Vt0V9Cd1nOaN"
   },
   "source": [
    "## The parameters:\n",
    "\n",
    "sentences (iterable of iterables, optional) – The sentences iterable can be simply a list of lists of tokens, but for larger corpora, consider an iterable that streams the sentences directly from disk/network. See BrownCorpus, Text8Corpus or LineSentence in word2vec module for such examples. See also the tutorial on data streaming in Python. If you don’t supply sentences, the model is left uninitialized – use if you plan to initialize it in some other way.\n",
    "\n",
    "corpus_file (str, optional) – Path to a corpus file in LineSentence format. You may use this argument instead of sentences to get performance boost. Only one of sentences or corpus_file arguments need to be passed (or none of them, in that case, the model is left uninitialized).\n",
    "\n",
    "size (int, optional) – Dimensionality of the word vectors.\n",
    "\n",
    "window (int, optional) – Maximum distance between the current and predicted word within a sentence.\n",
    "\n",
    "min_count (int, optional) – Ignores all words with total frequency lower than this.\n",
    "\n",
    "workers (int, optional) – Use these many worker threads to train the model (=faster training with multicore machines).\n",
    "\n",
    "sg ({0, 1}, optional) – Training algorithm: 1 for skip-gram; otherwise CBOW.\n",
    "\n",
    "hs ({0, 1}, optional) – If 1, hierarchical softmax will be used for model training. If 0, and negative is non-zero, negative sampling will be used.\n",
    "\n",
    "negative (int, optional) – If > 0, negative sampling will be used, the int for negative specifies how many “noise words” should be drawn (usually between 5-20). If set to 0, no negative sampling is used.\n",
    "\n",
    "ns_exponent (float, optional) – The exponent used to shape the negative sampling distribution. A value of 1.0 samples exactly in proportion to the frequencies, 0.0 samples all words equally, while a negative value samples low-frequency words more than high-frequency words. The popular default value of 0.75 was chosen by the original Word2Vec paper. More recently, in https://arxiv.org/abs/1804.04212, Caselles-Dupré, Lesaint, & Royo-Letelier suggest that other values may perform better for recommendation applications.\n",
    "\n",
    "cbow_mean ({0, 1}, optional) – If 0, use the sum of the context word vectors. If 1, use the mean, only applies when cbow is used.\n",
    "\n",
    "alpha (float, optional) – The initial learning rate.\n",
    "\n",
    "min_alpha (float, optional) – Learning rate will linearly drop to min_alpha as training progresses.\n",
    "\n",
    "seed (int, optional) – Seed for the random number generator. Initial vectors for each word are seeded with a hash of the concatenation of word + str(seed). Note that for a fully deterministically-reproducible run, you must also limit the model to a single worker thread (workers=1), to eliminate ordering jitter from OS thread scheduling. (In Python 3, reproducibility between interpreter launches also requires use of the PYTHONHASHSEED environment variable to control hash randomization).\n",
    "\n",
    "max_vocab_size (int, optional) – Limits the RAM during vocabulary building; if there are more unique words than this, then prune the infrequent ones. Every 10 million word types need about 1GB of RAM. Set to None for no limit.\n",
    "\n",
    "max_final_vocab (int, optional) – Limits the vocab to a target vocab size by automatically picking a matching min_count. If the specified min_count is more than the calculated min_count, the specified min_count will be used. Set to None if not required.\n",
    "\n",
    "sample (float, optional) – The threshold for configuring which higher-frequency words are randomly downsampled, useful range is (0, 1e-5).\n",
    "\n",
    "hashfxn (function, optional) – Hash function to use to randomly initialize weights, for increased training reproducibility.\n",
    "\n",
    "iter (int, optional) – Number of iterations (epochs) over the corpus.\n",
    "\n",
    "trim_rule (function, optional) –\n",
    "\n",
    "Vocabulary trimming rule, specifies whether certain words should remain in the vocabulary, be trimmed away, or handled using the default (discard if word count < min_count). Can be None (min_count will be used, look to keep_vocab_item()), or a callable that accepts parameters (word, count, min_count) and returns either gensim.utils.RULE_DISCARD, gensim.utils.RULE_KEEP or gensim.utils.RULE_DEFAULT. The rule, if given, is only used to prune vocabulary during build_vocab() and is not stored as part of the model.\n",
    "\n",
    "The input parameters are of the following types:\n",
    "word (str) - the word we are examining\n",
    "\n",
    "count (int) - the word’s frequency count in the corpus\n",
    "\n",
    "min_count (int) - the minimum count threshold.\n",
    "\n",
    "sorted_vocab ({0, 1}, optional) – If 1, sort the vocabulary by descending frequency before assigning word indexes. See sort_vocab().\n",
    "\n",
    "batch_words (int, optional) – Target size (in words) for batches of examples passed to worker threads (and thus cython routines).(Larger batches will be passed if individual texts are longer than 10000 words, but the standard cython code truncates to that maximum.)\n",
    "\n",
    "compute_loss (bool, optional) – If True, computes and stores loss value which can be retrieved using get_latest_training_loss().\n",
    "\n",
    "callbacks (iterable of CallbackAny2Vec, optional) – Sequence of callbacks to be executed at specific stages during training."
   ]
  },
  {
   "cell_type": "code",
   "execution_count": 76,
   "metadata": {
    "_uuid": "ad619db82c219d6cb81fad516563feb0c4d474cd",
    "colab": {},
    "colab_type": "code",
    "id": "SXDdW3dOnOaO"
   },
   "outputs": [],
   "source": [
    "w2v_model = Word2Vec(min_count=3,\n",
    "                     window=2,\n",
    "                     size=300,\n",
    "                     sample=6e-5, \n",
    "                     alpha=0.03, \n",
    "                     min_alpha=0.0007, \n",
    "                     negative=20,\n",
    "                     sg=0,\n",
    "                     workers=cores-1)"
   ]
  },
  {
   "cell_type": "markdown",
   "metadata": {
    "_uuid": "d7e9f1bd338f9e15647b5209ffd8fbb131cd7ee5",
    "colab_type": "text",
    "id": "nLtB36MenOaR"
   },
   "source": [
    "## Building the Vocabulary Table:\n",
    "Word2Vec requires us to build the vocabulary table (simply digesting all the words and filtering out the unique words, and doing some basic counts on them):"
   ]
  },
  {
   "cell_type": "code",
   "execution_count": 77,
   "metadata": {
    "_uuid": "66358ad743e05e17dfbed3899af9c41056143daa",
    "colab": {},
    "colab_type": "code",
    "id": "tDssrPSInOaR"
   },
   "outputs": [
    {
     "name": "stderr",
     "output_type": "stream",
     "text": [
      "INFO - 10:34:08: collecting all words and their counts\n",
      "INFO - 10:34:08: PROGRESS: at sentence #0, processed 0 words, keeping 0 word types\n",
      "INFO - 10:34:09: collected 45255 word types from a corpus of 576654 raw words and 1980 sentences\n",
      "INFO - 10:34:09: Loading a fresh vocabulary\n",
      "INFO - 10:34:09: effective_min_count=3 retains 19177 unique words (42% of original 45255, drops 26078)\n",
      "INFO - 10:34:09: effective_min_count=3 leaves 545256 word corpus (94% of original 576654, drops 31398)\n",
      "INFO - 10:34:09: deleting the raw counts dictionary of 45255 items\n",
      "INFO - 10:34:09: sample=6e-05 downsamples 1099 most-common words\n",
      "INFO - 10:34:09: downsampling leaves estimated 346596 word corpus (63.6% of prior 545256)\n",
      "INFO - 10:34:09: estimated required memory for 19177 words and 300 dimensions: 55613300 bytes\n",
      "INFO - 10:34:09: resetting layer weights\n"
     ]
    },
    {
     "name": "stdout",
     "output_type": "stream",
     "text": [
      "Time to build vocab: 0.07 mins\n"
     ]
    }
   ],
   "source": [
    "t = time()\n",
    "\n",
    "w2v_model.build_vocab(articles, progress_per=10000)\n",
    "\n",
    "print('Time to build vocab: {} mins'.format(round((time() - t) / 60, 2)))"
   ]
  },
  {
   "cell_type": "markdown",
   "metadata": {
    "_uuid": "63260d82061abb47db7f2f8b23e07ec629adf5a9",
    "colab_type": "text",
    "id": "JfduJlU_nOaU"
   },
   "source": [
    "## Training of the model:\n",
    "_Parameters of the training:_\n",
    "* `total_examples` <font color='purple'>=</font> <font color='green'>int</font> - Count of articles;\n",
    "* `epochs` <font color='purple'>=</font> <font color='green'>int</font> - Number of iterations (epochs) over the corpus - [10, 20, 30]"
   ]
  },
  {
   "cell_type": "code",
   "execution_count": 79,
   "metadata": {
    "_uuid": "07a2a047e701e512fd758edff186daadaeea6461",
    "colab": {},
    "colab_type": "code",
    "id": "whZITZc8nOaV"
   },
   "outputs": [
    {
     "name": "stderr",
     "output_type": "stream",
     "text": [
      "WARNING - 10:35:12: Effective 'alpha' higher than previous training cycles\n",
      "INFO - 10:35:12: training model with 15 workers on 19177 vocabulary and 300 features, using sg=0 hs=0 sample=6e-05 negative=20 window=2\n",
      "INFO - 10:35:13: EPOCH 1 - PROGRESS: at 66.01% examples, 219724 words/s, in_qsize 0, out_qsize 1\n",
      "INFO - 10:35:13: worker thread finished; awaiting finish of 14 more threads\n",
      "INFO - 10:35:13: worker thread finished; awaiting finish of 13 more threads\n",
      "INFO - 10:35:13: worker thread finished; awaiting finish of 12 more threads\n",
      "INFO - 10:35:13: worker thread finished; awaiting finish of 11 more threads\n",
      "INFO - 10:35:13: worker thread finished; awaiting finish of 10 more threads\n",
      "INFO - 10:35:13: worker thread finished; awaiting finish of 9 more threads\n",
      "INFO - 10:35:13: worker thread finished; awaiting finish of 8 more threads\n",
      "INFO - 10:35:13: worker thread finished; awaiting finish of 7 more threads\n",
      "INFO - 10:35:13: worker thread finished; awaiting finish of 6 more threads\n",
      "INFO - 10:35:13: worker thread finished; awaiting finish of 5 more threads\n",
      "INFO - 10:35:13: worker thread finished; awaiting finish of 4 more threads\n",
      "INFO - 10:35:14: worker thread finished; awaiting finish of 3 more threads\n",
      "INFO - 10:35:14: worker thread finished; awaiting finish of 2 more threads\n",
      "INFO - 10:35:14: worker thread finished; awaiting finish of 1 more threads\n",
      "INFO - 10:35:14: worker thread finished; awaiting finish of 0 more threads\n",
      "INFO - 10:35:14: EPOCH - 1 : training on 576654 raw words (346388 effective words) took 1.5s, 229116 effective words/s\n",
      "INFO - 10:35:15: EPOCH 2 - PROGRESS: at 66.01% examples, 222419 words/s, in_qsize 0, out_qsize 1\n",
      "INFO - 10:35:15: worker thread finished; awaiting finish of 14 more threads\n",
      "INFO - 10:35:15: worker thread finished; awaiting finish of 13 more threads\n",
      "INFO - 10:35:15: worker thread finished; awaiting finish of 12 more threads\n",
      "INFO - 10:35:15: worker thread finished; awaiting finish of 11 more threads\n",
      "INFO - 10:35:15: worker thread finished; awaiting finish of 10 more threads\n",
      "INFO - 10:35:15: worker thread finished; awaiting finish of 9 more threads\n",
      "INFO - 10:35:15: worker thread finished; awaiting finish of 8 more threads\n",
      "INFO - 10:35:15: worker thread finished; awaiting finish of 7 more threads\n",
      "INFO - 10:35:15: worker thread finished; awaiting finish of 6 more threads\n",
      "INFO - 10:35:15: worker thread finished; awaiting finish of 5 more threads\n",
      "INFO - 10:35:15: worker thread finished; awaiting finish of 4 more threads\n",
      "INFO - 10:35:15: worker thread finished; awaiting finish of 3 more threads\n",
      "INFO - 10:35:15: worker thread finished; awaiting finish of 2 more threads\n",
      "INFO - 10:35:15: worker thread finished; awaiting finish of 1 more threads\n",
      "INFO - 10:35:15: worker thread finished; awaiting finish of 0 more threads\n",
      "INFO - 10:35:15: EPOCH - 2 : training on 576654 raw words (346961 effective words) took 1.5s, 231863 effective words/s\n",
      "INFO - 10:35:16: EPOCH 3 - PROGRESS: at 66.01% examples, 223446 words/s, in_qsize 0, out_qsize 1\n",
      "INFO - 10:35:17: worker thread finished; awaiting finish of 14 more threads\n",
      "INFO - 10:35:17: worker thread finished; awaiting finish of 13 more threads\n",
      "INFO - 10:35:17: worker thread finished; awaiting finish of 12 more threads\n",
      "INFO - 10:35:17: worker thread finished; awaiting finish of 11 more threads\n",
      "INFO - 10:35:17: worker thread finished; awaiting finish of 10 more threads\n",
      "INFO - 10:35:17: worker thread finished; awaiting finish of 9 more threads\n",
      "INFO - 10:35:17: worker thread finished; awaiting finish of 8 more threads\n",
      "INFO - 10:35:17: worker thread finished; awaiting finish of 7 more threads\n",
      "INFO - 10:35:17: worker thread finished; awaiting finish of 6 more threads\n",
      "INFO - 10:35:17: worker thread finished; awaiting finish of 5 more threads\n",
      "INFO - 10:35:17: worker thread finished; awaiting finish of 4 more threads\n",
      "INFO - 10:35:17: worker thread finished; awaiting finish of 3 more threads\n",
      "INFO - 10:35:17: worker thread finished; awaiting finish of 2 more threads\n",
      "INFO - 10:35:17: worker thread finished; awaiting finish of 1 more threads\n",
      "INFO - 10:35:17: worker thread finished; awaiting finish of 0 more threads\n",
      "INFO - 10:35:17: EPOCH - 3 : training on 576654 raw words (346449 effective words) took 1.5s, 231445 effective words/s\n",
      "INFO - 10:35:18: EPOCH 4 - PROGRESS: at 66.01% examples, 226647 words/s, in_qsize 0, out_qsize 0\n",
      "INFO - 10:35:18: worker thread finished; awaiting finish of 14 more threads\n",
      "INFO - 10:35:18: worker thread finished; awaiting finish of 13 more threads\n",
      "INFO - 10:35:18: worker thread finished; awaiting finish of 12 more threads\n",
      "INFO - 10:35:18: worker thread finished; awaiting finish of 11 more threads\n",
      "INFO - 10:35:18: worker thread finished; awaiting finish of 10 more threads\n",
      "INFO - 10:35:18: worker thread finished; awaiting finish of 9 more threads\n",
      "INFO - 10:35:18: worker thread finished; awaiting finish of 8 more threads\n",
      "INFO - 10:35:18: worker thread finished; awaiting finish of 7 more threads\n",
      "INFO - 10:35:18: worker thread finished; awaiting finish of 6 more threads\n",
      "INFO - 10:35:18: worker thread finished; awaiting finish of 5 more threads\n",
      "INFO - 10:35:18: worker thread finished; awaiting finish of 4 more threads\n",
      "INFO - 10:35:18: worker thread finished; awaiting finish of 3 more threads\n",
      "INFO - 10:35:18: worker thread finished; awaiting finish of 2 more threads\n",
      "INFO - 10:35:18: worker thread finished; awaiting finish of 1 more threads\n",
      "INFO - 10:35:18: worker thread finished; awaiting finish of 0 more threads\n",
      "INFO - 10:35:18: EPOCH - 4 : training on 576654 raw words (346938 effective words) took 1.5s, 229390 effective words/s\n",
      "INFO - 10:35:19: EPOCH 5 - PROGRESS: at 66.01% examples, 225178 words/s, in_qsize 1, out_qsize 0\n",
      "INFO - 10:35:20: worker thread finished; awaiting finish of 14 more threads\n",
      "INFO - 10:35:20: worker thread finished; awaiting finish of 13 more threads\n",
      "INFO - 10:35:20: worker thread finished; awaiting finish of 12 more threads\n",
      "INFO - 10:35:20: worker thread finished; awaiting finish of 11 more threads\n",
      "INFO - 10:35:20: worker thread finished; awaiting finish of 10 more threads\n",
      "INFO - 10:35:20: worker thread finished; awaiting finish of 9 more threads\n",
      "INFO - 10:35:20: worker thread finished; awaiting finish of 8 more threads\n",
      "INFO - 10:35:20: worker thread finished; awaiting finish of 7 more threads\n",
      "INFO - 10:35:20: worker thread finished; awaiting finish of 6 more threads\n",
      "INFO - 10:35:20: worker thread finished; awaiting finish of 5 more threads\n",
      "INFO - 10:35:20: worker thread finished; awaiting finish of 4 more threads\n",
      "INFO - 10:35:20: worker thread finished; awaiting finish of 3 more threads\n",
      "INFO - 10:35:20: worker thread finished; awaiting finish of 2 more threads\n",
      "INFO - 10:35:20: worker thread finished; awaiting finish of 1 more threads\n",
      "INFO - 10:35:20: worker thread finished; awaiting finish of 0 more threads\n",
      "INFO - 10:35:20: EPOCH - 5 : training on 576654 raw words (346357 effective words) took 1.5s, 231422 effective words/s\n",
      "INFO - 10:35:21: EPOCH 6 - PROGRESS: at 66.01% examples, 219672 words/s, in_qsize 0, out_qsize 1\n",
      "INFO - 10:35:21: worker thread finished; awaiting finish of 14 more threads\n",
      "INFO - 10:35:21: worker thread finished; awaiting finish of 13 more threads\n",
      "INFO - 10:35:21: worker thread finished; awaiting finish of 12 more threads\n",
      "INFO - 10:35:21: worker thread finished; awaiting finish of 11 more threads\n",
      "INFO - 10:35:21: worker thread finished; awaiting finish of 10 more threads\n",
      "INFO - 10:35:21: worker thread finished; awaiting finish of 9 more threads\n",
      "INFO - 10:35:21: worker thread finished; awaiting finish of 8 more threads\n",
      "INFO - 10:35:21: worker thread finished; awaiting finish of 7 more threads\n",
      "INFO - 10:35:21: worker thread finished; awaiting finish of 6 more threads\n",
      "INFO - 10:35:21: worker thread finished; awaiting finish of 5 more threads\n",
      "INFO - 10:35:21: worker thread finished; awaiting finish of 4 more threads\n",
      "INFO - 10:35:21: worker thread finished; awaiting finish of 3 more threads\n",
      "INFO - 10:35:21: worker thread finished; awaiting finish of 2 more threads\n",
      "INFO - 10:35:21: worker thread finished; awaiting finish of 1 more threads\n",
      "INFO - 10:35:21: worker thread finished; awaiting finish of 0 more threads\n",
      "INFO - 10:35:21: EPOCH - 6 : training on 576654 raw words (346492 effective words) took 1.5s, 228288 effective words/s\n"
     ]
    },
    {
     "name": "stderr",
     "output_type": "stream",
     "text": [
      "INFO - 10:35:22: EPOCH 7 - PROGRESS: at 66.01% examples, 222345 words/s, in_qsize 0, out_qsize 0\n",
      "INFO - 10:35:23: worker thread finished; awaiting finish of 14 more threads\n",
      "INFO - 10:35:23: worker thread finished; awaiting finish of 13 more threads\n",
      "INFO - 10:35:23: worker thread finished; awaiting finish of 12 more threads\n",
      "INFO - 10:35:23: worker thread finished; awaiting finish of 11 more threads\n",
      "INFO - 10:35:23: worker thread finished; awaiting finish of 10 more threads\n",
      "INFO - 10:35:23: worker thread finished; awaiting finish of 9 more threads\n",
      "INFO - 10:35:23: worker thread finished; awaiting finish of 8 more threads\n",
      "INFO - 10:35:23: worker thread finished; awaiting finish of 7 more threads\n",
      "INFO - 10:35:23: worker thread finished; awaiting finish of 6 more threads\n",
      "INFO - 10:35:23: worker thread finished; awaiting finish of 5 more threads\n",
      "INFO - 10:35:23: worker thread finished; awaiting finish of 4 more threads\n",
      "INFO - 10:35:23: worker thread finished; awaiting finish of 3 more threads\n",
      "INFO - 10:35:23: worker thread finished; awaiting finish of 2 more threads\n",
      "INFO - 10:35:23: worker thread finished; awaiting finish of 1 more threads\n",
      "INFO - 10:35:23: worker thread finished; awaiting finish of 0 more threads\n",
      "INFO - 10:35:23: EPOCH - 7 : training on 576654 raw words (346518 effective words) took 1.5s, 227298 effective words/s\n",
      "INFO - 10:35:24: EPOCH 8 - PROGRESS: at 66.01% examples, 224710 words/s, in_qsize 1, out_qsize 0\n",
      "INFO - 10:35:24: worker thread finished; awaiting finish of 14 more threads\n",
      "INFO - 10:35:24: worker thread finished; awaiting finish of 13 more threads\n",
      "INFO - 10:35:24: worker thread finished; awaiting finish of 12 more threads\n",
      "INFO - 10:35:24: worker thread finished; awaiting finish of 11 more threads\n",
      "INFO - 10:35:24: worker thread finished; awaiting finish of 10 more threads\n",
      "INFO - 10:35:24: worker thread finished; awaiting finish of 9 more threads\n",
      "INFO - 10:35:24: worker thread finished; awaiting finish of 8 more threads\n",
      "INFO - 10:35:24: worker thread finished; awaiting finish of 7 more threads\n",
      "INFO - 10:35:24: worker thread finished; awaiting finish of 6 more threads\n",
      "INFO - 10:35:24: worker thread finished; awaiting finish of 5 more threads\n",
      "INFO - 10:35:24: worker thread finished; awaiting finish of 4 more threads\n",
      "INFO - 10:35:24: worker thread finished; awaiting finish of 3 more threads\n",
      "INFO - 10:35:24: worker thread finished; awaiting finish of 2 more threads\n",
      "INFO - 10:35:24: worker thread finished; awaiting finish of 1 more threads\n",
      "INFO - 10:35:24: worker thread finished; awaiting finish of 0 more threads\n",
      "INFO - 10:35:24: EPOCH - 8 : training on 576654 raw words (346670 effective words) took 1.5s, 228494 effective words/s\n",
      "INFO - 10:35:25: EPOCH 9 - PROGRESS: at 52.22% examples, 179635 words/s, in_qsize 1, out_qsize 0\n",
      "INFO - 10:35:26: worker thread finished; awaiting finish of 14 more threads\n",
      "INFO - 10:35:26: worker thread finished; awaiting finish of 13 more threads\n",
      "INFO - 10:35:26: worker thread finished; awaiting finish of 12 more threads\n",
      "INFO - 10:35:26: worker thread finished; awaiting finish of 11 more threads\n",
      "INFO - 10:35:26: worker thread finished; awaiting finish of 10 more threads\n",
      "INFO - 10:35:26: worker thread finished; awaiting finish of 9 more threads\n",
      "INFO - 10:35:26: worker thread finished; awaiting finish of 8 more threads\n",
      "INFO - 10:35:26: worker thread finished; awaiting finish of 7 more threads\n",
      "INFO - 10:35:26: worker thread finished; awaiting finish of 6 more threads\n",
      "INFO - 10:35:26: worker thread finished; awaiting finish of 5 more threads\n",
      "INFO - 10:35:26: worker thread finished; awaiting finish of 4 more threads\n",
      "INFO - 10:35:26: worker thread finished; awaiting finish of 3 more threads\n",
      "INFO - 10:35:26: worker thread finished; awaiting finish of 2 more threads\n",
      "INFO - 10:35:26: worker thread finished; awaiting finish of 1 more threads\n",
      "INFO - 10:35:26: worker thread finished; awaiting finish of 0 more threads\n",
      "INFO - 10:35:26: EPOCH - 9 : training on 576654 raw words (346789 effective words) took 1.5s, 228870 effective words/s\n",
      "INFO - 10:35:27: EPOCH 10 - PROGRESS: at 66.01% examples, 218570 words/s, in_qsize 0, out_qsize 0\n",
      "INFO - 10:35:27: worker thread finished; awaiting finish of 14 more threads\n",
      "INFO - 10:35:27: worker thread finished; awaiting finish of 13 more threads\n",
      "INFO - 10:35:27: worker thread finished; awaiting finish of 12 more threads\n",
      "INFO - 10:35:27: worker thread finished; awaiting finish of 11 more threads\n",
      "INFO - 10:35:27: worker thread finished; awaiting finish of 10 more threads\n",
      "INFO - 10:35:27: worker thread finished; awaiting finish of 9 more threads\n",
      "INFO - 10:35:27: worker thread finished; awaiting finish of 8 more threads\n",
      "INFO - 10:35:27: worker thread finished; awaiting finish of 7 more threads\n",
      "INFO - 10:35:27: worker thread finished; awaiting finish of 6 more threads\n",
      "INFO - 10:35:27: worker thread finished; awaiting finish of 5 more threads\n",
      "INFO - 10:35:27: worker thread finished; awaiting finish of 4 more threads\n",
      "INFO - 10:35:27: worker thread finished; awaiting finish of 3 more threads\n",
      "INFO - 10:35:27: worker thread finished; awaiting finish of 2 more threads\n",
      "INFO - 10:35:27: worker thread finished; awaiting finish of 1 more threads\n",
      "INFO - 10:35:27: worker thread finished; awaiting finish of 0 more threads\n",
      "INFO - 10:35:27: EPOCH - 10 : training on 576654 raw words (346723 effective words) took 1.5s, 226451 effective words/s\n",
      "INFO - 10:35:28: EPOCH 11 - PROGRESS: at 66.01% examples, 218184 words/s, in_qsize 0, out_qsize 1\n",
      "INFO - 10:35:29: worker thread finished; awaiting finish of 14 more threads\n",
      "INFO - 10:35:29: worker thread finished; awaiting finish of 13 more threads\n",
      "INFO - 10:35:29: worker thread finished; awaiting finish of 12 more threads\n",
      "INFO - 10:35:29: worker thread finished; awaiting finish of 11 more threads\n",
      "INFO - 10:35:29: worker thread finished; awaiting finish of 10 more threads\n",
      "INFO - 10:35:29: worker thread finished; awaiting finish of 9 more threads\n",
      "INFO - 10:35:29: worker thread finished; awaiting finish of 8 more threads\n",
      "INFO - 10:35:29: worker thread finished; awaiting finish of 7 more threads\n",
      "INFO - 10:35:29: worker thread finished; awaiting finish of 6 more threads\n",
      "INFO - 10:35:29: worker thread finished; awaiting finish of 5 more threads\n",
      "INFO - 10:35:29: worker thread finished; awaiting finish of 4 more threads\n",
      "INFO - 10:35:29: worker thread finished; awaiting finish of 3 more threads\n",
      "INFO - 10:35:29: worker thread finished; awaiting finish of 2 more threads\n",
      "INFO - 10:35:29: worker thread finished; awaiting finish of 1 more threads\n",
      "INFO - 10:35:29: worker thread finished; awaiting finish of 0 more threads\n",
      "INFO - 10:35:29: EPOCH - 11 : training on 576654 raw words (346608 effective words) took 1.5s, 229934 effective words/s\n",
      "INFO - 10:35:30: EPOCH 12 - PROGRESS: at 66.01% examples, 222528 words/s, in_qsize 0, out_qsize 0\n",
      "INFO - 10:35:30: worker thread finished; awaiting finish of 14 more threads\n",
      "INFO - 10:35:30: worker thread finished; awaiting finish of 13 more threads\n",
      "INFO - 10:35:30: worker thread finished; awaiting finish of 12 more threads\n",
      "INFO - 10:35:30: worker thread finished; awaiting finish of 11 more threads\n",
      "INFO - 10:35:30: worker thread finished; awaiting finish of 10 more threads\n",
      "INFO - 10:35:30: worker thread finished; awaiting finish of 9 more threads\n",
      "INFO - 10:35:30: worker thread finished; awaiting finish of 8 more threads\n",
      "INFO - 10:35:30: worker thread finished; awaiting finish of 7 more threads\n",
      "INFO - 10:35:30: worker thread finished; awaiting finish of 6 more threads\n",
      "INFO - 10:35:30: worker thread finished; awaiting finish of 5 more threads\n",
      "INFO - 10:35:30: worker thread finished; awaiting finish of 4 more threads\n",
      "INFO - 10:35:30: worker thread finished; awaiting finish of 3 more threads\n",
      "INFO - 10:35:30: worker thread finished; awaiting finish of 2 more threads\n",
      "INFO - 10:35:30: worker thread finished; awaiting finish of 1 more threads\n",
      "INFO - 10:35:30: worker thread finished; awaiting finish of 0 more threads\n",
      "INFO - 10:35:30: EPOCH - 12 : training on 576654 raw words (346862 effective words) took 1.5s, 231319 effective words/s\n",
      "INFO - 10:35:31: EPOCH 13 - PROGRESS: at 66.01% examples, 226397 words/s, in_qsize 1, out_qsize 0\n",
      "INFO - 10:35:32: worker thread finished; awaiting finish of 14 more threads\n"
     ]
    },
    {
     "name": "stderr",
     "output_type": "stream",
     "text": [
      "INFO - 10:35:32: worker thread finished; awaiting finish of 13 more threads\n",
      "INFO - 10:35:32: worker thread finished; awaiting finish of 12 more threads\n",
      "INFO - 10:35:32: worker thread finished; awaiting finish of 11 more threads\n",
      "INFO - 10:35:32: worker thread finished; awaiting finish of 10 more threads\n",
      "INFO - 10:35:32: worker thread finished; awaiting finish of 9 more threads\n",
      "INFO - 10:35:32: worker thread finished; awaiting finish of 8 more threads\n",
      "INFO - 10:35:32: worker thread finished; awaiting finish of 7 more threads\n",
      "INFO - 10:35:32: worker thread finished; awaiting finish of 6 more threads\n",
      "INFO - 10:35:32: worker thread finished; awaiting finish of 5 more threads\n",
      "INFO - 10:35:32: worker thread finished; awaiting finish of 4 more threads\n",
      "INFO - 10:35:32: worker thread finished; awaiting finish of 3 more threads\n",
      "INFO - 10:35:32: worker thread finished; awaiting finish of 2 more threads\n",
      "INFO - 10:35:32: worker thread finished; awaiting finish of 1 more threads\n",
      "INFO - 10:35:32: worker thread finished; awaiting finish of 0 more threads\n",
      "INFO - 10:35:32: EPOCH - 13 : training on 576654 raw words (346795 effective words) took 1.5s, 232184 effective words/s\n",
      "INFO - 10:35:33: EPOCH 14 - PROGRESS: at 64.39% examples, 221329 words/s, in_qsize 0, out_qsize 1\n",
      "INFO - 10:35:33: worker thread finished; awaiting finish of 14 more threads\n",
      "INFO - 10:35:33: worker thread finished; awaiting finish of 13 more threads\n",
      "INFO - 10:35:33: worker thread finished; awaiting finish of 12 more threads\n",
      "INFO - 10:35:33: worker thread finished; awaiting finish of 11 more threads\n",
      "INFO - 10:35:33: worker thread finished; awaiting finish of 10 more threads\n",
      "INFO - 10:35:33: worker thread finished; awaiting finish of 9 more threads\n",
      "INFO - 10:35:33: worker thread finished; awaiting finish of 8 more threads\n",
      "INFO - 10:35:33: worker thread finished; awaiting finish of 7 more threads\n",
      "INFO - 10:35:33: worker thread finished; awaiting finish of 6 more threads\n",
      "INFO - 10:35:33: worker thread finished; awaiting finish of 5 more threads\n",
      "INFO - 10:35:33: worker thread finished; awaiting finish of 4 more threads\n",
      "INFO - 10:35:33: worker thread finished; awaiting finish of 3 more threads\n",
      "INFO - 10:35:33: worker thread finished; awaiting finish of 2 more threads\n",
      "INFO - 10:35:33: worker thread finished; awaiting finish of 1 more threads\n",
      "INFO - 10:35:33: worker thread finished; awaiting finish of 0 more threads\n",
      "INFO - 10:35:33: EPOCH - 14 : training on 576654 raw words (346619 effective words) took 1.5s, 230914 effective words/s\n",
      "INFO - 10:35:34: EPOCH 15 - PROGRESS: at 66.01% examples, 225389 words/s, in_qsize 0, out_qsize 0\n",
      "INFO - 10:35:35: worker thread finished; awaiting finish of 14 more threads\n",
      "INFO - 10:35:35: worker thread finished; awaiting finish of 13 more threads\n",
      "INFO - 10:35:35: worker thread finished; awaiting finish of 12 more threads\n",
      "INFO - 10:35:35: worker thread finished; awaiting finish of 11 more threads\n",
      "INFO - 10:35:35: worker thread finished; awaiting finish of 10 more threads\n",
      "INFO - 10:35:35: worker thread finished; awaiting finish of 9 more threads\n",
      "INFO - 10:35:35: worker thread finished; awaiting finish of 8 more threads\n",
      "INFO - 10:35:35: worker thread finished; awaiting finish of 7 more threads\n",
      "INFO - 10:35:35: worker thread finished; awaiting finish of 6 more threads\n",
      "INFO - 10:35:35: worker thread finished; awaiting finish of 5 more threads\n",
      "INFO - 10:35:35: worker thread finished; awaiting finish of 4 more threads\n",
      "INFO - 10:35:35: worker thread finished; awaiting finish of 3 more threads\n",
      "INFO - 10:35:35: worker thread finished; awaiting finish of 2 more threads\n",
      "INFO - 10:35:35: worker thread finished; awaiting finish of 1 more threads\n",
      "INFO - 10:35:35: worker thread finished; awaiting finish of 0 more threads\n",
      "INFO - 10:35:35: EPOCH - 15 : training on 576654 raw words (346878 effective words) took 1.5s, 230032 effective words/s\n",
      "INFO - 10:35:36: EPOCH 16 - PROGRESS: at 66.01% examples, 222093 words/s, in_qsize 0, out_qsize 0\n",
      "INFO - 10:35:36: worker thread finished; awaiting finish of 14 more threads\n",
      "INFO - 10:35:36: worker thread finished; awaiting finish of 13 more threads\n",
      "INFO - 10:35:36: worker thread finished; awaiting finish of 12 more threads\n",
      "INFO - 10:35:36: worker thread finished; awaiting finish of 11 more threads\n",
      "INFO - 10:35:36: worker thread finished; awaiting finish of 10 more threads\n",
      "INFO - 10:35:36: worker thread finished; awaiting finish of 9 more threads\n",
      "INFO - 10:35:36: worker thread finished; awaiting finish of 8 more threads\n",
      "INFO - 10:35:36: worker thread finished; awaiting finish of 7 more threads\n",
      "INFO - 10:35:36: worker thread finished; awaiting finish of 6 more threads\n",
      "INFO - 10:35:36: worker thread finished; awaiting finish of 5 more threads\n",
      "INFO - 10:35:36: worker thread finished; awaiting finish of 4 more threads\n",
      "INFO - 10:35:36: worker thread finished; awaiting finish of 3 more threads\n",
      "INFO - 10:35:36: worker thread finished; awaiting finish of 2 more threads\n",
      "INFO - 10:35:36: worker thread finished; awaiting finish of 1 more threads\n",
      "INFO - 10:35:36: worker thread finished; awaiting finish of 0 more threads\n",
      "INFO - 10:35:36: EPOCH - 16 : training on 576654 raw words (346867 effective words) took 1.5s, 231456 effective words/s\n",
      "INFO - 10:35:37: EPOCH 17 - PROGRESS: at 67.78% examples, 229327 words/s, in_qsize 0, out_qsize 0\n",
      "INFO - 10:35:38: worker thread finished; awaiting finish of 14 more threads\n",
      "INFO - 10:35:38: worker thread finished; awaiting finish of 13 more threads\n",
      "INFO - 10:35:38: worker thread finished; awaiting finish of 12 more threads\n",
      "INFO - 10:35:38: worker thread finished; awaiting finish of 11 more threads\n",
      "INFO - 10:35:38: worker thread finished; awaiting finish of 10 more threads\n",
      "INFO - 10:35:38: worker thread finished; awaiting finish of 9 more threads\n",
      "INFO - 10:35:38: worker thread finished; awaiting finish of 8 more threads\n",
      "INFO - 10:35:38: worker thread finished; awaiting finish of 7 more threads\n",
      "INFO - 10:35:38: worker thread finished; awaiting finish of 6 more threads\n",
      "INFO - 10:35:38: worker thread finished; awaiting finish of 5 more threads\n",
      "INFO - 10:35:38: worker thread finished; awaiting finish of 4 more threads\n",
      "INFO - 10:35:38: worker thread finished; awaiting finish of 3 more threads\n",
      "INFO - 10:35:38: worker thread finished; awaiting finish of 2 more threads\n",
      "INFO - 10:35:38: worker thread finished; awaiting finish of 1 more threads\n",
      "INFO - 10:35:38: worker thread finished; awaiting finish of 0 more threads\n",
      "INFO - 10:35:38: EPOCH - 17 : training on 576654 raw words (346487 effective words) took 1.5s, 231104 effective words/s\n",
      "INFO - 10:35:39: EPOCH 18 - PROGRESS: at 66.01% examples, 222306 words/s, in_qsize 0, out_qsize 1\n",
      "INFO - 10:35:39: worker thread finished; awaiting finish of 14 more threads\n",
      "INFO - 10:35:39: worker thread finished; awaiting finish of 13 more threads\n",
      "INFO - 10:35:39: worker thread finished; awaiting finish of 12 more threads\n",
      "INFO - 10:35:39: worker thread finished; awaiting finish of 11 more threads\n",
      "INFO - 10:35:39: worker thread finished; awaiting finish of 10 more threads\n",
      "INFO - 10:35:39: worker thread finished; awaiting finish of 9 more threads\n",
      "INFO - 10:35:39: worker thread finished; awaiting finish of 8 more threads\n",
      "INFO - 10:35:39: worker thread finished; awaiting finish of 7 more threads\n",
      "INFO - 10:35:39: worker thread finished; awaiting finish of 6 more threads\n",
      "INFO - 10:35:39: worker thread finished; awaiting finish of 5 more threads\n",
      "INFO - 10:35:39: worker thread finished; awaiting finish of 4 more threads\n",
      "INFO - 10:35:39: worker thread finished; awaiting finish of 3 more threads\n",
      "INFO - 10:35:39: worker thread finished; awaiting finish of 2 more threads\n",
      "INFO - 10:35:39: worker thread finished; awaiting finish of 1 more threads\n",
      "INFO - 10:35:39: worker thread finished; awaiting finish of 0 more threads\n",
      "INFO - 10:35:39: EPOCH - 18 : training on 576654 raw words (346228 effective words) took 1.5s, 230697 effective words/s\n",
      "INFO - 10:35:40: EPOCH 19 - PROGRESS: at 67.78% examples, 223383 words/s, in_qsize 0, out_qsize 1\n",
      "INFO - 10:35:41: worker thread finished; awaiting finish of 14 more threads\n",
      "INFO - 10:35:41: worker thread finished; awaiting finish of 13 more threads\n",
      "INFO - 10:35:41: worker thread finished; awaiting finish of 12 more threads\n"
     ]
    },
    {
     "name": "stderr",
     "output_type": "stream",
     "text": [
      "INFO - 10:35:41: worker thread finished; awaiting finish of 11 more threads\n",
      "INFO - 10:35:41: worker thread finished; awaiting finish of 10 more threads\n",
      "INFO - 10:35:41: worker thread finished; awaiting finish of 9 more threads\n",
      "INFO - 10:35:41: worker thread finished; awaiting finish of 8 more threads\n",
      "INFO - 10:35:41: worker thread finished; awaiting finish of 7 more threads\n",
      "INFO - 10:35:41: worker thread finished; awaiting finish of 6 more threads\n",
      "INFO - 10:35:41: worker thread finished; awaiting finish of 5 more threads\n",
      "INFO - 10:35:41: worker thread finished; awaiting finish of 4 more threads\n",
      "INFO - 10:35:41: worker thread finished; awaiting finish of 3 more threads\n",
      "INFO - 10:35:41: worker thread finished; awaiting finish of 2 more threads\n",
      "INFO - 10:35:41: worker thread finished; awaiting finish of 1 more threads\n",
      "INFO - 10:35:41: worker thread finished; awaiting finish of 0 more threads\n",
      "INFO - 10:35:41: EPOCH - 19 : training on 576654 raw words (346753 effective words) took 1.5s, 231415 effective words/s\n",
      "INFO - 10:35:42: EPOCH 20 - PROGRESS: at 66.01% examples, 228117 words/s, in_qsize 0, out_qsize 0\n",
      "INFO - 10:35:42: worker thread finished; awaiting finish of 14 more threads\n",
      "INFO - 10:35:42: worker thread finished; awaiting finish of 13 more threads\n",
      "INFO - 10:35:42: worker thread finished; awaiting finish of 12 more threads\n",
      "INFO - 10:35:42: worker thread finished; awaiting finish of 11 more threads\n",
      "INFO - 10:35:42: worker thread finished; awaiting finish of 10 more threads\n",
      "INFO - 10:35:42: worker thread finished; awaiting finish of 9 more threads\n",
      "INFO - 10:35:42: worker thread finished; awaiting finish of 8 more threads\n",
      "INFO - 10:35:42: worker thread finished; awaiting finish of 7 more threads\n",
      "INFO - 10:35:42: worker thread finished; awaiting finish of 6 more threads\n",
      "INFO - 10:35:42: worker thread finished; awaiting finish of 5 more threads\n",
      "INFO - 10:35:42: worker thread finished; awaiting finish of 4 more threads\n",
      "INFO - 10:35:42: worker thread finished; awaiting finish of 3 more threads\n",
      "INFO - 10:35:42: worker thread finished; awaiting finish of 2 more threads\n",
      "INFO - 10:35:42: worker thread finished; awaiting finish of 1 more threads\n",
      "INFO - 10:35:42: worker thread finished; awaiting finish of 0 more threads\n",
      "INFO - 10:35:42: EPOCH - 20 : training on 576654 raw words (346752 effective words) took 1.5s, 231847 effective words/s\n",
      "INFO - 10:35:43: EPOCH 21 - PROGRESS: at 66.16% examples, 218830 words/s, in_qsize 0, out_qsize 1\n",
      "INFO - 10:35:44: worker thread finished; awaiting finish of 14 more threads\n",
      "INFO - 10:35:44: worker thread finished; awaiting finish of 13 more threads\n",
      "INFO - 10:35:44: worker thread finished; awaiting finish of 12 more threads\n",
      "INFO - 10:35:44: worker thread finished; awaiting finish of 11 more threads\n",
      "INFO - 10:35:44: worker thread finished; awaiting finish of 10 more threads\n",
      "INFO - 10:35:44: worker thread finished; awaiting finish of 9 more threads\n",
      "INFO - 10:35:44: worker thread finished; awaiting finish of 8 more threads\n",
      "INFO - 10:35:44: worker thread finished; awaiting finish of 7 more threads\n",
      "INFO - 10:35:44: worker thread finished; awaiting finish of 6 more threads\n",
      "INFO - 10:35:44: worker thread finished; awaiting finish of 5 more threads\n",
      "INFO - 10:35:44: worker thread finished; awaiting finish of 4 more threads\n",
      "INFO - 10:35:44: worker thread finished; awaiting finish of 3 more threads\n",
      "INFO - 10:35:44: worker thread finished; awaiting finish of 2 more threads\n",
      "INFO - 10:35:44: worker thread finished; awaiting finish of 1 more threads\n",
      "INFO - 10:35:44: worker thread finished; awaiting finish of 0 more threads\n",
      "INFO - 10:35:44: EPOCH - 21 : training on 576654 raw words (346464 effective words) took 1.5s, 231744 effective words/s\n",
      "INFO - 10:35:45: EPOCH 22 - PROGRESS: at 63.08% examples, 215473 words/s, in_qsize 0, out_qsize 1\n",
      "INFO - 10:35:45: worker thread finished; awaiting finish of 14 more threads\n",
      "INFO - 10:35:45: worker thread finished; awaiting finish of 13 more threads\n",
      "INFO - 10:35:45: worker thread finished; awaiting finish of 12 more threads\n",
      "INFO - 10:35:45: worker thread finished; awaiting finish of 11 more threads\n",
      "INFO - 10:35:45: worker thread finished; awaiting finish of 10 more threads\n",
      "INFO - 10:35:45: worker thread finished; awaiting finish of 9 more threads\n",
      "INFO - 10:35:45: worker thread finished; awaiting finish of 8 more threads\n",
      "INFO - 10:35:45: worker thread finished; awaiting finish of 7 more threads\n",
      "INFO - 10:35:45: worker thread finished; awaiting finish of 6 more threads\n",
      "INFO - 10:35:45: worker thread finished; awaiting finish of 5 more threads\n",
      "INFO - 10:35:45: worker thread finished; awaiting finish of 4 more threads\n",
      "INFO - 10:35:45: worker thread finished; awaiting finish of 3 more threads\n",
      "INFO - 10:35:45: worker thread finished; awaiting finish of 2 more threads\n",
      "INFO - 10:35:45: worker thread finished; awaiting finish of 1 more threads\n",
      "INFO - 10:35:45: worker thread finished; awaiting finish of 0 more threads\n",
      "INFO - 10:35:45: EPOCH - 22 : training on 576654 raw words (346580 effective words) took 1.5s, 230082 effective words/s\n",
      "INFO - 10:35:46: EPOCH 23 - PROGRESS: at 66.01% examples, 223349 words/s, in_qsize 1, out_qsize 0\n",
      "INFO - 10:35:47: worker thread finished; awaiting finish of 14 more threads\n",
      "INFO - 10:35:47: worker thread finished; awaiting finish of 13 more threads\n",
      "INFO - 10:35:47: worker thread finished; awaiting finish of 12 more threads\n",
      "INFO - 10:35:47: worker thread finished; awaiting finish of 11 more threads\n",
      "INFO - 10:35:47: worker thread finished; awaiting finish of 10 more threads\n",
      "INFO - 10:35:47: worker thread finished; awaiting finish of 9 more threads\n",
      "INFO - 10:35:47: worker thread finished; awaiting finish of 8 more threads\n",
      "INFO - 10:35:47: worker thread finished; awaiting finish of 7 more threads\n",
      "INFO - 10:35:47: worker thread finished; awaiting finish of 6 more threads\n",
      "INFO - 10:35:47: worker thread finished; awaiting finish of 5 more threads\n",
      "INFO - 10:35:47: worker thread finished; awaiting finish of 4 more threads\n",
      "INFO - 10:35:47: worker thread finished; awaiting finish of 3 more threads\n",
      "INFO - 10:35:47: worker thread finished; awaiting finish of 2 more threads\n",
      "INFO - 10:35:47: worker thread finished; awaiting finish of 1 more threads\n",
      "INFO - 10:35:47: worker thread finished; awaiting finish of 0 more threads\n",
      "INFO - 10:35:47: EPOCH - 23 : training on 576654 raw words (346383 effective words) took 1.5s, 229432 effective words/s\n",
      "INFO - 10:35:48: EPOCH 24 - PROGRESS: at 66.01% examples, 224155 words/s, in_qsize 1, out_qsize 0\n",
      "INFO - 10:35:48: worker thread finished; awaiting finish of 14 more threads\n",
      "INFO - 10:35:48: worker thread finished; awaiting finish of 13 more threads\n",
      "INFO - 10:35:48: worker thread finished; awaiting finish of 12 more threads\n",
      "INFO - 10:35:48: worker thread finished; awaiting finish of 11 more threads\n",
      "INFO - 10:35:48: worker thread finished; awaiting finish of 10 more threads\n",
      "INFO - 10:35:48: worker thread finished; awaiting finish of 9 more threads\n",
      "INFO - 10:35:48: worker thread finished; awaiting finish of 8 more threads\n",
      "INFO - 10:35:48: worker thread finished; awaiting finish of 7 more threads\n",
      "INFO - 10:35:48: worker thread finished; awaiting finish of 6 more threads\n",
      "INFO - 10:35:48: worker thread finished; awaiting finish of 5 more threads\n",
      "INFO - 10:35:48: worker thread finished; awaiting finish of 4 more threads\n",
      "INFO - 10:35:48: worker thread finished; awaiting finish of 3 more threads\n",
      "INFO - 10:35:48: worker thread finished; awaiting finish of 2 more threads\n",
      "INFO - 10:35:48: worker thread finished; awaiting finish of 1 more threads\n",
      "INFO - 10:35:48: worker thread finished; awaiting finish of 0 more threads\n",
      "INFO - 10:35:48: EPOCH - 24 : training on 576654 raw words (346412 effective words) took 1.5s, 231271 effective words/s\n",
      "INFO - 10:35:49: EPOCH 25 - PROGRESS: at 66.01% examples, 223409 words/s, in_qsize 0, out_qsize 0\n",
      "INFO - 10:35:50: worker thread finished; awaiting finish of 14 more threads\n",
      "INFO - 10:35:50: worker thread finished; awaiting finish of 13 more threads\n",
      "INFO - 10:35:50: worker thread finished; awaiting finish of 12 more threads\n",
      "INFO - 10:35:50: worker thread finished; awaiting finish of 11 more threads\n",
      "INFO - 10:35:50: worker thread finished; awaiting finish of 10 more threads\n"
     ]
    },
    {
     "name": "stderr",
     "output_type": "stream",
     "text": [
      "INFO - 10:35:50: worker thread finished; awaiting finish of 9 more threads\n",
      "INFO - 10:35:50: worker thread finished; awaiting finish of 8 more threads\n",
      "INFO - 10:35:50: worker thread finished; awaiting finish of 7 more threads\n",
      "INFO - 10:35:50: worker thread finished; awaiting finish of 6 more threads\n",
      "INFO - 10:35:50: worker thread finished; awaiting finish of 5 more threads\n",
      "INFO - 10:35:50: worker thread finished; awaiting finish of 4 more threads\n",
      "INFO - 10:35:50: worker thread finished; awaiting finish of 3 more threads\n",
      "INFO - 10:35:50: worker thread finished; awaiting finish of 2 more threads\n",
      "INFO - 10:35:50: worker thread finished; awaiting finish of 1 more threads\n",
      "INFO - 10:35:50: worker thread finished; awaiting finish of 0 more threads\n",
      "INFO - 10:35:50: EPOCH - 25 : training on 576654 raw words (346462 effective words) took 1.5s, 229012 effective words/s\n",
      "INFO - 10:35:51: EPOCH 26 - PROGRESS: at 64.39% examples, 216982 words/s, in_qsize 0, out_qsize 1\n",
      "INFO - 10:35:51: worker thread finished; awaiting finish of 14 more threads\n",
      "INFO - 10:35:51: worker thread finished; awaiting finish of 13 more threads\n",
      "INFO - 10:35:51: worker thread finished; awaiting finish of 12 more threads\n",
      "INFO - 10:35:51: worker thread finished; awaiting finish of 11 more threads\n",
      "INFO - 10:35:51: worker thread finished; awaiting finish of 10 more threads\n",
      "INFO - 10:35:51: worker thread finished; awaiting finish of 9 more threads\n",
      "INFO - 10:35:51: worker thread finished; awaiting finish of 8 more threads\n",
      "INFO - 10:35:51: worker thread finished; awaiting finish of 7 more threads\n",
      "INFO - 10:35:51: worker thread finished; awaiting finish of 6 more threads\n",
      "INFO - 10:35:51: worker thread finished; awaiting finish of 5 more threads\n",
      "INFO - 10:35:51: worker thread finished; awaiting finish of 4 more threads\n",
      "INFO - 10:35:51: worker thread finished; awaiting finish of 3 more threads\n",
      "INFO - 10:35:51: worker thread finished; awaiting finish of 2 more threads\n",
      "INFO - 10:35:51: worker thread finished; awaiting finish of 1 more threads\n",
      "INFO - 10:35:51: worker thread finished; awaiting finish of 0 more threads\n",
      "INFO - 10:35:51: EPOCH - 26 : training on 576654 raw words (346426 effective words) took 1.5s, 227487 effective words/s\n",
      "INFO - 10:35:52: EPOCH 27 - PROGRESS: at 64.39% examples, 221124 words/s, in_qsize 0, out_qsize 1\n",
      "INFO - 10:35:53: worker thread finished; awaiting finish of 14 more threads\n",
      "INFO - 10:35:53: worker thread finished; awaiting finish of 13 more threads\n",
      "INFO - 10:35:53: worker thread finished; awaiting finish of 12 more threads\n",
      "INFO - 10:35:53: worker thread finished; awaiting finish of 11 more threads\n",
      "INFO - 10:35:53: worker thread finished; awaiting finish of 10 more threads\n",
      "INFO - 10:35:53: worker thread finished; awaiting finish of 9 more threads\n",
      "INFO - 10:35:53: worker thread finished; awaiting finish of 8 more threads\n",
      "INFO - 10:35:53: worker thread finished; awaiting finish of 7 more threads\n",
      "INFO - 10:35:53: worker thread finished; awaiting finish of 6 more threads\n",
      "INFO - 10:35:53: worker thread finished; awaiting finish of 5 more threads\n",
      "INFO - 10:35:53: worker thread finished; awaiting finish of 4 more threads\n",
      "INFO - 10:35:53: worker thread finished; awaiting finish of 3 more threads\n",
      "INFO - 10:35:53: worker thread finished; awaiting finish of 2 more threads\n",
      "INFO - 10:35:53: worker thread finished; awaiting finish of 1 more threads\n",
      "INFO - 10:35:53: worker thread finished; awaiting finish of 0 more threads\n",
      "INFO - 10:35:53: EPOCH - 27 : training on 576654 raw words (345923 effective words) took 1.5s, 229331 effective words/s\n",
      "INFO - 10:35:54: EPOCH 28 - PROGRESS: at 64.39% examples, 220714 words/s, in_qsize 0, out_qsize 1\n",
      "INFO - 10:35:54: worker thread finished; awaiting finish of 14 more threads\n",
      "INFO - 10:35:54: worker thread finished; awaiting finish of 13 more threads\n",
      "INFO - 10:35:54: worker thread finished; awaiting finish of 12 more threads\n",
      "INFO - 10:35:54: worker thread finished; awaiting finish of 11 more threads\n",
      "INFO - 10:35:54: worker thread finished; awaiting finish of 10 more threads\n",
      "INFO - 10:35:54: worker thread finished; awaiting finish of 9 more threads\n",
      "INFO - 10:35:54: worker thread finished; awaiting finish of 8 more threads\n",
      "INFO - 10:35:54: worker thread finished; awaiting finish of 7 more threads\n",
      "INFO - 10:35:54: worker thread finished; awaiting finish of 6 more threads\n",
      "INFO - 10:35:54: worker thread finished; awaiting finish of 5 more threads\n",
      "INFO - 10:35:54: worker thread finished; awaiting finish of 4 more threads\n",
      "INFO - 10:35:54: worker thread finished; awaiting finish of 3 more threads\n",
      "INFO - 10:35:54: worker thread finished; awaiting finish of 2 more threads\n",
      "INFO - 10:35:54: worker thread finished; awaiting finish of 1 more threads\n",
      "INFO - 10:35:54: worker thread finished; awaiting finish of 0 more threads\n",
      "INFO - 10:35:54: EPOCH - 28 : training on 576654 raw words (346340 effective words) took 1.5s, 229510 effective words/s\n",
      "INFO - 10:35:55: EPOCH 29 - PROGRESS: at 64.39% examples, 218201 words/s, in_qsize 0, out_qsize 0\n",
      "INFO - 10:35:56: worker thread finished; awaiting finish of 14 more threads\n",
      "INFO - 10:35:56: worker thread finished; awaiting finish of 13 more threads\n",
      "INFO - 10:35:56: worker thread finished; awaiting finish of 12 more threads\n",
      "INFO - 10:35:56: worker thread finished; awaiting finish of 11 more threads\n",
      "INFO - 10:35:56: worker thread finished; awaiting finish of 10 more threads\n",
      "INFO - 10:35:56: worker thread finished; awaiting finish of 9 more threads\n",
      "INFO - 10:35:56: worker thread finished; awaiting finish of 8 more threads\n",
      "INFO - 10:35:56: worker thread finished; awaiting finish of 7 more threads\n",
      "INFO - 10:35:56: worker thread finished; awaiting finish of 6 more threads\n",
      "INFO - 10:35:56: worker thread finished; awaiting finish of 5 more threads\n",
      "INFO - 10:35:56: worker thread finished; awaiting finish of 4 more threads\n",
      "INFO - 10:35:56: worker thread finished; awaiting finish of 3 more threads\n",
      "INFO - 10:35:56: worker thread finished; awaiting finish of 2 more threads\n",
      "INFO - 10:35:56: worker thread finished; awaiting finish of 1 more threads\n",
      "INFO - 10:35:56: worker thread finished; awaiting finish of 0 more threads\n",
      "INFO - 10:35:56: EPOCH - 29 : training on 576654 raw words (346593 effective words) took 1.5s, 226718 effective words/s\n",
      "INFO - 10:35:57: EPOCH 30 - PROGRESS: at 62.53% examples, 215126 words/s, in_qsize 0, out_qsize 1\n",
      "INFO - 10:35:57: worker thread finished; awaiting finish of 14 more threads\n",
      "INFO - 10:35:57: worker thread finished; awaiting finish of 13 more threads\n",
      "INFO - 10:35:57: worker thread finished; awaiting finish of 12 more threads\n",
      "INFO - 10:35:57: worker thread finished; awaiting finish of 11 more threads\n",
      "INFO - 10:35:57: worker thread finished; awaiting finish of 10 more threads\n",
      "INFO - 10:35:57: worker thread finished; awaiting finish of 9 more threads\n",
      "INFO - 10:35:57: worker thread finished; awaiting finish of 8 more threads\n",
      "INFO - 10:35:57: worker thread finished; awaiting finish of 7 more threads\n",
      "INFO - 10:35:57: worker thread finished; awaiting finish of 6 more threads\n",
      "INFO - 10:35:57: worker thread finished; awaiting finish of 5 more threads\n",
      "INFO - 10:35:57: worker thread finished; awaiting finish of 4 more threads\n",
      "INFO - 10:35:57: worker thread finished; awaiting finish of 3 more threads\n",
      "INFO - 10:35:57: worker thread finished; awaiting finish of 2 more threads\n",
      "INFO - 10:35:57: worker thread finished; awaiting finish of 1 more threads\n",
      "INFO - 10:35:57: worker thread finished; awaiting finish of 0 more threads\n",
      "INFO - 10:35:57: EPOCH - 30 : training on 576654 raw words (346628 effective words) took 1.5s, 231022 effective words/s\n",
      "INFO - 10:35:59: EPOCH 31 - PROGRESS: at 66.01% examples, 222629 words/s, in_qsize 0, out_qsize 0\n",
      "INFO - 10:35:59: worker thread finished; awaiting finish of 14 more threads\n",
      "INFO - 10:35:59: worker thread finished; awaiting finish of 13 more threads\n",
      "INFO - 10:35:59: worker thread finished; awaiting finish of 12 more threads\n",
      "INFO - 10:35:59: worker thread finished; awaiting finish of 11 more threads\n",
      "INFO - 10:35:59: worker thread finished; awaiting finish of 10 more threads\n",
      "INFO - 10:35:59: worker thread finished; awaiting finish of 9 more threads\n",
      "INFO - 10:35:59: worker thread finished; awaiting finish of 8 more threads\n"
     ]
    },
    {
     "name": "stderr",
     "output_type": "stream",
     "text": [
      "INFO - 10:35:59: worker thread finished; awaiting finish of 7 more threads\n",
      "INFO - 10:35:59: worker thread finished; awaiting finish of 6 more threads\n",
      "INFO - 10:35:59: worker thread finished; awaiting finish of 5 more threads\n",
      "INFO - 10:35:59: worker thread finished; awaiting finish of 4 more threads\n",
      "INFO - 10:35:59: worker thread finished; awaiting finish of 3 more threads\n",
      "INFO - 10:35:59: worker thread finished; awaiting finish of 2 more threads\n",
      "INFO - 10:35:59: worker thread finished; awaiting finish of 1 more threads\n",
      "INFO - 10:35:59: worker thread finished; awaiting finish of 0 more threads\n",
      "INFO - 10:35:59: EPOCH - 31 : training on 576654 raw words (346503 effective words) took 1.5s, 231205 effective words/s\n",
      "INFO - 10:36:00: EPOCH 32 - PROGRESS: at 66.01% examples, 221861 words/s, in_qsize 0, out_qsize 0\n",
      "INFO - 10:36:00: worker thread finished; awaiting finish of 14 more threads\n",
      "INFO - 10:36:00: worker thread finished; awaiting finish of 13 more threads\n",
      "INFO - 10:36:00: worker thread finished; awaiting finish of 12 more threads\n",
      "INFO - 10:36:00: worker thread finished; awaiting finish of 11 more threads\n",
      "INFO - 10:36:00: worker thread finished; awaiting finish of 10 more threads\n",
      "INFO - 10:36:00: worker thread finished; awaiting finish of 9 more threads\n",
      "INFO - 10:36:00: worker thread finished; awaiting finish of 8 more threads\n",
      "INFO - 10:36:00: worker thread finished; awaiting finish of 7 more threads\n",
      "INFO - 10:36:00: worker thread finished; awaiting finish of 6 more threads\n",
      "INFO - 10:36:00: worker thread finished; awaiting finish of 5 more threads\n",
      "INFO - 10:36:00: worker thread finished; awaiting finish of 4 more threads\n",
      "INFO - 10:36:00: worker thread finished; awaiting finish of 3 more threads\n",
      "INFO - 10:36:00: worker thread finished; awaiting finish of 2 more threads\n",
      "INFO - 10:36:00: worker thread finished; awaiting finish of 1 more threads\n",
      "INFO - 10:36:01: worker thread finished; awaiting finish of 0 more threads\n",
      "INFO - 10:36:01: EPOCH - 32 : training on 576654 raw words (346701 effective words) took 1.5s, 230520 effective words/s\n",
      "INFO - 10:36:02: EPOCH 33 - PROGRESS: at 66.01% examples, 226700 words/s, in_qsize 0, out_qsize 0\n",
      "INFO - 10:36:02: worker thread finished; awaiting finish of 14 more threads\n",
      "INFO - 10:36:02: worker thread finished; awaiting finish of 13 more threads\n",
      "INFO - 10:36:02: worker thread finished; awaiting finish of 12 more threads\n",
      "INFO - 10:36:02: worker thread finished; awaiting finish of 11 more threads\n",
      "INFO - 10:36:02: worker thread finished; awaiting finish of 10 more threads\n",
      "INFO - 10:36:02: worker thread finished; awaiting finish of 9 more threads\n",
      "INFO - 10:36:02: worker thread finished; awaiting finish of 8 more threads\n",
      "INFO - 10:36:02: worker thread finished; awaiting finish of 7 more threads\n",
      "INFO - 10:36:02: worker thread finished; awaiting finish of 6 more threads\n",
      "INFO - 10:36:02: worker thread finished; awaiting finish of 5 more threads\n",
      "INFO - 10:36:02: worker thread finished; awaiting finish of 4 more threads\n",
      "INFO - 10:36:02: worker thread finished; awaiting finish of 3 more threads\n",
      "INFO - 10:36:02: worker thread finished; awaiting finish of 2 more threads\n",
      "INFO - 10:36:02: worker thread finished; awaiting finish of 1 more threads\n",
      "INFO - 10:36:02: worker thread finished; awaiting finish of 0 more threads\n",
      "INFO - 10:36:02: EPOCH - 33 : training on 576654 raw words (346258 effective words) took 1.5s, 229817 effective words/s\n",
      "INFO - 10:36:03: EPOCH 34 - PROGRESS: at 62.53% examples, 215257 words/s, in_qsize 0, out_qsize 1\n",
      "INFO - 10:36:04: worker thread finished; awaiting finish of 14 more threads\n",
      "INFO - 10:36:04: worker thread finished; awaiting finish of 13 more threads\n",
      "INFO - 10:36:04: worker thread finished; awaiting finish of 12 more threads\n",
      "INFO - 10:36:04: worker thread finished; awaiting finish of 11 more threads\n",
      "INFO - 10:36:04: worker thread finished; awaiting finish of 10 more threads\n",
      "INFO - 10:36:04: worker thread finished; awaiting finish of 9 more threads\n",
      "INFO - 10:36:04: worker thread finished; awaiting finish of 8 more threads\n",
      "INFO - 10:36:04: worker thread finished; awaiting finish of 7 more threads\n",
      "INFO - 10:36:04: worker thread finished; awaiting finish of 6 more threads\n",
      "INFO - 10:36:04: worker thread finished; awaiting finish of 5 more threads\n",
      "INFO - 10:36:04: worker thread finished; awaiting finish of 4 more threads\n",
      "INFO - 10:36:04: worker thread finished; awaiting finish of 3 more threads\n",
      "INFO - 10:36:04: worker thread finished; awaiting finish of 2 more threads\n",
      "INFO - 10:36:04: worker thread finished; awaiting finish of 1 more threads\n",
      "INFO - 10:36:04: worker thread finished; awaiting finish of 0 more threads\n",
      "INFO - 10:36:04: EPOCH - 34 : training on 576654 raw words (346660 effective words) took 1.5s, 225227 effective words/s\n",
      "INFO - 10:36:05: EPOCH 35 - PROGRESS: at 66.16% examples, 214834 words/s, in_qsize 0, out_qsize 2\n",
      "INFO - 10:36:05: worker thread finished; awaiting finish of 14 more threads\n",
      "INFO - 10:36:05: worker thread finished; awaiting finish of 13 more threads\n",
      "INFO - 10:36:05: worker thread finished; awaiting finish of 12 more threads\n",
      "INFO - 10:36:05: worker thread finished; awaiting finish of 11 more threads\n",
      "INFO - 10:36:05: worker thread finished; awaiting finish of 10 more threads\n",
      "INFO - 10:36:05: worker thread finished; awaiting finish of 9 more threads\n",
      "INFO - 10:36:05: worker thread finished; awaiting finish of 8 more threads\n",
      "INFO - 10:36:05: worker thread finished; awaiting finish of 7 more threads\n",
      "INFO - 10:36:05: worker thread finished; awaiting finish of 6 more threads\n",
      "INFO - 10:36:05: worker thread finished; awaiting finish of 5 more threads\n",
      "INFO - 10:36:05: worker thread finished; awaiting finish of 4 more threads\n",
      "INFO - 10:36:05: worker thread finished; awaiting finish of 3 more threads\n",
      "INFO - 10:36:05: worker thread finished; awaiting finish of 2 more threads\n",
      "INFO - 10:36:05: worker thread finished; awaiting finish of 1 more threads\n",
      "INFO - 10:36:05: worker thread finished; awaiting finish of 0 more threads\n",
      "INFO - 10:36:05: EPOCH - 35 : training on 576654 raw words (346424 effective words) took 1.5s, 229834 effective words/s\n",
      "INFO - 10:36:06: EPOCH 36 - PROGRESS: at 64.39% examples, 220167 words/s, in_qsize 0, out_qsize 0\n",
      "INFO - 10:36:07: worker thread finished; awaiting finish of 14 more threads\n",
      "INFO - 10:36:07: worker thread finished; awaiting finish of 13 more threads\n",
      "INFO - 10:36:07: worker thread finished; awaiting finish of 12 more threads\n",
      "INFO - 10:36:07: worker thread finished; awaiting finish of 11 more threads\n",
      "INFO - 10:36:07: worker thread finished; awaiting finish of 10 more threads\n",
      "INFO - 10:36:07: worker thread finished; awaiting finish of 9 more threads\n",
      "INFO - 10:36:07: worker thread finished; awaiting finish of 8 more threads\n",
      "INFO - 10:36:07: worker thread finished; awaiting finish of 7 more threads\n",
      "INFO - 10:36:07: worker thread finished; awaiting finish of 6 more threads\n",
      "INFO - 10:36:07: worker thread finished; awaiting finish of 5 more threads\n",
      "INFO - 10:36:07: worker thread finished; awaiting finish of 4 more threads\n",
      "INFO - 10:36:07: worker thread finished; awaiting finish of 3 more threads\n",
      "INFO - 10:36:07: worker thread finished; awaiting finish of 2 more threads\n",
      "INFO - 10:36:07: worker thread finished; awaiting finish of 1 more threads\n",
      "INFO - 10:36:07: worker thread finished; awaiting finish of 0 more threads\n",
      "INFO - 10:36:07: EPOCH - 36 : training on 576654 raw words (346713 effective words) took 1.5s, 228267 effective words/s\n",
      "INFO - 10:36:08: EPOCH 37 - PROGRESS: at 66.01% examples, 222391 words/s, in_qsize 0, out_qsize 0\n",
      "INFO - 10:36:08: worker thread finished; awaiting finish of 14 more threads\n",
      "INFO - 10:36:08: worker thread finished; awaiting finish of 13 more threads\n",
      "INFO - 10:36:08: worker thread finished; awaiting finish of 12 more threads\n",
      "INFO - 10:36:08: worker thread finished; awaiting finish of 11 more threads\n",
      "INFO - 10:36:08: worker thread finished; awaiting finish of 10 more threads\n",
      "INFO - 10:36:08: worker thread finished; awaiting finish of 9 more threads\n",
      "INFO - 10:36:08: worker thread finished; awaiting finish of 8 more threads\n",
      "INFO - 10:36:08: worker thread finished; awaiting finish of 7 more threads\n",
      "INFO - 10:36:08: worker thread finished; awaiting finish of 6 more threads\n"
     ]
    },
    {
     "name": "stderr",
     "output_type": "stream",
     "text": [
      "INFO - 10:36:08: worker thread finished; awaiting finish of 5 more threads\n",
      "INFO - 10:36:08: worker thread finished; awaiting finish of 4 more threads\n",
      "INFO - 10:36:08: worker thread finished; awaiting finish of 3 more threads\n",
      "INFO - 10:36:08: worker thread finished; awaiting finish of 2 more threads\n",
      "INFO - 10:36:08: worker thread finished; awaiting finish of 1 more threads\n",
      "INFO - 10:36:08: worker thread finished; awaiting finish of 0 more threads\n",
      "INFO - 10:36:08: EPOCH - 37 : training on 576654 raw words (346188 effective words) took 1.5s, 229191 effective words/s\n",
      "INFO - 10:36:09: EPOCH 38 - PROGRESS: at 66.01% examples, 225179 words/s, in_qsize 0, out_qsize 0\n",
      "INFO - 10:36:10: worker thread finished; awaiting finish of 14 more threads\n",
      "INFO - 10:36:10: worker thread finished; awaiting finish of 13 more threads\n",
      "INFO - 10:36:10: worker thread finished; awaiting finish of 12 more threads\n",
      "INFO - 10:36:10: worker thread finished; awaiting finish of 11 more threads\n",
      "INFO - 10:36:10: worker thread finished; awaiting finish of 10 more threads\n",
      "INFO - 10:36:10: worker thread finished; awaiting finish of 9 more threads\n",
      "INFO - 10:36:10: worker thread finished; awaiting finish of 8 more threads\n",
      "INFO - 10:36:10: worker thread finished; awaiting finish of 7 more threads\n",
      "INFO - 10:36:10: worker thread finished; awaiting finish of 6 more threads\n",
      "INFO - 10:36:10: worker thread finished; awaiting finish of 5 more threads\n",
      "INFO - 10:36:10: worker thread finished; awaiting finish of 4 more threads\n",
      "INFO - 10:36:10: worker thread finished; awaiting finish of 3 more threads\n",
      "INFO - 10:36:10: worker thread finished; awaiting finish of 2 more threads\n",
      "INFO - 10:36:10: worker thread finished; awaiting finish of 1 more threads\n",
      "INFO - 10:36:10: worker thread finished; awaiting finish of 0 more threads\n",
      "INFO - 10:36:10: EPOCH - 38 : training on 576654 raw words (346865 effective words) took 1.5s, 230119 effective words/s\n",
      "INFO - 10:36:11: EPOCH 39 - PROGRESS: at 64.39% examples, 217452 words/s, in_qsize 0, out_qsize 0\n",
      "INFO - 10:36:11: worker thread finished; awaiting finish of 14 more threads\n",
      "INFO - 10:36:11: worker thread finished; awaiting finish of 13 more threads\n",
      "INFO - 10:36:11: worker thread finished; awaiting finish of 12 more threads\n",
      "INFO - 10:36:11: worker thread finished; awaiting finish of 11 more threads\n",
      "INFO - 10:36:11: worker thread finished; awaiting finish of 10 more threads\n",
      "INFO - 10:36:11: worker thread finished; awaiting finish of 9 more threads\n",
      "INFO - 10:36:11: worker thread finished; awaiting finish of 8 more threads\n",
      "INFO - 10:36:11: worker thread finished; awaiting finish of 7 more threads\n",
      "INFO - 10:36:11: worker thread finished; awaiting finish of 6 more threads\n",
      "INFO - 10:36:11: worker thread finished; awaiting finish of 5 more threads\n",
      "INFO - 10:36:11: worker thread finished; awaiting finish of 4 more threads\n",
      "INFO - 10:36:11: worker thread finished; awaiting finish of 3 more threads\n",
      "INFO - 10:36:11: worker thread finished; awaiting finish of 2 more threads\n",
      "INFO - 10:36:11: worker thread finished; awaiting finish of 1 more threads\n",
      "INFO - 10:36:11: worker thread finished; awaiting finish of 0 more threads\n",
      "INFO - 10:36:11: EPOCH - 39 : training on 576654 raw words (346205 effective words) took 1.5s, 227468 effective words/s\n",
      "INFO - 10:36:12: EPOCH 40 - PROGRESS: at 66.01% examples, 227320 words/s, in_qsize 0, out_qsize 0\n",
      "INFO - 10:36:13: worker thread finished; awaiting finish of 14 more threads\n",
      "INFO - 10:36:13: worker thread finished; awaiting finish of 13 more threads\n",
      "INFO - 10:36:13: worker thread finished; awaiting finish of 12 more threads\n",
      "INFO - 10:36:13: worker thread finished; awaiting finish of 11 more threads\n",
      "INFO - 10:36:13: worker thread finished; awaiting finish of 10 more threads\n",
      "INFO - 10:36:13: worker thread finished; awaiting finish of 9 more threads\n",
      "INFO - 10:36:13: worker thread finished; awaiting finish of 8 more threads\n",
      "INFO - 10:36:13: worker thread finished; awaiting finish of 7 more threads\n",
      "INFO - 10:36:13: worker thread finished; awaiting finish of 6 more threads\n",
      "INFO - 10:36:13: worker thread finished; awaiting finish of 5 more threads\n",
      "INFO - 10:36:13: worker thread finished; awaiting finish of 4 more threads\n",
      "INFO - 10:36:13: worker thread finished; awaiting finish of 3 more threads\n",
      "INFO - 10:36:13: worker thread finished; awaiting finish of 2 more threads\n",
      "INFO - 10:36:13: worker thread finished; awaiting finish of 1 more threads\n",
      "INFO - 10:36:13: worker thread finished; awaiting finish of 0 more threads\n",
      "INFO - 10:36:13: EPOCH - 40 : training on 576654 raw words (346229 effective words) took 1.5s, 228203 effective words/s\n",
      "INFO - 10:36:14: EPOCH 41 - PROGRESS: at 66.01% examples, 227298 words/s, in_qsize 0, out_qsize 0\n",
      "INFO - 10:36:14: worker thread finished; awaiting finish of 14 more threads\n",
      "INFO - 10:36:14: worker thread finished; awaiting finish of 13 more threads\n",
      "INFO - 10:36:14: worker thread finished; awaiting finish of 12 more threads\n",
      "INFO - 10:36:14: worker thread finished; awaiting finish of 11 more threads\n",
      "INFO - 10:36:14: worker thread finished; awaiting finish of 10 more threads\n",
      "INFO - 10:36:14: worker thread finished; awaiting finish of 9 more threads\n",
      "INFO - 10:36:14: worker thread finished; awaiting finish of 8 more threads\n",
      "INFO - 10:36:14: worker thread finished; awaiting finish of 7 more threads\n",
      "INFO - 10:36:14: worker thread finished; awaiting finish of 6 more threads\n",
      "INFO - 10:36:14: worker thread finished; awaiting finish of 5 more threads\n",
      "INFO - 10:36:14: worker thread finished; awaiting finish of 4 more threads\n",
      "INFO - 10:36:14: worker thread finished; awaiting finish of 3 more threads\n",
      "INFO - 10:36:14: worker thread finished; awaiting finish of 2 more threads\n",
      "INFO - 10:36:14: worker thread finished; awaiting finish of 1 more threads\n",
      "INFO - 10:36:14: worker thread finished; awaiting finish of 0 more threads\n",
      "INFO - 10:36:14: EPOCH - 41 : training on 576654 raw words (346873 effective words) took 1.5s, 230811 effective words/s\n",
      "INFO - 10:36:15: EPOCH 42 - PROGRESS: at 64.39% examples, 220490 words/s, in_qsize 0, out_qsize 0\n",
      "INFO - 10:36:16: worker thread finished; awaiting finish of 14 more threads\n",
      "INFO - 10:36:16: worker thread finished; awaiting finish of 13 more threads\n",
      "INFO - 10:36:16: worker thread finished; awaiting finish of 12 more threads\n",
      "INFO - 10:36:16: worker thread finished; awaiting finish of 11 more threads\n",
      "INFO - 10:36:16: worker thread finished; awaiting finish of 10 more threads\n",
      "INFO - 10:36:16: worker thread finished; awaiting finish of 9 more threads\n",
      "INFO - 10:36:16: worker thread finished; awaiting finish of 8 more threads\n",
      "INFO - 10:36:16: worker thread finished; awaiting finish of 7 more threads\n",
      "INFO - 10:36:16: worker thread finished; awaiting finish of 6 more threads\n",
      "INFO - 10:36:16: worker thread finished; awaiting finish of 5 more threads\n",
      "INFO - 10:36:16: worker thread finished; awaiting finish of 4 more threads\n",
      "INFO - 10:36:16: worker thread finished; awaiting finish of 3 more threads\n",
      "INFO - 10:36:16: worker thread finished; awaiting finish of 2 more threads\n",
      "INFO - 10:36:16: worker thread finished; awaiting finish of 1 more threads\n",
      "INFO - 10:36:16: worker thread finished; awaiting finish of 0 more threads\n",
      "INFO - 10:36:16: EPOCH - 42 : training on 576654 raw words (346923 effective words) took 1.5s, 230743 effective words/s\n",
      "INFO - 10:36:17: EPOCH 43 - PROGRESS: at 67.78% examples, 227466 words/s, in_qsize 0, out_qsize 0\n",
      "INFO - 10:36:17: worker thread finished; awaiting finish of 14 more threads\n",
      "INFO - 10:36:17: worker thread finished; awaiting finish of 13 more threads\n",
      "INFO - 10:36:17: worker thread finished; awaiting finish of 12 more threads\n",
      "INFO - 10:36:17: worker thread finished; awaiting finish of 11 more threads\n",
      "INFO - 10:36:17: worker thread finished; awaiting finish of 10 more threads\n",
      "INFO - 10:36:17: worker thread finished; awaiting finish of 9 more threads\n",
      "INFO - 10:36:17: worker thread finished; awaiting finish of 8 more threads\n",
      "INFO - 10:36:17: worker thread finished; awaiting finish of 7 more threads\n",
      "INFO - 10:36:17: worker thread finished; awaiting finish of 6 more threads\n",
      "INFO - 10:36:17: worker thread finished; awaiting finish of 5 more threads\n",
      "INFO - 10:36:17: worker thread finished; awaiting finish of 4 more threads\n"
     ]
    },
    {
     "name": "stderr",
     "output_type": "stream",
     "text": [
      "INFO - 10:36:17: worker thread finished; awaiting finish of 3 more threads\n",
      "INFO - 10:36:17: worker thread finished; awaiting finish of 2 more threads\n",
      "INFO - 10:36:17: worker thread finished; awaiting finish of 1 more threads\n",
      "INFO - 10:36:17: worker thread finished; awaiting finish of 0 more threads\n",
      "INFO - 10:36:17: EPOCH - 43 : training on 576654 raw words (346534 effective words) took 1.5s, 230406 effective words/s\n",
      "INFO - 10:36:18: EPOCH 44 - PROGRESS: at 67.78% examples, 223357 words/s, in_qsize 0, out_qsize 0\n",
      "INFO - 10:36:19: worker thread finished; awaiting finish of 14 more threads\n",
      "INFO - 10:36:19: worker thread finished; awaiting finish of 13 more threads\n",
      "INFO - 10:36:19: worker thread finished; awaiting finish of 12 more threads\n",
      "INFO - 10:36:19: worker thread finished; awaiting finish of 11 more threads\n",
      "INFO - 10:36:19: worker thread finished; awaiting finish of 10 more threads\n",
      "INFO - 10:36:19: worker thread finished; awaiting finish of 9 more threads\n",
      "INFO - 10:36:19: worker thread finished; awaiting finish of 8 more threads\n",
      "INFO - 10:36:19: worker thread finished; awaiting finish of 7 more threads\n",
      "INFO - 10:36:19: worker thread finished; awaiting finish of 6 more threads\n",
      "INFO - 10:36:19: worker thread finished; awaiting finish of 5 more threads\n",
      "INFO - 10:36:19: worker thread finished; awaiting finish of 4 more threads\n",
      "INFO - 10:36:19: worker thread finished; awaiting finish of 3 more threads\n",
      "INFO - 10:36:19: worker thread finished; awaiting finish of 2 more threads\n",
      "INFO - 10:36:19: worker thread finished; awaiting finish of 1 more threads\n",
      "INFO - 10:36:19: worker thread finished; awaiting finish of 0 more threads\n",
      "INFO - 10:36:19: EPOCH - 44 : training on 576654 raw words (346661 effective words) took 1.5s, 231403 effective words/s\n",
      "INFO - 10:36:20: EPOCH 45 - PROGRESS: at 66.01% examples, 227310 words/s, in_qsize 0, out_qsize 0\n",
      "INFO - 10:36:20: worker thread finished; awaiting finish of 14 more threads\n",
      "INFO - 10:36:20: worker thread finished; awaiting finish of 13 more threads\n",
      "INFO - 10:36:20: worker thread finished; awaiting finish of 12 more threads\n",
      "INFO - 10:36:20: worker thread finished; awaiting finish of 11 more threads\n",
      "INFO - 10:36:20: worker thread finished; awaiting finish of 10 more threads\n",
      "INFO - 10:36:20: worker thread finished; awaiting finish of 9 more threads\n",
      "INFO - 10:36:20: worker thread finished; awaiting finish of 8 more threads\n",
      "INFO - 10:36:20: worker thread finished; awaiting finish of 7 more threads\n",
      "INFO - 10:36:20: worker thread finished; awaiting finish of 6 more threads\n",
      "INFO - 10:36:20: worker thread finished; awaiting finish of 5 more threads\n",
      "INFO - 10:36:20: worker thread finished; awaiting finish of 4 more threads\n",
      "INFO - 10:36:20: worker thread finished; awaiting finish of 3 more threads\n",
      "INFO - 10:36:20: worker thread finished; awaiting finish of 2 more threads\n",
      "INFO - 10:36:20: worker thread finished; awaiting finish of 1 more threads\n",
      "INFO - 10:36:20: worker thread finished; awaiting finish of 0 more threads\n",
      "INFO - 10:36:20: EPOCH - 45 : training on 576654 raw words (346641 effective words) took 1.5s, 231315 effective words/s\n",
      "INFO - 10:36:21: EPOCH 46 - PROGRESS: at 66.01% examples, 220868 words/s, in_qsize 0, out_qsize 1\n",
      "INFO - 10:36:22: worker thread finished; awaiting finish of 14 more threads\n",
      "INFO - 10:36:22: worker thread finished; awaiting finish of 13 more threads\n",
      "INFO - 10:36:22: worker thread finished; awaiting finish of 12 more threads\n",
      "INFO - 10:36:22: worker thread finished; awaiting finish of 11 more threads\n",
      "INFO - 10:36:22: worker thread finished; awaiting finish of 10 more threads\n",
      "INFO - 10:36:22: worker thread finished; awaiting finish of 9 more threads\n",
      "INFO - 10:36:22: worker thread finished; awaiting finish of 8 more threads\n",
      "INFO - 10:36:22: worker thread finished; awaiting finish of 7 more threads\n",
      "INFO - 10:36:22: worker thread finished; awaiting finish of 6 more threads\n",
      "INFO - 10:36:22: worker thread finished; awaiting finish of 5 more threads\n",
      "INFO - 10:36:22: worker thread finished; awaiting finish of 4 more threads\n",
      "INFO - 10:36:22: worker thread finished; awaiting finish of 3 more threads\n",
      "INFO - 10:36:22: worker thread finished; awaiting finish of 2 more threads\n",
      "INFO - 10:36:22: worker thread finished; awaiting finish of 1 more threads\n",
      "INFO - 10:36:22: worker thread finished; awaiting finish of 0 more threads\n",
      "INFO - 10:36:22: EPOCH - 46 : training on 576654 raw words (346503 effective words) took 1.5s, 227774 effective words/s\n",
      "INFO - 10:36:23: EPOCH 47 - PROGRESS: at 66.01% examples, 225489 words/s, in_qsize 0, out_qsize 0\n",
      "INFO - 10:36:23: worker thread finished; awaiting finish of 14 more threads\n",
      "INFO - 10:36:23: worker thread finished; awaiting finish of 13 more threads\n",
      "INFO - 10:36:23: worker thread finished; awaiting finish of 12 more threads\n",
      "INFO - 10:36:23: worker thread finished; awaiting finish of 11 more threads\n",
      "INFO - 10:36:23: worker thread finished; awaiting finish of 10 more threads\n",
      "INFO - 10:36:23: worker thread finished; awaiting finish of 9 more threads\n",
      "INFO - 10:36:23: worker thread finished; awaiting finish of 8 more threads\n",
      "INFO - 10:36:23: worker thread finished; awaiting finish of 7 more threads\n",
      "INFO - 10:36:23: worker thread finished; awaiting finish of 6 more threads\n",
      "INFO - 10:36:23: worker thread finished; awaiting finish of 5 more threads\n",
      "INFO - 10:36:23: worker thread finished; awaiting finish of 4 more threads\n",
      "INFO - 10:36:23: worker thread finished; awaiting finish of 3 more threads\n",
      "INFO - 10:36:23: worker thread finished; awaiting finish of 2 more threads\n",
      "INFO - 10:36:23: worker thread finished; awaiting finish of 1 more threads\n",
      "INFO - 10:36:23: worker thread finished; awaiting finish of 0 more threads\n",
      "INFO - 10:36:23: EPOCH - 47 : training on 576654 raw words (346367 effective words) took 1.5s, 227114 effective words/s\n",
      "INFO - 10:36:24: EPOCH 48 - PROGRESS: at 66.01% examples, 226557 words/s, in_qsize 0, out_qsize 0\n",
      "INFO - 10:36:25: worker thread finished; awaiting finish of 14 more threads\n",
      "INFO - 10:36:25: worker thread finished; awaiting finish of 13 more threads\n",
      "INFO - 10:36:25: worker thread finished; awaiting finish of 12 more threads\n",
      "INFO - 10:36:25: worker thread finished; awaiting finish of 11 more threads\n",
      "INFO - 10:36:25: worker thread finished; awaiting finish of 10 more threads\n",
      "INFO - 10:36:25: worker thread finished; awaiting finish of 9 more threads\n",
      "INFO - 10:36:25: worker thread finished; awaiting finish of 8 more threads\n",
      "INFO - 10:36:25: worker thread finished; awaiting finish of 7 more threads\n",
      "INFO - 10:36:25: worker thread finished; awaiting finish of 6 more threads\n",
      "INFO - 10:36:25: worker thread finished; awaiting finish of 5 more threads\n",
      "INFO - 10:36:25: worker thread finished; awaiting finish of 4 more threads\n",
      "INFO - 10:36:25: worker thread finished; awaiting finish of 3 more threads\n",
      "INFO - 10:36:25: worker thread finished; awaiting finish of 2 more threads\n",
      "INFO - 10:36:25: worker thread finished; awaiting finish of 1 more threads\n",
      "INFO - 10:36:25: worker thread finished; awaiting finish of 0 more threads\n",
      "INFO - 10:36:25: EPOCH - 48 : training on 576654 raw words (346853 effective words) took 1.5s, 231672 effective words/s\n",
      "INFO - 10:36:26: EPOCH 49 - PROGRESS: at 66.01% examples, 226344 words/s, in_qsize 0, out_qsize 0\n",
      "INFO - 10:36:26: worker thread finished; awaiting finish of 14 more threads\n",
      "INFO - 10:36:26: worker thread finished; awaiting finish of 13 more threads\n",
      "INFO - 10:36:26: worker thread finished; awaiting finish of 12 more threads\n",
      "INFO - 10:36:26: worker thread finished; awaiting finish of 11 more threads\n",
      "INFO - 10:36:26: worker thread finished; awaiting finish of 10 more threads\n",
      "INFO - 10:36:26: worker thread finished; awaiting finish of 9 more threads\n",
      "INFO - 10:36:26: worker thread finished; awaiting finish of 8 more threads\n",
      "INFO - 10:36:26: worker thread finished; awaiting finish of 7 more threads\n",
      "INFO - 10:36:26: worker thread finished; awaiting finish of 6 more threads\n",
      "INFO - 10:36:26: worker thread finished; awaiting finish of 5 more threads\n",
      "INFO - 10:36:26: worker thread finished; awaiting finish of 4 more threads\n",
      "INFO - 10:36:26: worker thread finished; awaiting finish of 3 more threads\n",
      "INFO - 10:36:26: worker thread finished; awaiting finish of 2 more threads\n"
     ]
    },
    {
     "name": "stderr",
     "output_type": "stream",
     "text": [
      "INFO - 10:36:26: worker thread finished; awaiting finish of 1 more threads\n",
      "INFO - 10:36:26: worker thread finished; awaiting finish of 0 more threads\n",
      "INFO - 10:36:26: EPOCH - 49 : training on 576654 raw words (346175 effective words) took 1.5s, 230116 effective words/s\n",
      "INFO - 10:36:27: EPOCH 50 - PROGRESS: at 67.78% examples, 228378 words/s, in_qsize 0, out_qsize 0\n",
      "INFO - 10:36:28: worker thread finished; awaiting finish of 14 more threads\n",
      "INFO - 10:36:28: worker thread finished; awaiting finish of 13 more threads\n",
      "INFO - 10:36:28: worker thread finished; awaiting finish of 12 more threads\n",
      "INFO - 10:36:28: worker thread finished; awaiting finish of 11 more threads\n",
      "INFO - 10:36:28: worker thread finished; awaiting finish of 10 more threads\n",
      "INFO - 10:36:28: worker thread finished; awaiting finish of 9 more threads\n",
      "INFO - 10:36:28: worker thread finished; awaiting finish of 8 more threads\n",
      "INFO - 10:36:28: worker thread finished; awaiting finish of 7 more threads\n",
      "INFO - 10:36:28: worker thread finished; awaiting finish of 6 more threads\n",
      "INFO - 10:36:28: worker thread finished; awaiting finish of 5 more threads\n",
      "INFO - 10:36:28: worker thread finished; awaiting finish of 4 more threads\n",
      "INFO - 10:36:28: worker thread finished; awaiting finish of 3 more threads\n",
      "INFO - 10:36:28: worker thread finished; awaiting finish of 2 more threads\n",
      "INFO - 10:36:28: worker thread finished; awaiting finish of 1 more threads\n",
      "INFO - 10:36:28: worker thread finished; awaiting finish of 0 more threads\n",
      "INFO - 10:36:28: EPOCH - 50 : training on 576654 raw words (346305 effective words) took 1.5s, 230473 effective words/s\n",
      "INFO - 10:36:29: EPOCH 51 - PROGRESS: at 64.39% examples, 222270 words/s, in_qsize 0, out_qsize 0\n",
      "INFO - 10:36:29: worker thread finished; awaiting finish of 14 more threads\n",
      "INFO - 10:36:29: worker thread finished; awaiting finish of 13 more threads\n",
      "INFO - 10:36:29: worker thread finished; awaiting finish of 12 more threads\n",
      "INFO - 10:36:29: worker thread finished; awaiting finish of 11 more threads\n",
      "INFO - 10:36:29: worker thread finished; awaiting finish of 10 more threads\n",
      "INFO - 10:36:29: worker thread finished; awaiting finish of 9 more threads\n",
      "INFO - 10:36:29: worker thread finished; awaiting finish of 8 more threads\n",
      "INFO - 10:36:29: worker thread finished; awaiting finish of 7 more threads\n",
      "INFO - 10:36:29: worker thread finished; awaiting finish of 6 more threads\n",
      "INFO - 10:36:29: worker thread finished; awaiting finish of 5 more threads\n",
      "INFO - 10:36:29: worker thread finished; awaiting finish of 4 more threads\n",
      "INFO - 10:36:29: worker thread finished; awaiting finish of 3 more threads\n",
      "INFO - 10:36:29: worker thread finished; awaiting finish of 2 more threads\n",
      "INFO - 10:36:29: worker thread finished; awaiting finish of 1 more threads\n",
      "INFO - 10:36:29: worker thread finished; awaiting finish of 0 more threads\n",
      "INFO - 10:36:29: EPOCH - 51 : training on 576654 raw words (346808 effective words) took 1.5s, 230783 effective words/s\n",
      "INFO - 10:36:30: EPOCH 52 - PROGRESS: at 66.01% examples, 222677 words/s, in_qsize 0, out_qsize 0\n",
      "INFO - 10:36:31: worker thread finished; awaiting finish of 14 more threads\n",
      "INFO - 10:36:31: worker thread finished; awaiting finish of 13 more threads\n",
      "INFO - 10:36:31: worker thread finished; awaiting finish of 12 more threads\n",
      "INFO - 10:36:31: worker thread finished; awaiting finish of 11 more threads\n",
      "INFO - 10:36:31: worker thread finished; awaiting finish of 10 more threads\n",
      "INFO - 10:36:31: worker thread finished; awaiting finish of 9 more threads\n",
      "INFO - 10:36:31: worker thread finished; awaiting finish of 8 more threads\n",
      "INFO - 10:36:31: worker thread finished; awaiting finish of 7 more threads\n",
      "INFO - 10:36:31: worker thread finished; awaiting finish of 6 more threads\n",
      "INFO - 10:36:31: worker thread finished; awaiting finish of 5 more threads\n",
      "INFO - 10:36:31: worker thread finished; awaiting finish of 4 more threads\n",
      "INFO - 10:36:31: worker thread finished; awaiting finish of 3 more threads\n",
      "INFO - 10:36:31: worker thread finished; awaiting finish of 2 more threads\n",
      "INFO - 10:36:31: worker thread finished; awaiting finish of 1 more threads\n",
      "INFO - 10:36:31: worker thread finished; awaiting finish of 0 more threads\n",
      "INFO - 10:36:31: EPOCH - 52 : training on 576654 raw words (346341 effective words) took 1.5s, 231351 effective words/s\n",
      "INFO - 10:36:32: EPOCH 53 - PROGRESS: at 64.39% examples, 220743 words/s, in_qsize 0, out_qsize 0\n",
      "INFO - 10:36:32: worker thread finished; awaiting finish of 14 more threads\n",
      "INFO - 10:36:32: worker thread finished; awaiting finish of 13 more threads\n",
      "INFO - 10:36:32: worker thread finished; awaiting finish of 12 more threads\n",
      "INFO - 10:36:32: worker thread finished; awaiting finish of 11 more threads\n",
      "INFO - 10:36:32: worker thread finished; awaiting finish of 10 more threads\n",
      "INFO - 10:36:32: worker thread finished; awaiting finish of 9 more threads\n",
      "INFO - 10:36:32: worker thread finished; awaiting finish of 8 more threads\n",
      "INFO - 10:36:32: worker thread finished; awaiting finish of 7 more threads\n",
      "INFO - 10:36:32: worker thread finished; awaiting finish of 6 more threads\n",
      "INFO - 10:36:32: worker thread finished; awaiting finish of 5 more threads\n",
      "INFO - 10:36:32: worker thread finished; awaiting finish of 4 more threads\n",
      "INFO - 10:36:32: worker thread finished; awaiting finish of 3 more threads\n",
      "INFO - 10:36:32: worker thread finished; awaiting finish of 2 more threads\n",
      "INFO - 10:36:32: worker thread finished; awaiting finish of 1 more threads\n",
      "INFO - 10:36:32: worker thread finished; awaiting finish of 0 more threads\n",
      "INFO - 10:36:32: EPOCH - 53 : training on 576654 raw words (346977 effective words) took 1.5s, 230813 effective words/s\n",
      "INFO - 10:36:33: EPOCH 54 - PROGRESS: at 66.01% examples, 221519 words/s, in_qsize 1, out_qsize 0\n",
      "INFO - 10:36:34: worker thread finished; awaiting finish of 14 more threads\n",
      "INFO - 10:36:34: worker thread finished; awaiting finish of 13 more threads\n",
      "INFO - 10:36:34: worker thread finished; awaiting finish of 12 more threads\n",
      "INFO - 10:36:34: worker thread finished; awaiting finish of 11 more threads\n",
      "INFO - 10:36:34: worker thread finished; awaiting finish of 10 more threads\n",
      "INFO - 10:36:34: worker thread finished; awaiting finish of 9 more threads\n",
      "INFO - 10:36:34: worker thread finished; awaiting finish of 8 more threads\n",
      "INFO - 10:36:34: worker thread finished; awaiting finish of 7 more threads\n",
      "INFO - 10:36:34: worker thread finished; awaiting finish of 6 more threads\n",
      "INFO - 10:36:34: worker thread finished; awaiting finish of 5 more threads\n",
      "INFO - 10:36:34: worker thread finished; awaiting finish of 4 more threads\n",
      "INFO - 10:36:34: worker thread finished; awaiting finish of 3 more threads\n",
      "INFO - 10:36:34: worker thread finished; awaiting finish of 2 more threads\n",
      "INFO - 10:36:34: worker thread finished; awaiting finish of 1 more threads\n",
      "INFO - 10:36:34: worker thread finished; awaiting finish of 0 more threads\n",
      "INFO - 10:36:34: EPOCH - 54 : training on 576654 raw words (346676 effective words) took 1.5s, 228242 effective words/s\n",
      "INFO - 10:36:35: EPOCH 55 - PROGRESS: at 66.01% examples, 224560 words/s, in_qsize 1, out_qsize 0\n",
      "INFO - 10:36:35: worker thread finished; awaiting finish of 14 more threads\n",
      "INFO - 10:36:35: worker thread finished; awaiting finish of 13 more threads\n",
      "INFO - 10:36:35: worker thread finished; awaiting finish of 12 more threads\n",
      "INFO - 10:36:35: worker thread finished; awaiting finish of 11 more threads\n",
      "INFO - 10:36:35: worker thread finished; awaiting finish of 10 more threads\n",
      "INFO - 10:36:35: worker thread finished; awaiting finish of 9 more threads\n",
      "INFO - 10:36:35: worker thread finished; awaiting finish of 8 more threads\n",
      "INFO - 10:36:35: worker thread finished; awaiting finish of 7 more threads\n",
      "INFO - 10:36:35: worker thread finished; awaiting finish of 6 more threads\n",
      "INFO - 10:36:35: worker thread finished; awaiting finish of 5 more threads\n",
      "INFO - 10:36:35: worker thread finished; awaiting finish of 4 more threads\n",
      "INFO - 10:36:35: worker thread finished; awaiting finish of 3 more threads\n",
      "INFO - 10:36:35: worker thread finished; awaiting finish of 2 more threads\n",
      "INFO - 10:36:35: worker thread finished; awaiting finish of 1 more threads\n",
      "INFO - 10:36:35: worker thread finished; awaiting finish of 0 more threads\n"
     ]
    },
    {
     "name": "stderr",
     "output_type": "stream",
     "text": [
      "INFO - 10:36:35: EPOCH - 55 : training on 576654 raw words (346603 effective words) took 1.5s, 231948 effective words/s\n",
      "INFO - 10:36:36: EPOCH 56 - PROGRESS: at 66.01% examples, 225708 words/s, in_qsize 0, out_qsize 0\n",
      "INFO - 10:36:37: worker thread finished; awaiting finish of 14 more threads\n",
      "INFO - 10:36:37: worker thread finished; awaiting finish of 13 more threads\n",
      "INFO - 10:36:37: worker thread finished; awaiting finish of 12 more threads\n",
      "INFO - 10:36:37: worker thread finished; awaiting finish of 11 more threads\n",
      "INFO - 10:36:37: worker thread finished; awaiting finish of 10 more threads\n",
      "INFO - 10:36:37: worker thread finished; awaiting finish of 9 more threads\n",
      "INFO - 10:36:37: worker thread finished; awaiting finish of 8 more threads\n",
      "INFO - 10:36:37: worker thread finished; awaiting finish of 7 more threads\n",
      "INFO - 10:36:37: worker thread finished; awaiting finish of 6 more threads\n",
      "INFO - 10:36:37: worker thread finished; awaiting finish of 5 more threads\n",
      "INFO - 10:36:37: worker thread finished; awaiting finish of 4 more threads\n",
      "INFO - 10:36:37: worker thread finished; awaiting finish of 3 more threads\n",
      "INFO - 10:36:37: worker thread finished; awaiting finish of 2 more threads\n",
      "INFO - 10:36:37: worker thread finished; awaiting finish of 1 more threads\n",
      "INFO - 10:36:37: worker thread finished; awaiting finish of 0 more threads\n",
      "INFO - 10:36:37: EPOCH - 56 : training on 576654 raw words (346557 effective words) took 1.5s, 230710 effective words/s\n",
      "INFO - 10:36:38: EPOCH 57 - PROGRESS: at 67.78% examples, 228231 words/s, in_qsize 0, out_qsize 0\n",
      "INFO - 10:36:38: worker thread finished; awaiting finish of 14 more threads\n",
      "INFO - 10:36:38: worker thread finished; awaiting finish of 13 more threads\n",
      "INFO - 10:36:38: worker thread finished; awaiting finish of 12 more threads\n",
      "INFO - 10:36:38: worker thread finished; awaiting finish of 11 more threads\n",
      "INFO - 10:36:38: worker thread finished; awaiting finish of 10 more threads\n",
      "INFO - 10:36:38: worker thread finished; awaiting finish of 9 more threads\n",
      "INFO - 10:36:38: worker thread finished; awaiting finish of 8 more threads\n",
      "INFO - 10:36:38: worker thread finished; awaiting finish of 7 more threads\n",
      "INFO - 10:36:38: worker thread finished; awaiting finish of 6 more threads\n",
      "INFO - 10:36:38: worker thread finished; awaiting finish of 5 more threads\n",
      "INFO - 10:36:38: worker thread finished; awaiting finish of 4 more threads\n",
      "INFO - 10:36:38: worker thread finished; awaiting finish of 3 more threads\n",
      "INFO - 10:36:38: worker thread finished; awaiting finish of 2 more threads\n",
      "INFO - 10:36:38: worker thread finished; awaiting finish of 1 more threads\n",
      "INFO - 10:36:38: worker thread finished; awaiting finish of 0 more threads\n",
      "INFO - 10:36:38: EPOCH - 57 : training on 576654 raw words (346347 effective words) took 1.5s, 231810 effective words/s\n",
      "INFO - 10:36:39: EPOCH 58 - PROGRESS: at 66.01% examples, 227979 words/s, in_qsize 0, out_qsize 0\n",
      "INFO - 10:36:40: worker thread finished; awaiting finish of 14 more threads\n",
      "INFO - 10:36:40: worker thread finished; awaiting finish of 13 more threads\n",
      "INFO - 10:36:40: worker thread finished; awaiting finish of 12 more threads\n",
      "INFO - 10:36:40: worker thread finished; awaiting finish of 11 more threads\n",
      "INFO - 10:36:40: worker thread finished; awaiting finish of 10 more threads\n",
      "INFO - 10:36:40: worker thread finished; awaiting finish of 9 more threads\n",
      "INFO - 10:36:40: worker thread finished; awaiting finish of 8 more threads\n",
      "INFO - 10:36:40: worker thread finished; awaiting finish of 7 more threads\n",
      "INFO - 10:36:40: worker thread finished; awaiting finish of 6 more threads\n",
      "INFO - 10:36:40: worker thread finished; awaiting finish of 5 more threads\n",
      "INFO - 10:36:40: worker thread finished; awaiting finish of 4 more threads\n",
      "INFO - 10:36:40: worker thread finished; awaiting finish of 3 more threads\n",
      "INFO - 10:36:40: worker thread finished; awaiting finish of 2 more threads\n",
      "INFO - 10:36:40: worker thread finished; awaiting finish of 1 more threads\n",
      "INFO - 10:36:40: worker thread finished; awaiting finish of 0 more threads\n",
      "INFO - 10:36:40: EPOCH - 58 : training on 576654 raw words (346537 effective words) took 1.5s, 230530 effective words/s\n",
      "INFO - 10:36:41: EPOCH 59 - PROGRESS: at 66.01% examples, 221892 words/s, in_qsize 0, out_qsize 1\n",
      "INFO - 10:36:41: worker thread finished; awaiting finish of 14 more threads\n",
      "INFO - 10:36:41: worker thread finished; awaiting finish of 13 more threads\n",
      "INFO - 10:36:41: worker thread finished; awaiting finish of 12 more threads\n",
      "INFO - 10:36:41: worker thread finished; awaiting finish of 11 more threads\n",
      "INFO - 10:36:41: worker thread finished; awaiting finish of 10 more threads\n",
      "INFO - 10:36:41: worker thread finished; awaiting finish of 9 more threads\n",
      "INFO - 10:36:41: worker thread finished; awaiting finish of 8 more threads\n",
      "INFO - 10:36:41: worker thread finished; awaiting finish of 7 more threads\n",
      "INFO - 10:36:41: worker thread finished; awaiting finish of 6 more threads\n",
      "INFO - 10:36:41: worker thread finished; awaiting finish of 5 more threads\n",
      "INFO - 10:36:41: worker thread finished; awaiting finish of 4 more threads\n",
      "INFO - 10:36:41: worker thread finished; awaiting finish of 3 more threads\n",
      "INFO - 10:36:41: worker thread finished; awaiting finish of 2 more threads\n",
      "INFO - 10:36:41: worker thread finished; awaiting finish of 1 more threads\n",
      "INFO - 10:36:41: worker thread finished; awaiting finish of 0 more threads\n",
      "INFO - 10:36:41: EPOCH - 59 : training on 576654 raw words (346379 effective words) took 1.5s, 230506 effective words/s\n",
      "INFO - 10:36:42: EPOCH 60 - PROGRESS: at 64.39% examples, 220430 words/s, in_qsize 0, out_qsize 0\n",
      "INFO - 10:36:43: worker thread finished; awaiting finish of 14 more threads\n",
      "INFO - 10:36:43: worker thread finished; awaiting finish of 13 more threads\n",
      "INFO - 10:36:43: worker thread finished; awaiting finish of 12 more threads\n",
      "INFO - 10:36:43: worker thread finished; awaiting finish of 11 more threads\n",
      "INFO - 10:36:43: worker thread finished; awaiting finish of 10 more threads\n",
      "INFO - 10:36:43: worker thread finished; awaiting finish of 9 more threads\n",
      "INFO - 10:36:43: worker thread finished; awaiting finish of 8 more threads\n",
      "INFO - 10:36:43: worker thread finished; awaiting finish of 7 more threads\n",
      "INFO - 10:36:43: worker thread finished; awaiting finish of 6 more threads\n",
      "INFO - 10:36:43: worker thread finished; awaiting finish of 5 more threads\n",
      "INFO - 10:36:43: worker thread finished; awaiting finish of 4 more threads\n",
      "INFO - 10:36:43: worker thread finished; awaiting finish of 3 more threads\n",
      "INFO - 10:36:43: worker thread finished; awaiting finish of 2 more threads\n",
      "INFO - 10:36:43: worker thread finished; awaiting finish of 1 more threads\n",
      "INFO - 10:36:43: worker thread finished; awaiting finish of 0 more threads\n",
      "INFO - 10:36:43: EPOCH - 60 : training on 576654 raw words (346751 effective words) took 1.5s, 229590 effective words/s\n",
      "INFO - 10:36:44: EPOCH 61 - PROGRESS: at 66.01% examples, 226418 words/s, in_qsize 0, out_qsize 0\n",
      "INFO - 10:36:44: worker thread finished; awaiting finish of 14 more threads\n",
      "INFO - 10:36:44: worker thread finished; awaiting finish of 13 more threads\n",
      "INFO - 10:36:44: worker thread finished; awaiting finish of 12 more threads\n",
      "INFO - 10:36:44: worker thread finished; awaiting finish of 11 more threads\n",
      "INFO - 10:36:44: worker thread finished; awaiting finish of 10 more threads\n",
      "INFO - 10:36:44: worker thread finished; awaiting finish of 9 more threads\n",
      "INFO - 10:36:44: worker thread finished; awaiting finish of 8 more threads\n",
      "INFO - 10:36:44: worker thread finished; awaiting finish of 7 more threads\n",
      "INFO - 10:36:44: worker thread finished; awaiting finish of 6 more threads\n",
      "INFO - 10:36:44: worker thread finished; awaiting finish of 5 more threads\n",
      "INFO - 10:36:44: worker thread finished; awaiting finish of 4 more threads\n",
      "INFO - 10:36:44: worker thread finished; awaiting finish of 3 more threads\n",
      "INFO - 10:36:44: worker thread finished; awaiting finish of 2 more threads\n",
      "INFO - 10:36:44: worker thread finished; awaiting finish of 1 more threads\n",
      "INFO - 10:36:45: worker thread finished; awaiting finish of 0 more threads\n",
      "INFO - 10:36:45: EPOCH - 61 : training on 576654 raw words (346904 effective words) took 1.5s, 228909 effective words/s\n"
     ]
    },
    {
     "name": "stderr",
     "output_type": "stream",
     "text": [
      "INFO - 10:36:46: EPOCH 62 - PROGRESS: at 66.01% examples, 224760 words/s, in_qsize 0, out_qsize 0\n",
      "INFO - 10:36:46: worker thread finished; awaiting finish of 14 more threads\n",
      "INFO - 10:36:46: worker thread finished; awaiting finish of 13 more threads\n",
      "INFO - 10:36:46: worker thread finished; awaiting finish of 12 more threads\n",
      "INFO - 10:36:46: worker thread finished; awaiting finish of 11 more threads\n",
      "INFO - 10:36:46: worker thread finished; awaiting finish of 10 more threads\n",
      "INFO - 10:36:46: worker thread finished; awaiting finish of 9 more threads\n",
      "INFO - 10:36:46: worker thread finished; awaiting finish of 8 more threads\n",
      "INFO - 10:36:46: worker thread finished; awaiting finish of 7 more threads\n",
      "INFO - 10:36:46: worker thread finished; awaiting finish of 6 more threads\n",
      "INFO - 10:36:46: worker thread finished; awaiting finish of 5 more threads\n",
      "INFO - 10:36:46: worker thread finished; awaiting finish of 4 more threads\n",
      "INFO - 10:36:46: worker thread finished; awaiting finish of 3 more threads\n",
      "INFO - 10:36:46: worker thread finished; awaiting finish of 2 more threads\n",
      "INFO - 10:36:46: worker thread finished; awaiting finish of 1 more threads\n",
      "INFO - 10:36:46: worker thread finished; awaiting finish of 0 more threads\n",
      "INFO - 10:36:46: EPOCH - 62 : training on 576654 raw words (346388 effective words) took 1.5s, 228948 effective words/s\n",
      "INFO - 10:36:47: EPOCH 63 - PROGRESS: at 64.39% examples, 221248 words/s, in_qsize 0, out_qsize 0\n",
      "INFO - 10:36:48: worker thread finished; awaiting finish of 14 more threads\n",
      "INFO - 10:36:48: worker thread finished; awaiting finish of 13 more threads\n",
      "INFO - 10:36:48: worker thread finished; awaiting finish of 12 more threads\n",
      "INFO - 10:36:48: worker thread finished; awaiting finish of 11 more threads\n",
      "INFO - 10:36:48: worker thread finished; awaiting finish of 10 more threads\n",
      "INFO - 10:36:48: worker thread finished; awaiting finish of 9 more threads\n",
      "INFO - 10:36:48: worker thread finished; awaiting finish of 8 more threads\n",
      "INFO - 10:36:48: worker thread finished; awaiting finish of 7 more threads\n",
      "INFO - 10:36:48: worker thread finished; awaiting finish of 6 more threads\n",
      "INFO - 10:36:48: worker thread finished; awaiting finish of 5 more threads\n",
      "INFO - 10:36:48: worker thread finished; awaiting finish of 4 more threads\n",
      "INFO - 10:36:48: worker thread finished; awaiting finish of 3 more threads\n",
      "INFO - 10:36:48: worker thread finished; awaiting finish of 2 more threads\n",
      "INFO - 10:36:48: worker thread finished; awaiting finish of 1 more threads\n",
      "INFO - 10:36:48: worker thread finished; awaiting finish of 0 more threads\n",
      "INFO - 10:36:48: EPOCH - 63 : training on 576654 raw words (346257 effective words) took 1.5s, 230281 effective words/s\n",
      "INFO - 10:36:49: EPOCH 64 - PROGRESS: at 66.01% examples, 226667 words/s, in_qsize 0, out_qsize 0\n",
      "INFO - 10:36:49: worker thread finished; awaiting finish of 14 more threads\n",
      "INFO - 10:36:49: worker thread finished; awaiting finish of 13 more threads\n",
      "INFO - 10:36:49: worker thread finished; awaiting finish of 12 more threads\n",
      "INFO - 10:36:49: worker thread finished; awaiting finish of 11 more threads\n",
      "INFO - 10:36:49: worker thread finished; awaiting finish of 10 more threads\n",
      "INFO - 10:36:49: worker thread finished; awaiting finish of 9 more threads\n",
      "INFO - 10:36:49: worker thread finished; awaiting finish of 8 more threads\n",
      "INFO - 10:36:49: worker thread finished; awaiting finish of 7 more threads\n",
      "INFO - 10:36:49: worker thread finished; awaiting finish of 6 more threads\n",
      "INFO - 10:36:49: worker thread finished; awaiting finish of 5 more threads\n",
      "INFO - 10:36:49: worker thread finished; awaiting finish of 4 more threads\n",
      "INFO - 10:36:49: worker thread finished; awaiting finish of 3 more threads\n",
      "INFO - 10:36:49: worker thread finished; awaiting finish of 2 more threads\n",
      "INFO - 10:36:49: worker thread finished; awaiting finish of 1 more threads\n",
      "INFO - 10:36:49: worker thread finished; awaiting finish of 0 more threads\n",
      "INFO - 10:36:49: EPOCH - 64 : training on 576654 raw words (347025 effective words) took 1.5s, 230666 effective words/s\n",
      "INFO - 10:36:50: EPOCH 65 - PROGRESS: at 66.01% examples, 226991 words/s, in_qsize 0, out_qsize 0\n",
      "INFO - 10:36:51: worker thread finished; awaiting finish of 14 more threads\n",
      "INFO - 10:36:51: worker thread finished; awaiting finish of 13 more threads\n",
      "INFO - 10:36:51: worker thread finished; awaiting finish of 12 more threads\n",
      "INFO - 10:36:51: worker thread finished; awaiting finish of 11 more threads\n",
      "INFO - 10:36:51: worker thread finished; awaiting finish of 10 more threads\n",
      "INFO - 10:36:51: worker thread finished; awaiting finish of 9 more threads\n",
      "INFO - 10:36:51: worker thread finished; awaiting finish of 8 more threads\n",
      "INFO - 10:36:51: worker thread finished; awaiting finish of 7 more threads\n",
      "INFO - 10:36:51: worker thread finished; awaiting finish of 6 more threads\n",
      "INFO - 10:36:51: worker thread finished; awaiting finish of 5 more threads\n",
      "INFO - 10:36:51: worker thread finished; awaiting finish of 4 more threads\n",
      "INFO - 10:36:51: worker thread finished; awaiting finish of 3 more threads\n",
      "INFO - 10:36:51: worker thread finished; awaiting finish of 2 more threads\n",
      "INFO - 10:36:51: worker thread finished; awaiting finish of 1 more threads\n",
      "INFO - 10:36:51: worker thread finished; awaiting finish of 0 more threads\n",
      "INFO - 10:36:51: EPOCH - 65 : training on 576654 raw words (346579 effective words) took 1.5s, 231350 effective words/s\n",
      "INFO - 10:36:52: EPOCH 66 - PROGRESS: at 67.78% examples, 225406 words/s, in_qsize 1, out_qsize 0\n",
      "INFO - 10:36:52: worker thread finished; awaiting finish of 14 more threads\n",
      "INFO - 10:36:52: worker thread finished; awaiting finish of 13 more threads\n",
      "INFO - 10:36:52: worker thread finished; awaiting finish of 12 more threads\n",
      "INFO - 10:36:52: worker thread finished; awaiting finish of 11 more threads\n",
      "INFO - 10:36:52: worker thread finished; awaiting finish of 10 more threads\n",
      "INFO - 10:36:52: worker thread finished; awaiting finish of 9 more threads\n",
      "INFO - 10:36:52: worker thread finished; awaiting finish of 8 more threads\n",
      "INFO - 10:36:52: worker thread finished; awaiting finish of 7 more threads\n",
      "INFO - 10:36:52: worker thread finished; awaiting finish of 6 more threads\n",
      "INFO - 10:36:52: worker thread finished; awaiting finish of 5 more threads\n",
      "INFO - 10:36:52: worker thread finished; awaiting finish of 4 more threads\n",
      "INFO - 10:36:52: worker thread finished; awaiting finish of 3 more threads\n",
      "INFO - 10:36:52: worker thread finished; awaiting finish of 2 more threads\n",
      "INFO - 10:36:52: worker thread finished; awaiting finish of 1 more threads\n",
      "INFO - 10:36:52: worker thread finished; awaiting finish of 0 more threads\n",
      "INFO - 10:36:52: EPOCH - 66 : training on 576654 raw words (346713 effective words) took 1.5s, 231773 effective words/s\n",
      "INFO - 10:36:53: EPOCH 67 - PROGRESS: at 66.01% examples, 226614 words/s, in_qsize 0, out_qsize 0\n",
      "INFO - 10:36:54: worker thread finished; awaiting finish of 14 more threads\n",
      "INFO - 10:36:54: worker thread finished; awaiting finish of 13 more threads\n",
      "INFO - 10:36:54: worker thread finished; awaiting finish of 12 more threads\n",
      "INFO - 10:36:54: worker thread finished; awaiting finish of 11 more threads\n",
      "INFO - 10:36:54: worker thread finished; awaiting finish of 10 more threads\n",
      "INFO - 10:36:54: worker thread finished; awaiting finish of 9 more threads\n",
      "INFO - 10:36:54: worker thread finished; awaiting finish of 8 more threads\n",
      "INFO - 10:36:54: worker thread finished; awaiting finish of 7 more threads\n",
      "INFO - 10:36:54: worker thread finished; awaiting finish of 6 more threads\n",
      "INFO - 10:36:54: worker thread finished; awaiting finish of 5 more threads\n",
      "INFO - 10:36:54: worker thread finished; awaiting finish of 4 more threads\n",
      "INFO - 10:36:54: worker thread finished; awaiting finish of 3 more threads\n",
      "INFO - 10:36:54: worker thread finished; awaiting finish of 2 more threads\n",
      "INFO - 10:36:54: worker thread finished; awaiting finish of 1 more threads\n",
      "INFO - 10:36:54: worker thread finished; awaiting finish of 0 more threads\n",
      "INFO - 10:36:54: EPOCH - 67 : training on 576654 raw words (346593 effective words) took 1.5s, 231512 effective words/s\n",
      "INFO - 10:36:55: EPOCH 68 - PROGRESS: at 66.01% examples, 227988 words/s, in_qsize 0, out_qsize 0\n",
      "INFO - 10:36:55: worker thread finished; awaiting finish of 14 more threads\n"
     ]
    },
    {
     "name": "stderr",
     "output_type": "stream",
     "text": [
      "INFO - 10:36:55: worker thread finished; awaiting finish of 13 more threads\n",
      "INFO - 10:36:55: worker thread finished; awaiting finish of 12 more threads\n",
      "INFO - 10:36:55: worker thread finished; awaiting finish of 11 more threads\n",
      "INFO - 10:36:55: worker thread finished; awaiting finish of 10 more threads\n",
      "INFO - 10:36:55: worker thread finished; awaiting finish of 9 more threads\n",
      "INFO - 10:36:55: worker thread finished; awaiting finish of 8 more threads\n",
      "INFO - 10:36:55: worker thread finished; awaiting finish of 7 more threads\n",
      "INFO - 10:36:55: worker thread finished; awaiting finish of 6 more threads\n",
      "INFO - 10:36:55: worker thread finished; awaiting finish of 5 more threads\n",
      "INFO - 10:36:55: worker thread finished; awaiting finish of 4 more threads\n",
      "INFO - 10:36:55: worker thread finished; awaiting finish of 3 more threads\n",
      "INFO - 10:36:55: worker thread finished; awaiting finish of 2 more threads\n",
      "INFO - 10:36:55: worker thread finished; awaiting finish of 1 more threads\n",
      "INFO - 10:36:55: worker thread finished; awaiting finish of 0 more threads\n",
      "INFO - 10:36:55: EPOCH - 68 : training on 576654 raw words (346948 effective words) took 1.5s, 231553 effective words/s\n",
      "INFO - 10:36:56: EPOCH 69 - PROGRESS: at 66.01% examples, 222773 words/s, in_qsize 0, out_qsize 1\n",
      "INFO - 10:36:57: worker thread finished; awaiting finish of 14 more threads\n",
      "INFO - 10:36:57: worker thread finished; awaiting finish of 13 more threads\n",
      "INFO - 10:36:57: worker thread finished; awaiting finish of 12 more threads\n",
      "INFO - 10:36:57: worker thread finished; awaiting finish of 11 more threads\n",
      "INFO - 10:36:57: worker thread finished; awaiting finish of 10 more threads\n",
      "INFO - 10:36:57: worker thread finished; awaiting finish of 9 more threads\n",
      "INFO - 10:36:57: worker thread finished; awaiting finish of 8 more threads\n",
      "INFO - 10:36:57: worker thread finished; awaiting finish of 7 more threads\n",
      "INFO - 10:36:57: worker thread finished; awaiting finish of 6 more threads\n",
      "INFO - 10:36:57: worker thread finished; awaiting finish of 5 more threads\n",
      "INFO - 10:36:57: worker thread finished; awaiting finish of 4 more threads\n",
      "INFO - 10:36:57: worker thread finished; awaiting finish of 3 more threads\n",
      "INFO - 10:36:57: worker thread finished; awaiting finish of 2 more threads\n",
      "INFO - 10:36:57: worker thread finished; awaiting finish of 1 more threads\n",
      "INFO - 10:36:57: worker thread finished; awaiting finish of 0 more threads\n",
      "INFO - 10:36:57: EPOCH - 69 : training on 576654 raw words (346770 effective words) took 1.5s, 231610 effective words/s\n",
      "INFO - 10:36:58: EPOCH 70 - PROGRESS: at 66.01% examples, 226835 words/s, in_qsize 0, out_qsize 0\n",
      "INFO - 10:36:58: worker thread finished; awaiting finish of 14 more threads\n",
      "INFO - 10:36:58: worker thread finished; awaiting finish of 13 more threads\n",
      "INFO - 10:36:58: worker thread finished; awaiting finish of 12 more threads\n",
      "INFO - 10:36:58: worker thread finished; awaiting finish of 11 more threads\n",
      "INFO - 10:36:58: worker thread finished; awaiting finish of 10 more threads\n",
      "INFO - 10:36:58: worker thread finished; awaiting finish of 9 more threads\n",
      "INFO - 10:36:58: worker thread finished; awaiting finish of 8 more threads\n",
      "INFO - 10:36:58: worker thread finished; awaiting finish of 7 more threads\n",
      "INFO - 10:36:58: worker thread finished; awaiting finish of 6 more threads\n",
      "INFO - 10:36:58: worker thread finished; awaiting finish of 5 more threads\n",
      "INFO - 10:36:58: worker thread finished; awaiting finish of 4 more threads\n",
      "INFO - 10:36:58: worker thread finished; awaiting finish of 3 more threads\n",
      "INFO - 10:36:58: worker thread finished; awaiting finish of 2 more threads\n",
      "INFO - 10:36:58: worker thread finished; awaiting finish of 1 more threads\n",
      "INFO - 10:36:58: worker thread finished; awaiting finish of 0 more threads\n",
      "INFO - 10:36:58: EPOCH - 70 : training on 576654 raw words (346156 effective words) took 1.5s, 231313 effective words/s\n",
      "INFO - 10:36:59: EPOCH 71 - PROGRESS: at 66.01% examples, 224788 words/s, in_qsize 1, out_qsize 0\n",
      "INFO - 10:37:00: worker thread finished; awaiting finish of 14 more threads\n",
      "INFO - 10:37:00: worker thread finished; awaiting finish of 13 more threads\n",
      "INFO - 10:37:00: worker thread finished; awaiting finish of 12 more threads\n",
      "INFO - 10:37:00: worker thread finished; awaiting finish of 11 more threads\n",
      "INFO - 10:37:00: worker thread finished; awaiting finish of 10 more threads\n",
      "INFO - 10:37:00: worker thread finished; awaiting finish of 9 more threads\n",
      "INFO - 10:37:00: worker thread finished; awaiting finish of 8 more threads\n",
      "INFO - 10:37:00: worker thread finished; awaiting finish of 7 more threads\n",
      "INFO - 10:37:00: worker thread finished; awaiting finish of 6 more threads\n",
      "INFO - 10:37:00: worker thread finished; awaiting finish of 5 more threads\n",
      "INFO - 10:37:00: worker thread finished; awaiting finish of 4 more threads\n",
      "INFO - 10:37:00: worker thread finished; awaiting finish of 3 more threads\n",
      "INFO - 10:37:00: worker thread finished; awaiting finish of 2 more threads\n",
      "INFO - 10:37:00: worker thread finished; awaiting finish of 1 more threads\n",
      "INFO - 10:37:00: worker thread finished; awaiting finish of 0 more threads\n",
      "INFO - 10:37:00: EPOCH - 71 : training on 576654 raw words (346584 effective words) took 1.5s, 231362 effective words/s\n",
      "INFO - 10:37:01: EPOCH 72 - PROGRESS: at 66.01% examples, 224821 words/s, in_qsize 0, out_qsize 0\n",
      "INFO - 10:37:01: worker thread finished; awaiting finish of 14 more threads\n",
      "INFO - 10:37:01: worker thread finished; awaiting finish of 13 more threads\n",
      "INFO - 10:37:01: worker thread finished; awaiting finish of 12 more threads\n",
      "INFO - 10:37:01: worker thread finished; awaiting finish of 11 more threads\n",
      "INFO - 10:37:01: worker thread finished; awaiting finish of 10 more threads\n",
      "INFO - 10:37:01: worker thread finished; awaiting finish of 9 more threads\n",
      "INFO - 10:37:01: worker thread finished; awaiting finish of 8 more threads\n",
      "INFO - 10:37:01: worker thread finished; awaiting finish of 7 more threads\n",
      "INFO - 10:37:01: worker thread finished; awaiting finish of 6 more threads\n",
      "INFO - 10:37:01: worker thread finished; awaiting finish of 5 more threads\n",
      "INFO - 10:37:01: worker thread finished; awaiting finish of 4 more threads\n",
      "INFO - 10:37:01: worker thread finished; awaiting finish of 3 more threads\n",
      "INFO - 10:37:01: worker thread finished; awaiting finish of 2 more threads\n",
      "INFO - 10:37:01: worker thread finished; awaiting finish of 1 more threads\n",
      "INFO - 10:37:01: worker thread finished; awaiting finish of 0 more threads\n",
      "INFO - 10:37:01: EPOCH - 72 : training on 576654 raw words (346499 effective words) took 1.5s, 231469 effective words/s\n",
      "INFO - 10:37:02: EPOCH 73 - PROGRESS: at 66.01% examples, 222985 words/s, in_qsize 0, out_qsize 0\n",
      "INFO - 10:37:03: worker thread finished; awaiting finish of 14 more threads\n",
      "INFO - 10:37:03: worker thread finished; awaiting finish of 13 more threads\n",
      "INFO - 10:37:03: worker thread finished; awaiting finish of 12 more threads\n",
      "INFO - 10:37:03: worker thread finished; awaiting finish of 11 more threads\n",
      "INFO - 10:37:03: worker thread finished; awaiting finish of 10 more threads\n",
      "INFO - 10:37:03: worker thread finished; awaiting finish of 9 more threads\n",
      "INFO - 10:37:03: worker thread finished; awaiting finish of 8 more threads\n",
      "INFO - 10:37:03: worker thread finished; awaiting finish of 7 more threads\n",
      "INFO - 10:37:03: worker thread finished; awaiting finish of 6 more threads\n",
      "INFO - 10:37:03: worker thread finished; awaiting finish of 5 more threads\n",
      "INFO - 10:37:03: worker thread finished; awaiting finish of 4 more threads\n",
      "INFO - 10:37:03: worker thread finished; awaiting finish of 3 more threads\n",
      "INFO - 10:37:03: worker thread finished; awaiting finish of 2 more threads\n",
      "INFO - 10:37:03: worker thread finished; awaiting finish of 1 more threads\n",
      "INFO - 10:37:03: worker thread finished; awaiting finish of 0 more threads\n",
      "INFO - 10:37:03: EPOCH - 73 : training on 576654 raw words (346722 effective words) took 1.5s, 231734 effective words/s\n",
      "INFO - 10:37:04: EPOCH 74 - PROGRESS: at 66.01% examples, 227078 words/s, in_qsize 0, out_qsize 0\n",
      "INFO - 10:37:04: worker thread finished; awaiting finish of 14 more threads\n",
      "INFO - 10:37:04: worker thread finished; awaiting finish of 13 more threads\n",
      "INFO - 10:37:04: worker thread finished; awaiting finish of 12 more threads\n"
     ]
    },
    {
     "name": "stderr",
     "output_type": "stream",
     "text": [
      "INFO - 10:37:04: worker thread finished; awaiting finish of 11 more threads\n",
      "INFO - 10:37:04: worker thread finished; awaiting finish of 10 more threads\n",
      "INFO - 10:37:04: worker thread finished; awaiting finish of 9 more threads\n",
      "INFO - 10:37:04: worker thread finished; awaiting finish of 8 more threads\n",
      "INFO - 10:37:04: worker thread finished; awaiting finish of 7 more threads\n",
      "INFO - 10:37:04: worker thread finished; awaiting finish of 6 more threads\n",
      "INFO - 10:37:04: worker thread finished; awaiting finish of 5 more threads\n",
      "INFO - 10:37:04: worker thread finished; awaiting finish of 4 more threads\n",
      "INFO - 10:37:04: worker thread finished; awaiting finish of 3 more threads\n",
      "INFO - 10:37:04: worker thread finished; awaiting finish of 2 more threads\n",
      "INFO - 10:37:04: worker thread finished; awaiting finish of 1 more threads\n",
      "INFO - 10:37:04: worker thread finished; awaiting finish of 0 more threads\n",
      "INFO - 10:37:04: EPOCH - 74 : training on 576654 raw words (346970 effective words) took 1.5s, 231343 effective words/s\n",
      "INFO - 10:37:05: EPOCH 75 - PROGRESS: at 66.01% examples, 226665 words/s, in_qsize 0, out_qsize 0\n",
      "INFO - 10:37:06: worker thread finished; awaiting finish of 14 more threads\n",
      "INFO - 10:37:06: worker thread finished; awaiting finish of 13 more threads\n",
      "INFO - 10:37:06: worker thread finished; awaiting finish of 12 more threads\n",
      "INFO - 10:37:06: worker thread finished; awaiting finish of 11 more threads\n",
      "INFO - 10:37:06: worker thread finished; awaiting finish of 10 more threads\n",
      "INFO - 10:37:06: worker thread finished; awaiting finish of 9 more threads\n",
      "INFO - 10:37:06: worker thread finished; awaiting finish of 8 more threads\n",
      "INFO - 10:37:06: worker thread finished; awaiting finish of 7 more threads\n",
      "INFO - 10:37:06: worker thread finished; awaiting finish of 6 more threads\n",
      "INFO - 10:37:06: worker thread finished; awaiting finish of 5 more threads\n",
      "INFO - 10:37:06: worker thread finished; awaiting finish of 4 more threads\n",
      "INFO - 10:37:06: worker thread finished; awaiting finish of 3 more threads\n",
      "INFO - 10:37:06: worker thread finished; awaiting finish of 2 more threads\n",
      "INFO - 10:37:06: worker thread finished; awaiting finish of 1 more threads\n",
      "INFO - 10:37:06: worker thread finished; awaiting finish of 0 more threads\n",
      "INFO - 10:37:06: EPOCH - 75 : training on 576654 raw words (346881 effective words) took 1.5s, 231361 effective words/s\n",
      "INFO - 10:37:07: EPOCH 76 - PROGRESS: at 66.01% examples, 226353 words/s, in_qsize 0, out_qsize 0\n",
      "INFO - 10:37:07: worker thread finished; awaiting finish of 14 more threads\n",
      "INFO - 10:37:07: worker thread finished; awaiting finish of 13 more threads\n",
      "INFO - 10:37:07: worker thread finished; awaiting finish of 12 more threads\n",
      "INFO - 10:37:07: worker thread finished; awaiting finish of 11 more threads\n",
      "INFO - 10:37:07: worker thread finished; awaiting finish of 10 more threads\n",
      "INFO - 10:37:07: worker thread finished; awaiting finish of 9 more threads\n",
      "INFO - 10:37:07: worker thread finished; awaiting finish of 8 more threads\n",
      "INFO - 10:37:07: worker thread finished; awaiting finish of 7 more threads\n",
      "INFO - 10:37:07: worker thread finished; awaiting finish of 6 more threads\n",
      "INFO - 10:37:07: worker thread finished; awaiting finish of 5 more threads\n",
      "INFO - 10:37:07: worker thread finished; awaiting finish of 4 more threads\n",
      "INFO - 10:37:07: worker thread finished; awaiting finish of 3 more threads\n",
      "INFO - 10:37:07: worker thread finished; awaiting finish of 2 more threads\n",
      "INFO - 10:37:07: worker thread finished; awaiting finish of 1 more threads\n",
      "INFO - 10:37:07: worker thread finished; awaiting finish of 0 more threads\n",
      "INFO - 10:37:07: EPOCH - 76 : training on 576654 raw words (346798 effective words) took 1.5s, 231466 effective words/s\n",
      "INFO - 10:37:08: EPOCH 77 - PROGRESS: at 66.01% examples, 226832 words/s, in_qsize 0, out_qsize 0\n",
      "INFO - 10:37:09: worker thread finished; awaiting finish of 14 more threads\n",
      "INFO - 10:37:09: worker thread finished; awaiting finish of 13 more threads\n",
      "INFO - 10:37:09: worker thread finished; awaiting finish of 12 more threads\n",
      "INFO - 10:37:09: worker thread finished; awaiting finish of 11 more threads\n",
      "INFO - 10:37:09: worker thread finished; awaiting finish of 10 more threads\n",
      "INFO - 10:37:09: worker thread finished; awaiting finish of 9 more threads\n",
      "INFO - 10:37:09: worker thread finished; awaiting finish of 8 more threads\n",
      "INFO - 10:37:09: worker thread finished; awaiting finish of 7 more threads\n",
      "INFO - 10:37:09: worker thread finished; awaiting finish of 6 more threads\n",
      "INFO - 10:37:09: worker thread finished; awaiting finish of 5 more threads\n",
      "INFO - 10:37:09: worker thread finished; awaiting finish of 4 more threads\n",
      "INFO - 10:37:09: worker thread finished; awaiting finish of 3 more threads\n",
      "INFO - 10:37:09: worker thread finished; awaiting finish of 2 more threads\n",
      "INFO - 10:37:09: worker thread finished; awaiting finish of 1 more threads\n",
      "INFO - 10:37:09: worker thread finished; awaiting finish of 0 more threads\n",
      "INFO - 10:37:09: EPOCH - 77 : training on 576654 raw words (346681 effective words) took 1.5s, 231456 effective words/s\n",
      "INFO - 10:37:10: EPOCH 78 - PROGRESS: at 67.78% examples, 229622 words/s, in_qsize 0, out_qsize 0\n",
      "INFO - 10:37:10: worker thread finished; awaiting finish of 14 more threads\n",
      "INFO - 10:37:10: worker thread finished; awaiting finish of 13 more threads\n",
      "INFO - 10:37:10: worker thread finished; awaiting finish of 12 more threads\n",
      "INFO - 10:37:10: worker thread finished; awaiting finish of 11 more threads\n",
      "INFO - 10:37:10: worker thread finished; awaiting finish of 10 more threads\n",
      "INFO - 10:37:10: worker thread finished; awaiting finish of 9 more threads\n",
      "INFO - 10:37:10: worker thread finished; awaiting finish of 8 more threads\n",
      "INFO - 10:37:10: worker thread finished; awaiting finish of 7 more threads\n",
      "INFO - 10:37:10: worker thread finished; awaiting finish of 6 more threads\n",
      "INFO - 10:37:10: worker thread finished; awaiting finish of 5 more threads\n",
      "INFO - 10:37:10: worker thread finished; awaiting finish of 4 more threads\n",
      "INFO - 10:37:10: worker thread finished; awaiting finish of 3 more threads\n",
      "INFO - 10:37:10: worker thread finished; awaiting finish of 2 more threads\n",
      "INFO - 10:37:10: worker thread finished; awaiting finish of 1 more threads\n",
      "INFO - 10:37:10: worker thread finished; awaiting finish of 0 more threads\n",
      "INFO - 10:37:10: EPOCH - 78 : training on 576654 raw words (346155 effective words) took 1.5s, 231244 effective words/s\n",
      "INFO - 10:37:11: EPOCH 79 - PROGRESS: at 67.78% examples, 223118 words/s, in_qsize 0, out_qsize 0\n",
      "INFO - 10:37:12: worker thread finished; awaiting finish of 14 more threads\n",
      "INFO - 10:37:12: worker thread finished; awaiting finish of 13 more threads\n",
      "INFO - 10:37:12: worker thread finished; awaiting finish of 12 more threads\n",
      "INFO - 10:37:12: worker thread finished; awaiting finish of 11 more threads\n",
      "INFO - 10:37:12: worker thread finished; awaiting finish of 10 more threads\n",
      "INFO - 10:37:12: worker thread finished; awaiting finish of 9 more threads\n",
      "INFO - 10:37:12: worker thread finished; awaiting finish of 8 more threads\n",
      "INFO - 10:37:12: worker thread finished; awaiting finish of 7 more threads\n",
      "INFO - 10:37:12: worker thread finished; awaiting finish of 6 more threads\n",
      "INFO - 10:37:12: worker thread finished; awaiting finish of 5 more threads\n",
      "INFO - 10:37:12: worker thread finished; awaiting finish of 4 more threads\n",
      "INFO - 10:37:12: worker thread finished; awaiting finish of 3 more threads\n",
      "INFO - 10:37:12: worker thread finished; awaiting finish of 2 more threads\n",
      "INFO - 10:37:12: worker thread finished; awaiting finish of 1 more threads\n",
      "INFO - 10:37:12: worker thread finished; awaiting finish of 0 more threads\n",
      "INFO - 10:37:12: EPOCH - 79 : training on 576654 raw words (346513 effective words) took 1.5s, 232112 effective words/s\n",
      "INFO - 10:37:13: EPOCH 80 - PROGRESS: at 52.58% examples, 170724 words/s, in_qsize 2, out_qsize 0\n",
      "INFO - 10:37:13: worker thread finished; awaiting finish of 14 more threads\n",
      "INFO - 10:37:13: worker thread finished; awaiting finish of 13 more threads\n",
      "INFO - 10:37:13: worker thread finished; awaiting finish of 12 more threads\n",
      "INFO - 10:37:13: worker thread finished; awaiting finish of 11 more threads\n",
      "INFO - 10:37:13: worker thread finished; awaiting finish of 10 more threads\n"
     ]
    },
    {
     "name": "stderr",
     "output_type": "stream",
     "text": [
      "INFO - 10:37:13: worker thread finished; awaiting finish of 9 more threads\n",
      "INFO - 10:37:13: worker thread finished; awaiting finish of 8 more threads\n",
      "INFO - 10:37:13: worker thread finished; awaiting finish of 7 more threads\n",
      "INFO - 10:37:13: worker thread finished; awaiting finish of 6 more threads\n",
      "INFO - 10:37:13: worker thread finished; awaiting finish of 5 more threads\n",
      "INFO - 10:37:13: worker thread finished; awaiting finish of 4 more threads\n",
      "INFO - 10:37:13: worker thread finished; awaiting finish of 3 more threads\n",
      "INFO - 10:37:13: worker thread finished; awaiting finish of 2 more threads\n",
      "INFO - 10:37:13: worker thread finished; awaiting finish of 1 more threads\n",
      "INFO - 10:37:13: worker thread finished; awaiting finish of 0 more threads\n",
      "INFO - 10:37:13: EPOCH - 80 : training on 576654 raw words (346953 effective words) took 1.4s, 243692 effective words/s\n",
      "INFO - 10:37:14: EPOCH 81 - PROGRESS: at 67.78% examples, 223173 words/s, in_qsize 0, out_qsize 0\n",
      "INFO - 10:37:15: worker thread finished; awaiting finish of 14 more threads\n",
      "INFO - 10:37:15: worker thread finished; awaiting finish of 13 more threads\n",
      "INFO - 10:37:15: worker thread finished; awaiting finish of 12 more threads\n",
      "INFO - 10:37:15: worker thread finished; awaiting finish of 11 more threads\n",
      "INFO - 10:37:15: worker thread finished; awaiting finish of 10 more threads\n",
      "INFO - 10:37:15: worker thread finished; awaiting finish of 9 more threads\n",
      "INFO - 10:37:15: worker thread finished; awaiting finish of 8 more threads\n",
      "INFO - 10:37:15: worker thread finished; awaiting finish of 7 more threads\n",
      "INFO - 10:37:15: worker thread finished; awaiting finish of 6 more threads\n",
      "INFO - 10:37:15: worker thread finished; awaiting finish of 5 more threads\n",
      "INFO - 10:37:15: worker thread finished; awaiting finish of 4 more threads\n",
      "INFO - 10:37:15: worker thread finished; awaiting finish of 3 more threads\n",
      "INFO - 10:37:15: worker thread finished; awaiting finish of 2 more threads\n",
      "INFO - 10:37:15: worker thread finished; awaiting finish of 1 more threads\n",
      "INFO - 10:37:15: worker thread finished; awaiting finish of 0 more threads\n",
      "INFO - 10:37:15: EPOCH - 81 : training on 576654 raw words (346565 effective words) took 1.5s, 231417 effective words/s\n",
      "INFO - 10:37:16: EPOCH 82 - PROGRESS: at 67.78% examples, 230158 words/s, in_qsize 0, out_qsize 0\n",
      "INFO - 10:37:16: worker thread finished; awaiting finish of 14 more threads\n",
      "INFO - 10:37:16: worker thread finished; awaiting finish of 13 more threads\n",
      "INFO - 10:37:16: worker thread finished; awaiting finish of 12 more threads\n",
      "INFO - 10:37:16: worker thread finished; awaiting finish of 11 more threads\n",
      "INFO - 10:37:16: worker thread finished; awaiting finish of 10 more threads\n",
      "INFO - 10:37:16: worker thread finished; awaiting finish of 9 more threads\n",
      "INFO - 10:37:16: worker thread finished; awaiting finish of 8 more threads\n",
      "INFO - 10:37:16: worker thread finished; awaiting finish of 7 more threads\n",
      "INFO - 10:37:16: worker thread finished; awaiting finish of 6 more threads\n",
      "INFO - 10:37:16: worker thread finished; awaiting finish of 5 more threads\n",
      "INFO - 10:37:16: worker thread finished; awaiting finish of 4 more threads\n",
      "INFO - 10:37:16: worker thread finished; awaiting finish of 3 more threads\n",
      "INFO - 10:37:16: worker thread finished; awaiting finish of 2 more threads\n",
      "INFO - 10:37:16: worker thread finished; awaiting finish of 1 more threads\n",
      "INFO - 10:37:16: worker thread finished; awaiting finish of 0 more threads\n",
      "INFO - 10:37:16: EPOCH - 82 : training on 576654 raw words (346642 effective words) took 1.5s, 231848 effective words/s\n",
      "INFO - 10:37:17: EPOCH 83 - PROGRESS: at 66.01% examples, 223074 words/s, in_qsize 0, out_qsize 0\n",
      "INFO - 10:37:18: worker thread finished; awaiting finish of 14 more threads\n",
      "INFO - 10:37:18: worker thread finished; awaiting finish of 13 more threads\n",
      "INFO - 10:37:18: worker thread finished; awaiting finish of 12 more threads\n",
      "INFO - 10:37:18: worker thread finished; awaiting finish of 11 more threads\n",
      "INFO - 10:37:18: worker thread finished; awaiting finish of 10 more threads\n",
      "INFO - 10:37:18: worker thread finished; awaiting finish of 9 more threads\n",
      "INFO - 10:37:18: worker thread finished; awaiting finish of 8 more threads\n",
      "INFO - 10:37:18: worker thread finished; awaiting finish of 7 more threads\n",
      "INFO - 10:37:18: worker thread finished; awaiting finish of 6 more threads\n",
      "INFO - 10:37:18: worker thread finished; awaiting finish of 5 more threads\n",
      "INFO - 10:37:18: worker thread finished; awaiting finish of 4 more threads\n",
      "INFO - 10:37:18: worker thread finished; awaiting finish of 3 more threads\n",
      "INFO - 10:37:18: worker thread finished; awaiting finish of 2 more threads\n",
      "INFO - 10:37:18: worker thread finished; awaiting finish of 1 more threads\n",
      "INFO - 10:37:18: worker thread finished; awaiting finish of 0 more threads\n",
      "INFO - 10:37:18: EPOCH - 83 : training on 576654 raw words (346566 effective words) took 1.5s, 231996 effective words/s\n",
      "INFO - 10:37:19: EPOCH 84 - PROGRESS: at 64.39% examples, 222453 words/s, in_qsize 0, out_qsize 0\n",
      "INFO - 10:37:19: worker thread finished; awaiting finish of 14 more threads\n",
      "INFO - 10:37:19: worker thread finished; awaiting finish of 13 more threads\n",
      "INFO - 10:37:19: worker thread finished; awaiting finish of 12 more threads\n",
      "INFO - 10:37:19: worker thread finished; awaiting finish of 11 more threads\n",
      "INFO - 10:37:19: worker thread finished; awaiting finish of 10 more threads\n",
      "INFO - 10:37:19: worker thread finished; awaiting finish of 9 more threads\n",
      "INFO - 10:37:19: worker thread finished; awaiting finish of 8 more threads\n",
      "INFO - 10:37:19: worker thread finished; awaiting finish of 7 more threads\n",
      "INFO - 10:37:19: worker thread finished; awaiting finish of 6 more threads\n",
      "INFO - 10:37:19: worker thread finished; awaiting finish of 5 more threads\n",
      "INFO - 10:37:19: worker thread finished; awaiting finish of 4 more threads\n",
      "INFO - 10:37:19: worker thread finished; awaiting finish of 3 more threads\n",
      "INFO - 10:37:19: worker thread finished; awaiting finish of 2 more threads\n",
      "INFO - 10:37:19: worker thread finished; awaiting finish of 1 more threads\n",
      "INFO - 10:37:19: worker thread finished; awaiting finish of 0 more threads\n",
      "INFO - 10:37:19: EPOCH - 84 : training on 576654 raw words (347025 effective words) took 1.5s, 231523 effective words/s\n",
      "INFO - 10:37:20: EPOCH 85 - PROGRESS: at 67.78% examples, 230134 words/s, in_qsize 0, out_qsize 0\n",
      "INFO - 10:37:21: worker thread finished; awaiting finish of 14 more threads\n",
      "INFO - 10:37:21: worker thread finished; awaiting finish of 13 more threads\n",
      "INFO - 10:37:21: worker thread finished; awaiting finish of 12 more threads\n",
      "INFO - 10:37:21: worker thread finished; awaiting finish of 11 more threads\n",
      "INFO - 10:37:21: worker thread finished; awaiting finish of 10 more threads\n",
      "INFO - 10:37:21: worker thread finished; awaiting finish of 9 more threads\n",
      "INFO - 10:37:21: worker thread finished; awaiting finish of 8 more threads\n",
      "INFO - 10:37:21: worker thread finished; awaiting finish of 7 more threads\n",
      "INFO - 10:37:21: worker thread finished; awaiting finish of 6 more threads\n",
      "INFO - 10:37:21: worker thread finished; awaiting finish of 5 more threads\n",
      "INFO - 10:37:21: worker thread finished; awaiting finish of 4 more threads\n",
      "INFO - 10:37:21: worker thread finished; awaiting finish of 3 more threads\n",
      "INFO - 10:37:21: worker thread finished; awaiting finish of 2 more threads\n",
      "INFO - 10:37:21: worker thread finished; awaiting finish of 1 more threads\n",
      "INFO - 10:37:21: worker thread finished; awaiting finish of 0 more threads\n",
      "INFO - 10:37:21: EPOCH - 85 : training on 576654 raw words (346488 effective words) took 1.5s, 231842 effective words/s\n",
      "INFO - 10:37:22: EPOCH 86 - PROGRESS: at 66.01% examples, 224292 words/s, in_qsize 0, out_qsize 0\n",
      "INFO - 10:37:22: worker thread finished; awaiting finish of 14 more threads\n",
      "INFO - 10:37:22: worker thread finished; awaiting finish of 13 more threads\n",
      "INFO - 10:37:22: worker thread finished; awaiting finish of 12 more threads\n",
      "INFO - 10:37:22: worker thread finished; awaiting finish of 11 more threads\n",
      "INFO - 10:37:22: worker thread finished; awaiting finish of 10 more threads\n",
      "INFO - 10:37:22: worker thread finished; awaiting finish of 9 more threads\n",
      "INFO - 10:37:22: worker thread finished; awaiting finish of 8 more threads\n"
     ]
    },
    {
     "name": "stderr",
     "output_type": "stream",
     "text": [
      "INFO - 10:37:22: worker thread finished; awaiting finish of 7 more threads\n",
      "INFO - 10:37:22: worker thread finished; awaiting finish of 6 more threads\n",
      "INFO - 10:37:22: worker thread finished; awaiting finish of 5 more threads\n",
      "INFO - 10:37:22: worker thread finished; awaiting finish of 4 more threads\n",
      "INFO - 10:37:22: worker thread finished; awaiting finish of 3 more threads\n",
      "INFO - 10:37:22: worker thread finished; awaiting finish of 2 more threads\n",
      "INFO - 10:37:22: worker thread finished; awaiting finish of 1 more threads\n",
      "INFO - 10:37:22: worker thread finished; awaiting finish of 0 more threads\n",
      "INFO - 10:37:22: EPOCH - 86 : training on 576654 raw words (346950 effective words) took 1.5s, 233018 effective words/s\n",
      "INFO - 10:37:23: EPOCH 87 - PROGRESS: at 67.78% examples, 222901 words/s, in_qsize 0, out_qsize 1\n",
      "INFO - 10:37:24: worker thread finished; awaiting finish of 14 more threads\n",
      "INFO - 10:37:24: worker thread finished; awaiting finish of 13 more threads\n",
      "INFO - 10:37:24: worker thread finished; awaiting finish of 12 more threads\n",
      "INFO - 10:37:24: worker thread finished; awaiting finish of 11 more threads\n",
      "INFO - 10:37:24: worker thread finished; awaiting finish of 10 more threads\n",
      "INFO - 10:37:24: worker thread finished; awaiting finish of 9 more threads\n",
      "INFO - 10:37:24: worker thread finished; awaiting finish of 8 more threads\n",
      "INFO - 10:37:24: worker thread finished; awaiting finish of 7 more threads\n",
      "INFO - 10:37:24: worker thread finished; awaiting finish of 6 more threads\n",
      "INFO - 10:37:24: worker thread finished; awaiting finish of 5 more threads\n",
      "INFO - 10:37:24: worker thread finished; awaiting finish of 4 more threads\n",
      "INFO - 10:37:24: worker thread finished; awaiting finish of 3 more threads\n",
      "INFO - 10:37:24: worker thread finished; awaiting finish of 2 more threads\n",
      "INFO - 10:37:24: worker thread finished; awaiting finish of 1 more threads\n",
      "INFO - 10:37:24: worker thread finished; awaiting finish of 0 more threads\n",
      "INFO - 10:37:24: EPOCH - 87 : training on 576654 raw words (346752 effective words) took 1.5s, 231788 effective words/s\n",
      "INFO - 10:37:25: EPOCH 88 - PROGRESS: at 66.01% examples, 226511 words/s, in_qsize 0, out_qsize 0\n",
      "INFO - 10:37:25: worker thread finished; awaiting finish of 14 more threads\n",
      "INFO - 10:37:25: worker thread finished; awaiting finish of 13 more threads\n",
      "INFO - 10:37:25: worker thread finished; awaiting finish of 12 more threads\n",
      "INFO - 10:37:25: worker thread finished; awaiting finish of 11 more threads\n",
      "INFO - 10:37:25: worker thread finished; awaiting finish of 10 more threads\n",
      "INFO - 10:37:25: worker thread finished; awaiting finish of 9 more threads\n",
      "INFO - 10:37:25: worker thread finished; awaiting finish of 8 more threads\n",
      "INFO - 10:37:25: worker thread finished; awaiting finish of 7 more threads\n",
      "INFO - 10:37:25: worker thread finished; awaiting finish of 6 more threads\n",
      "INFO - 10:37:25: worker thread finished; awaiting finish of 5 more threads\n",
      "INFO - 10:37:25: worker thread finished; awaiting finish of 4 more threads\n",
      "INFO - 10:37:25: worker thread finished; awaiting finish of 3 more threads\n",
      "INFO - 10:37:25: worker thread finished; awaiting finish of 2 more threads\n",
      "INFO - 10:37:25: worker thread finished; awaiting finish of 1 more threads\n",
      "INFO - 10:37:25: worker thread finished; awaiting finish of 0 more threads\n",
      "INFO - 10:37:25: EPOCH - 88 : training on 576654 raw words (346489 effective words) took 1.5s, 231056 effective words/s\n",
      "INFO - 10:37:26: EPOCH 89 - PROGRESS: at 64.39% examples, 221847 words/s, in_qsize 0, out_qsize 0\n",
      "INFO - 10:37:27: worker thread finished; awaiting finish of 14 more threads\n",
      "INFO - 10:37:27: worker thread finished; awaiting finish of 13 more threads\n",
      "INFO - 10:37:27: worker thread finished; awaiting finish of 12 more threads\n",
      "INFO - 10:37:27: worker thread finished; awaiting finish of 11 more threads\n",
      "INFO - 10:37:27: worker thread finished; awaiting finish of 10 more threads\n",
      "INFO - 10:37:27: worker thread finished; awaiting finish of 9 more threads\n",
      "INFO - 10:37:27: worker thread finished; awaiting finish of 8 more threads\n",
      "INFO - 10:37:27: worker thread finished; awaiting finish of 7 more threads\n",
      "INFO - 10:37:27: worker thread finished; awaiting finish of 6 more threads\n",
      "INFO - 10:37:27: worker thread finished; awaiting finish of 5 more threads\n",
      "INFO - 10:37:27: worker thread finished; awaiting finish of 4 more threads\n",
      "INFO - 10:37:27: worker thread finished; awaiting finish of 3 more threads\n",
      "INFO - 10:37:27: worker thread finished; awaiting finish of 2 more threads\n",
      "INFO - 10:37:27: worker thread finished; awaiting finish of 1 more threads\n",
      "INFO - 10:37:27: worker thread finished; awaiting finish of 0 more threads\n",
      "INFO - 10:37:27: EPOCH - 89 : training on 576654 raw words (346782 effective words) took 1.5s, 230811 effective words/s\n",
      "INFO - 10:37:28: EPOCH 90 - PROGRESS: at 66.01% examples, 226319 words/s, in_qsize 0, out_qsize 0\n",
      "INFO - 10:37:28: worker thread finished; awaiting finish of 14 more threads\n",
      "INFO - 10:37:28: worker thread finished; awaiting finish of 13 more threads\n",
      "INFO - 10:37:28: worker thread finished; awaiting finish of 12 more threads\n",
      "INFO - 10:37:28: worker thread finished; awaiting finish of 11 more threads\n",
      "INFO - 10:37:28: worker thread finished; awaiting finish of 10 more threads\n",
      "INFO - 10:37:28: worker thread finished; awaiting finish of 9 more threads\n",
      "INFO - 10:37:28: worker thread finished; awaiting finish of 8 more threads\n",
      "INFO - 10:37:28: worker thread finished; awaiting finish of 7 more threads\n",
      "INFO - 10:37:28: worker thread finished; awaiting finish of 6 more threads\n",
      "INFO - 10:37:28: worker thread finished; awaiting finish of 5 more threads\n",
      "INFO - 10:37:28: worker thread finished; awaiting finish of 4 more threads\n",
      "INFO - 10:37:28: worker thread finished; awaiting finish of 3 more threads\n",
      "INFO - 10:37:28: worker thread finished; awaiting finish of 2 more threads\n",
      "INFO - 10:37:28: worker thread finished; awaiting finish of 1 more threads\n",
      "INFO - 10:37:28: worker thread finished; awaiting finish of 0 more threads\n",
      "INFO - 10:37:28: EPOCH - 90 : training on 576654 raw words (346788 effective words) took 1.5s, 231174 effective words/s\n",
      "INFO - 10:37:29: EPOCH 91 - PROGRESS: at 67.78% examples, 228637 words/s, in_qsize 0, out_qsize 0\n",
      "INFO - 10:37:30: worker thread finished; awaiting finish of 14 more threads\n",
      "INFO - 10:37:30: worker thread finished; awaiting finish of 13 more threads\n",
      "INFO - 10:37:30: worker thread finished; awaiting finish of 12 more threads\n",
      "INFO - 10:37:30: worker thread finished; awaiting finish of 11 more threads\n",
      "INFO - 10:37:30: worker thread finished; awaiting finish of 10 more threads\n",
      "INFO - 10:37:30: worker thread finished; awaiting finish of 9 more threads\n",
      "INFO - 10:37:30: worker thread finished; awaiting finish of 8 more threads\n",
      "INFO - 10:37:30: worker thread finished; awaiting finish of 7 more threads\n",
      "INFO - 10:37:30: worker thread finished; awaiting finish of 6 more threads\n",
      "INFO - 10:37:30: worker thread finished; awaiting finish of 5 more threads\n",
      "INFO - 10:37:30: worker thread finished; awaiting finish of 4 more threads\n",
      "INFO - 10:37:30: worker thread finished; awaiting finish of 3 more threads\n",
      "INFO - 10:37:30: worker thread finished; awaiting finish of 2 more threads\n",
      "INFO - 10:37:30: worker thread finished; awaiting finish of 1 more threads\n",
      "INFO - 10:37:30: worker thread finished; awaiting finish of 0 more threads\n",
      "INFO - 10:37:30: EPOCH - 91 : training on 576654 raw words (346814 effective words) took 1.5s, 231552 effective words/s\n",
      "INFO - 10:37:31: EPOCH 92 - PROGRESS: at 64.39% examples, 222218 words/s, in_qsize 0, out_qsize 0\n",
      "INFO - 10:37:31: worker thread finished; awaiting finish of 14 more threads\n",
      "INFO - 10:37:31: worker thread finished; awaiting finish of 13 more threads\n",
      "INFO - 10:37:31: worker thread finished; awaiting finish of 12 more threads\n",
      "INFO - 10:37:31: worker thread finished; awaiting finish of 11 more threads\n",
      "INFO - 10:37:31: worker thread finished; awaiting finish of 10 more threads\n",
      "INFO - 10:37:31: worker thread finished; awaiting finish of 9 more threads\n",
      "INFO - 10:37:31: worker thread finished; awaiting finish of 8 more threads\n",
      "INFO - 10:37:31: worker thread finished; awaiting finish of 7 more threads\n",
      "INFO - 10:37:31: worker thread finished; awaiting finish of 6 more threads\n"
     ]
    },
    {
     "name": "stderr",
     "output_type": "stream",
     "text": [
      "INFO - 10:37:31: worker thread finished; awaiting finish of 5 more threads\n",
      "INFO - 10:37:31: worker thread finished; awaiting finish of 4 more threads\n",
      "INFO - 10:37:31: worker thread finished; awaiting finish of 3 more threads\n",
      "INFO - 10:37:31: worker thread finished; awaiting finish of 2 more threads\n",
      "INFO - 10:37:31: worker thread finished; awaiting finish of 1 more threads\n",
      "INFO - 10:37:31: worker thread finished; awaiting finish of 0 more threads\n",
      "INFO - 10:37:31: EPOCH - 92 : training on 576654 raw words (346531 effective words) took 1.5s, 231595 effective words/s\n",
      "INFO - 10:37:32: EPOCH 93 - PROGRESS: at 64.39% examples, 221733 words/s, in_qsize 0, out_qsize 1\n",
      "INFO - 10:37:33: worker thread finished; awaiting finish of 14 more threads\n",
      "INFO - 10:37:33: worker thread finished; awaiting finish of 13 more threads\n",
      "INFO - 10:37:33: worker thread finished; awaiting finish of 12 more threads\n",
      "INFO - 10:37:33: worker thread finished; awaiting finish of 11 more threads\n",
      "INFO - 10:37:33: worker thread finished; awaiting finish of 10 more threads\n",
      "INFO - 10:37:33: worker thread finished; awaiting finish of 9 more threads\n",
      "INFO - 10:37:33: worker thread finished; awaiting finish of 8 more threads\n",
      "INFO - 10:37:33: worker thread finished; awaiting finish of 7 more threads\n",
      "INFO - 10:37:33: worker thread finished; awaiting finish of 6 more threads\n",
      "INFO - 10:37:33: worker thread finished; awaiting finish of 5 more threads\n",
      "INFO - 10:37:33: worker thread finished; awaiting finish of 4 more threads\n",
      "INFO - 10:37:33: worker thread finished; awaiting finish of 3 more threads\n",
      "INFO - 10:37:33: worker thread finished; awaiting finish of 2 more threads\n",
      "INFO - 10:37:33: worker thread finished; awaiting finish of 1 more threads\n",
      "INFO - 10:37:33: worker thread finished; awaiting finish of 0 more threads\n",
      "INFO - 10:37:33: EPOCH - 93 : training on 576654 raw words (346789 effective words) took 1.5s, 232038 effective words/s\n",
      "INFO - 10:37:34: EPOCH 94 - PROGRESS: at 66.01% examples, 222710 words/s, in_qsize 0, out_qsize 0\n",
      "INFO - 10:37:34: worker thread finished; awaiting finish of 14 more threads\n",
      "INFO - 10:37:34: worker thread finished; awaiting finish of 13 more threads\n",
      "INFO - 10:37:34: worker thread finished; awaiting finish of 12 more threads\n",
      "INFO - 10:37:34: worker thread finished; awaiting finish of 11 more threads\n",
      "INFO - 10:37:34: worker thread finished; awaiting finish of 10 more threads\n",
      "INFO - 10:37:34: worker thread finished; awaiting finish of 9 more threads\n",
      "INFO - 10:37:34: worker thread finished; awaiting finish of 8 more threads\n",
      "INFO - 10:37:34: worker thread finished; awaiting finish of 7 more threads\n",
      "INFO - 10:37:34: worker thread finished; awaiting finish of 6 more threads\n",
      "INFO - 10:37:34: worker thread finished; awaiting finish of 5 more threads\n",
      "INFO - 10:37:34: worker thread finished; awaiting finish of 4 more threads\n",
      "INFO - 10:37:34: worker thread finished; awaiting finish of 3 more threads\n",
      "INFO - 10:37:34: worker thread finished; awaiting finish of 2 more threads\n",
      "INFO - 10:37:34: worker thread finished; awaiting finish of 1 more threads\n",
      "INFO - 10:37:34: worker thread finished; awaiting finish of 0 more threads\n",
      "INFO - 10:37:34: EPOCH - 94 : training on 576654 raw words (346464 effective words) took 1.5s, 230568 effective words/s\n",
      "INFO - 10:37:35: EPOCH 95 - PROGRESS: at 66.01% examples, 227891 words/s, in_qsize 0, out_qsize 0\n",
      "INFO - 10:37:36: worker thread finished; awaiting finish of 14 more threads\n",
      "INFO - 10:37:36: worker thread finished; awaiting finish of 13 more threads\n",
      "INFO - 10:37:36: worker thread finished; awaiting finish of 12 more threads\n",
      "INFO - 10:37:36: worker thread finished; awaiting finish of 11 more threads\n",
      "INFO - 10:37:36: worker thread finished; awaiting finish of 10 more threads\n",
      "INFO - 10:37:36: worker thread finished; awaiting finish of 9 more threads\n",
      "INFO - 10:37:36: worker thread finished; awaiting finish of 8 more threads\n",
      "INFO - 10:37:36: worker thread finished; awaiting finish of 7 more threads\n",
      "INFO - 10:37:36: worker thread finished; awaiting finish of 6 more threads\n",
      "INFO - 10:37:36: worker thread finished; awaiting finish of 5 more threads\n",
      "INFO - 10:37:36: worker thread finished; awaiting finish of 4 more threads\n",
      "INFO - 10:37:36: worker thread finished; awaiting finish of 3 more threads\n",
      "INFO - 10:37:36: worker thread finished; awaiting finish of 2 more threads\n",
      "INFO - 10:37:36: worker thread finished; awaiting finish of 1 more threads\n",
      "INFO - 10:37:36: worker thread finished; awaiting finish of 0 more threads\n",
      "INFO - 10:37:36: EPOCH - 95 : training on 576654 raw words (346551 effective words) took 1.5s, 231283 effective words/s\n",
      "INFO - 10:37:37: EPOCH 96 - PROGRESS: at 64.39% examples, 221835 words/s, in_qsize 0, out_qsize 0\n",
      "INFO - 10:37:37: worker thread finished; awaiting finish of 14 more threads\n",
      "INFO - 10:37:37: worker thread finished; awaiting finish of 13 more threads\n",
      "INFO - 10:37:37: worker thread finished; awaiting finish of 12 more threads\n",
      "INFO - 10:37:37: worker thread finished; awaiting finish of 11 more threads\n",
      "INFO - 10:37:37: worker thread finished; awaiting finish of 10 more threads\n",
      "INFO - 10:37:37: worker thread finished; awaiting finish of 9 more threads\n",
      "INFO - 10:37:37: worker thread finished; awaiting finish of 8 more threads\n",
      "INFO - 10:37:37: worker thread finished; awaiting finish of 7 more threads\n",
      "INFO - 10:37:37: worker thread finished; awaiting finish of 6 more threads\n",
      "INFO - 10:37:37: worker thread finished; awaiting finish of 5 more threads\n",
      "INFO - 10:37:37: worker thread finished; awaiting finish of 4 more threads\n",
      "INFO - 10:37:37: worker thread finished; awaiting finish of 3 more threads\n",
      "INFO - 10:37:37: worker thread finished; awaiting finish of 2 more threads\n",
      "INFO - 10:37:37: worker thread finished; awaiting finish of 1 more threads\n",
      "INFO - 10:37:37: worker thread finished; awaiting finish of 0 more threads\n",
      "INFO - 10:37:37: EPOCH - 96 : training on 576654 raw words (346366 effective words) took 1.5s, 230772 effective words/s\n",
      "INFO - 10:37:38: EPOCH 97 - PROGRESS: at 66.01% examples, 222641 words/s, in_qsize 0, out_qsize 1\n",
      "INFO - 10:37:39: worker thread finished; awaiting finish of 14 more threads\n",
      "INFO - 10:37:39: worker thread finished; awaiting finish of 13 more threads\n",
      "INFO - 10:37:39: worker thread finished; awaiting finish of 12 more threads\n",
      "INFO - 10:37:39: worker thread finished; awaiting finish of 11 more threads\n",
      "INFO - 10:37:39: worker thread finished; awaiting finish of 10 more threads\n",
      "INFO - 10:37:39: worker thread finished; awaiting finish of 9 more threads\n",
      "INFO - 10:37:39: worker thread finished; awaiting finish of 8 more threads\n",
      "INFO - 10:37:39: worker thread finished; awaiting finish of 7 more threads\n",
      "INFO - 10:37:39: worker thread finished; awaiting finish of 6 more threads\n",
      "INFO - 10:37:39: worker thread finished; awaiting finish of 5 more threads\n",
      "INFO - 10:37:39: worker thread finished; awaiting finish of 4 more threads\n",
      "INFO - 10:37:39: worker thread finished; awaiting finish of 3 more threads\n",
      "INFO - 10:37:39: worker thread finished; awaiting finish of 2 more threads\n",
      "INFO - 10:37:39: worker thread finished; awaiting finish of 1 more threads\n",
      "INFO - 10:37:39: worker thread finished; awaiting finish of 0 more threads\n",
      "INFO - 10:37:39: EPOCH - 97 : training on 576654 raw words (346318 effective words) took 1.5s, 231733 effective words/s\n",
      "INFO - 10:37:40: EPOCH 98 - PROGRESS: at 66.01% examples, 226153 words/s, in_qsize 0, out_qsize 0\n",
      "INFO - 10:37:40: worker thread finished; awaiting finish of 14 more threads\n",
      "INFO - 10:37:40: worker thread finished; awaiting finish of 13 more threads\n",
      "INFO - 10:37:40: worker thread finished; awaiting finish of 12 more threads\n",
      "INFO - 10:37:40: worker thread finished; awaiting finish of 11 more threads\n",
      "INFO - 10:37:40: worker thread finished; awaiting finish of 10 more threads\n",
      "INFO - 10:37:40: worker thread finished; awaiting finish of 9 more threads\n",
      "INFO - 10:37:40: worker thread finished; awaiting finish of 8 more threads\n",
      "INFO - 10:37:40: worker thread finished; awaiting finish of 7 more threads\n",
      "INFO - 10:37:40: worker thread finished; awaiting finish of 6 more threads\n",
      "INFO - 10:37:40: worker thread finished; awaiting finish of 5 more threads\n",
      "INFO - 10:37:40: worker thread finished; awaiting finish of 4 more threads\n"
     ]
    },
    {
     "name": "stderr",
     "output_type": "stream",
     "text": [
      "INFO - 10:37:40: worker thread finished; awaiting finish of 3 more threads\n",
      "INFO - 10:37:40: worker thread finished; awaiting finish of 2 more threads\n",
      "INFO - 10:37:40: worker thread finished; awaiting finish of 1 more threads\n",
      "INFO - 10:37:40: worker thread finished; awaiting finish of 0 more threads\n",
      "INFO - 10:37:40: EPOCH - 98 : training on 576654 raw words (346317 effective words) took 1.5s, 231332 effective words/s\n",
      "INFO - 10:37:41: EPOCH 99 - PROGRESS: at 66.01% examples, 228255 words/s, in_qsize 0, out_qsize 0\n",
      "INFO - 10:37:42: worker thread finished; awaiting finish of 14 more threads\n",
      "INFO - 10:37:42: worker thread finished; awaiting finish of 13 more threads\n",
      "INFO - 10:37:42: worker thread finished; awaiting finish of 12 more threads\n",
      "INFO - 10:37:42: worker thread finished; awaiting finish of 11 more threads\n",
      "INFO - 10:37:42: worker thread finished; awaiting finish of 10 more threads\n",
      "INFO - 10:37:42: worker thread finished; awaiting finish of 9 more threads\n",
      "INFO - 10:37:42: worker thread finished; awaiting finish of 8 more threads\n",
      "INFO - 10:37:42: worker thread finished; awaiting finish of 7 more threads\n",
      "INFO - 10:37:42: worker thread finished; awaiting finish of 6 more threads\n",
      "INFO - 10:37:42: worker thread finished; awaiting finish of 5 more threads\n",
      "INFO - 10:37:42: worker thread finished; awaiting finish of 4 more threads\n",
      "INFO - 10:37:42: worker thread finished; awaiting finish of 3 more threads\n",
      "INFO - 10:37:42: worker thread finished; awaiting finish of 2 more threads\n",
      "INFO - 10:37:42: worker thread finished; awaiting finish of 1 more threads\n",
      "INFO - 10:37:42: worker thread finished; awaiting finish of 0 more threads\n",
      "INFO - 10:37:42: EPOCH - 99 : training on 576654 raw words (346593 effective words) took 1.5s, 232220 effective words/s\n",
      "INFO - 10:37:43: EPOCH 100 - PROGRESS: at 66.01% examples, 223644 words/s, in_qsize 0, out_qsize 0\n",
      "INFO - 10:37:43: worker thread finished; awaiting finish of 14 more threads\n",
      "INFO - 10:37:43: worker thread finished; awaiting finish of 13 more threads\n",
      "INFO - 10:37:43: worker thread finished; awaiting finish of 12 more threads\n",
      "INFO - 10:37:43: worker thread finished; awaiting finish of 11 more threads\n",
      "INFO - 10:37:43: worker thread finished; awaiting finish of 10 more threads\n",
      "INFO - 10:37:43: worker thread finished; awaiting finish of 9 more threads\n",
      "INFO - 10:37:43: worker thread finished; awaiting finish of 8 more threads\n",
      "INFO - 10:37:43: worker thread finished; awaiting finish of 7 more threads\n",
      "INFO - 10:37:43: worker thread finished; awaiting finish of 6 more threads\n",
      "INFO - 10:37:43: worker thread finished; awaiting finish of 5 more threads\n",
      "INFO - 10:37:43: worker thread finished; awaiting finish of 4 more threads\n",
      "INFO - 10:37:43: worker thread finished; awaiting finish of 3 more threads\n",
      "INFO - 10:37:43: worker thread finished; awaiting finish of 2 more threads\n",
      "INFO - 10:37:43: worker thread finished; awaiting finish of 1 more threads\n",
      "INFO - 10:37:43: worker thread finished; awaiting finish of 0 more threads\n",
      "INFO - 10:37:43: EPOCH - 100 : training on 576654 raw words (346709 effective words) took 1.5s, 232300 effective words/s\n",
      "INFO - 10:37:43: training on a 57665400 raw words (34659490 effective words) took 151.2s, 229240 effective words/s\n"
     ]
    },
    {
     "name": "stdout",
     "output_type": "stream",
     "text": [
      "Time to train the model: 2.52 mins\n"
     ]
    }
   ],
   "source": [
    "t = time()\n",
    "\n",
    "w2v_model.train(articles, total_examples=w2v_model.corpus_count, epochs=100, report_delay=1)\n",
    "\n",
    "print('Time to train the model: {} mins'.format(round((time() - t) / 60, 2)))"
   ]
  },
  {
   "cell_type": "markdown",
   "metadata": {
    "_uuid": "48e12768512b82c2d5cf6a543e3a9f2515699a22",
    "colab_type": "text",
    "id": "YHJtLIu2nOag"
   },
   "source": [
    "As we do not plan to train the model any further, we are calling init_sims(), which will make the model much more memory-efficient:"
   ]
  },
  {
   "cell_type": "code",
   "execution_count": 80,
   "metadata": {
    "_uuid": "34dd51c7f2f39d016b982ef81e4df576f6b31bcb",
    "colab": {},
    "colab_type": "code",
    "id": "FZ-5kO3mnOah"
   },
   "outputs": [
    {
     "name": "stderr",
     "output_type": "stream",
     "text": [
      "INFO - 10:46:31: precomputing L2-norms of word weight vectors\n"
     ]
    }
   ],
   "source": [
    "w2v_model.init_sims(replace=True)"
   ]
  },
  {
   "cell_type": "markdown",
   "metadata": {},
   "source": [
    "# Storing and loading models¶\n",
    "\n",
    "You’ll notice that training non-trivial models can take time. Once you’ve trained your model and it works as expected, you can save it to disk. That way, you don’t have to spend time training it all over again later.\n",
    "\n",
    "You can store/load models using the standard gensim methods:"
   ]
  },
  {
   "cell_type": "code",
   "execution_count": 40,
   "metadata": {},
   "outputs": [
    {
     "name": "stderr",
     "output_type": "stream",
     "text": [
      "INFO - 10:26:30: saving Word2Vec object under /var/folders/cj/pyr99bvn3xd5qjy_m40ld9kc0000gn/T/gensim-model-qrmx7gdm, separately None\n",
      "INFO - 10:26:30: not storing attribute vectors_norm\n",
      "INFO - 10:26:30: not storing attribute cum_table\n",
      "INFO - 10:26:30: saved /var/folders/cj/pyr99bvn3xd5qjy_m40ld9kc0000gn/T/gensim-model-qrmx7gdm\n",
      "INFO - 10:26:30: loading Word2Vec object from /var/folders/cj/pyr99bvn3xd5qjy_m40ld9kc0000gn/T/gensim-model-qrmx7gdm\n",
      "INFO - 10:26:30: loading wv recursively from /var/folders/cj/pyr99bvn3xd5qjy_m40ld9kc0000gn/T/gensim-model-qrmx7gdm.wv.* with mmap=None\n",
      "INFO - 10:26:30: setting ignored attribute vectors_norm to None\n",
      "INFO - 10:26:30: loading vocabulary recursively from /var/folders/cj/pyr99bvn3xd5qjy_m40ld9kc0000gn/T/gensim-model-qrmx7gdm.vocabulary.* with mmap=None\n",
      "INFO - 10:26:30: loading trainables recursively from /var/folders/cj/pyr99bvn3xd5qjy_m40ld9kc0000gn/T/gensim-model-qrmx7gdm.trainables.* with mmap=None\n",
      "INFO - 10:26:30: setting ignored attribute cum_table to None\n",
      "INFO - 10:26:30: loaded /var/folders/cj/pyr99bvn3xd5qjy_m40ld9kc0000gn/T/gensim-model-qrmx7gdm\n"
     ]
    }
   ],
   "source": [
    "import tempfile\n",
    "import gensim\n",
    "\n",
    "with tempfile.NamedTemporaryFile(prefix='gensim-model-', delete=False) as tmp:\n",
    "    temporary_filepath = tmp.name\n",
    "    w2v_model.save(temporary_filepath)\n",
    "    #\n",
    "    # The model is now safely stored in the filepath.\n",
    "    # You can copy it to other machines, share it with others, etc.\n",
    "    #\n",
    "# To load a saved model:\n",
    "\n",
    "new_model = gensim.models.Word2Vec.load(temporary_filepath)"
   ]
  },
  {
   "cell_type": "markdown",
   "metadata": {
    "_uuid": "a420d5a98eb860cff1f4bbac8cbe2054459b6200",
    "colab_type": "text",
    "id": "WKCDXzXLnOak"
   },
   "source": [
    "# Exploring the model\n",
    "\n",
    "The main part of the model is w2v_model.wv, where “wv” stands for “word vectors”.\n",
    "\n",
    "## Most similar to:\n",
    "\n",
    "Here, we will ask our model to find the word most similar to \"new\""
   ]
  },
  {
   "cell_type": "markdown",
   "metadata": {
    "_uuid": "a8f3cfd8ac88978a4df31c90afa194bd6fa4f3f5",
    "colab_type": "text",
    "id": "twLwqtBYnOak"
   },
   "source": [
    "Let's see what we get for the \"new\":"
   ]
  },
  {
   "cell_type": "code",
   "execution_count": 81,
   "metadata": {
    "_uuid": "339207a733a1ac42fe60e32a29f9e5d5ca0a9275",
    "colab": {},
    "colab_type": "code",
    "id": "FjOOYOOrnOal"
   },
   "outputs": [
    {
     "data": {
      "text/plain": [
       "[('state', 0.3105401396751404),\n",
       " ('plan', 0.30601766705513),\n",
       " ('city', 0.2809823751449585),\n",
       " ('year', 0.2775835692882538),\n",
       " ('court', 0.2735474109649658),\n",
       " ('s', 0.2733498811721802),\n",
       " ('require', 0.2732350826263428),\n",
       " ('decision', 0.26876622438430786),\n",
       " ('contract', 0.26309239864349365),\n",
       " ('school', 0.2575671672821045)]"
      ]
     },
     "execution_count": 81,
     "metadata": {},
     "output_type": "execute_result"
    }
   ],
   "source": [
    "w2v_model.wv.most_similar(positive=[\"new\"])"
   ]
  },
  {
   "cell_type": "markdown",
   "metadata": {
    "_uuid": "3b6686e6fa956a98450259b063b4cf51019a6d0b",
    "colab_type": "text",
    "id": "r9bxNp4znOao"
   },
   "source": [
    "_A Note here:_<br>\n",
    "We only use 2000 articles to train our word embeddings. \n",
    "\n",
    "\n",
    "Let's see what the bigram \"new_york\":"
   ]
  },
  {
   "cell_type": "code",
   "execution_count": 82,
   "metadata": {
    "_uuid": "23e5149b19f18f4f2f456d4c72afc5c188bcfba4",
    "colab": {},
    "colab_type": "code",
    "id": "60SvFYhFnOao"
   },
   "outputs": [
    {
     "data": {
      "text/plain": [
       "[('times_current', 0.7055099010467529),\n",
       " ('york_times', 0.6473978757858276),\n",
       " ('times', 0.6473656892776489),\n",
       " ('proquest_historical', 0.6095507144927979),\n",
       " ('newspaper_new', 0.6021746397018433),\n",
       " ('ps_bs', 0.5700998902320862),\n",
       " ('ew_york', 0.5552119016647339),\n",
       " ('current_fle', 0.5476503968238831),\n",
       " ('pg', 0.5311660766601562),\n",
       " ('proqu', 0.5239004492759705)]"
      ]
     },
     "execution_count": 82,
     "metadata": {},
     "output_type": "execute_result"
    }
   ],
   "source": [
    "w2v_model.wv.most_similar(positive=[\"new_york\"])"
   ]
  },
  {
   "cell_type": "code",
   "execution_count": 83,
   "metadata": {
    "_uuid": "22595f98c675a9697243b7e826b2840e5fc3e5f5",
    "colab": {},
    "colab_type": "code",
    "id": "u757zVKPnOas"
   },
   "outputs": [
    {
     "data": {
      "text/plain": [
       "[('joseph_b', 0.27729183435440063),\n",
       " ('vienna', 0.2686992883682251),\n",
       " ('treaster', 0.2660790681838989),\n",
       " ('group', 0.24379265308380127),\n",
       " ('align', 0.23536896705627441),\n",
       " ('farm_union', 0.22481276094913483),\n",
       " ('support', 0.22475281357765198),\n",
       " ('laymen', 0.21873614192008972),\n",
       " ('policie', 0.2175137996673584),\n",
       " ('consumer_advocate', 0.2151505947113037)]"
      ]
     },
     "execution_count": 83,
     "metadata": {},
     "output_type": "execute_result"
    }
   ],
   "source": [
    "w2v_model.wv.most_similar(positive=[\"activist\"])"
   ]
  },
  {
   "cell_type": "code",
   "execution_count": 75,
   "metadata": {
    "_uuid": "ac9ba47738e596dce6552099e76f303f28577943",
    "colab": {},
    "colab_type": "code",
    "id": "5SaLug4PnOax"
   },
   "outputs": [
    {
     "data": {
      "text/plain": [
       "[('belligerent', 0.2227466106414795),\n",
       " ('delaying', 0.20663030445575714),\n",
       " ('foreclosure', 0.20028670132160187),\n",
       " ('anonymously', 0.19974614679813385),\n",
       " ('vietcong', 0.1975529044866562),\n",
       " ('turnaround', 0.19336067140102386),\n",
       " ('inside_outside', 0.1912272870540619),\n",
       " ('sivertsen', 0.18977245688438416),\n",
       " ('burling', 0.18529903888702393),\n",
       " ('health_safety', 0.18120959401130676)]"
      ]
     },
     "execution_count": 75,
     "metadata": {},
     "output_type": "execute_result"
    }
   ],
   "source": [
    "w2v_model.wv.most_similar(positive=[\"movement\"])"
   ]
  },
  {
   "cell_type": "markdown",
   "metadata": {
    "_uuid": "c9afcf59e71f797f8e4d6d4b4ce39e359b19a450",
    "colab_type": "text",
    "id": "94kZ8y88nOa0"
   },
   "source": [
    "Looks like it is making sense!"
   ]
  },
  {
   "cell_type": "markdown",
   "metadata": {
    "_uuid": "d8b5937dfd7584f168a33060c435036cad5b390b",
    "colab_type": "text",
    "id": "v7sckJ1KnOa0"
   },
   "source": [
    "## Similarities:\n",
    "Here, we will see how similar are two words to each other :"
   ]
  },
  {
   "cell_type": "code",
   "execution_count": 84,
   "metadata": {
    "_uuid": "367755f5c9e00de4bc5056c978f5b50a38c1368b",
    "colab": {},
    "colab_type": "code",
    "id": "ngJdnXO1nOa1"
   },
   "outputs": [
    {
     "data": {
      "text/plain": [
       "0.18649663"
      ]
     },
     "execution_count": 84,
     "metadata": {},
     "output_type": "execute_result"
    }
   ],
   "source": [
    "w2v_model.wv.similarity(\"activist\", 'movement')"
   ]
  },
  {
   "cell_type": "code",
   "execution_count": 85,
   "metadata": {
    "_uuid": "349828078b5a438d93e5494478e88095913dc58e",
    "colab": {},
    "colab_type": "code",
    "id": "Tkf6PBk-nOa5"
   },
   "outputs": [
    {
     "data": {
      "text/plain": [
       "0.106794365"
      ]
     },
     "execution_count": 85,
     "metadata": {},
     "output_type": "execute_result"
    }
   ],
   "source": [
    "w2v_model.wv.similarity('activist', 'protest')"
   ]
  },
  {
   "cell_type": "markdown",
   "metadata": {
    "_uuid": "df95cdff693e843ab4b4c174fea24029447573cd",
    "colab_type": "text",
    "id": "k9FepPmhnObT"
   },
   "source": [
    "\n",
    "## Analogy difference:\n",
    "Which word is to protest as activist is to movement?"
   ]
  },
  {
   "cell_type": "code",
   "execution_count": 86,
   "metadata": {
    "_uuid": "812961e79dde9f2032f708755ca287c0aef838d0",
    "colab": {},
    "colab_type": "code",
    "id": "9pRf5CtbnObT"
   },
   "outputs": [
    {
     "data": {
      "text/plain": [
       "[('reconstruction', 0.23501867055892944),\n",
       " ('goff', 0.23463329672813416),\n",
       " ('equate', 0.23000328242778778)]"
      ]
     },
     "execution_count": 86,
     "metadata": {},
     "output_type": "execute_result"
    }
   ],
   "source": [
    "w2v_model.wv.most_similar(positive=[\"activist\", \"movement\"], negative=[\"protest\"], topn=3)"
   ]
  },
  {
   "cell_type": "code",
   "execution_count": 87,
   "metadata": {
    "_uuid": "4cfef57b94b635abb58a4ff191785506c78ec9d9",
    "colab": {},
    "colab_type": "code",
    "id": "ehcVPF8rnObZ"
   },
   "outputs": [
    {
     "data": {
      "text/plain": [
       "[('laymen', 0.2714104652404785),\n",
       " ('palestine_liberation', 0.2692701816558838),\n",
       " ('group', 0.2545587718486786)]"
      ]
     },
     "execution_count": 87,
     "metadata": {},
     "output_type": "execute_result"
    }
   ],
   "source": [
    "w2v_model.wv.most_similar(positive=[\"black\", \"activist\"], negative=[\"white\"], topn=3)"
   ]
  },
  {
   "cell_type": "markdown",
   "metadata": {
    "_uuid": "773c0acc8750ba8e728ff261f2e9ec39694c245c",
    "colab_type": "text",
    "id": "y9FUS3henObj"
   },
   "source": [
    "# Visualising the Word Embeddings\n",
    "The word embeddings made by the model can be visualised by reducing dimensionality of the words to 2 dimensions using tSNE.t-SNE is a non-linear dimensionality reduction algorithm that attempts to represent high-dimensional data and the underlying relationships between vectors in a lower-dimensional space.Here is a good tutorial on it: https://medium.com/@luckylwk/visualising-high-dimensional-datasets-using-pca-and-t-sne-in-python-8ef87e7915b\n",
    "\n",
    "Visualisations can be used to notice semantic and syntactic trends in the data.\n",
    "\n",
    "Example:\n",
    "\n",
    "> Semantic: words like cat, dog, cow, etc. have a tendency to lie close by\n",
    "\n",
    "> Syntactic: words like run, running or cut, cutting lie close together.\n",
    "\n",
    "> Vector relations like vKing - vMan = vQueen - vWoman can also be noticed.\n"
   ]
  },
  {
   "cell_type": "code",
   "execution_count": 90,
   "metadata": {
    "_uuid": "27ec46110042fc28da900b1b344ae4e0692d5dc2",
    "colab": {},
    "colab_type": "code",
    "id": "9BcO6jEjnObj"
   },
   "outputs": [],
   "source": [
    "import numpy as np\n",
    "import matplotlib.pyplot as plt\n",
    "%matplotlib inline\n",
    " \n",
    "import seaborn as sns\n",
    "sns.set_style(\"darkgrid\")\n",
    "\n",
    "from sklearn.decomposition import PCA\n",
    "from sklearn.manifold import TSNE"
   ]
  },
  {
   "cell_type": "markdown",
   "metadata": {
    "_uuid": "22693eaa25253b38cee3c5cd5db6b6fdddb575a4",
    "colab_type": "text",
    "id": "7iGeIyyvnObm"
   },
   "source": [
    "Our goal in this section is to plot our 300 dimensions vectors into 2 dimensional graphs, and see if we can spot interesting patterns.<br>\n",
    "For that we are going to use t-SNE implementation from scikit-learn.\n",
    "\n",
    "To make the visualizations more relevant, we will look at the relationships between a query word (in <font color='red'>**red**</font>), its most similar words in the model (in <font color=\"blue\">**blue**</font>), and other words from the vocabulary (in <font color='green'>**green**</font>)."
   ]
  },
  {
   "cell_type": "code",
   "execution_count": 91,
   "metadata": {
    "_uuid": "489a7d160dcd92da0ce42a3b5b461368c9ffe5f1",
    "colab": {},
    "colab_type": "code",
    "id": "Vikjryu-nObn"
   },
   "outputs": [],
   "source": [
    "def tsnescatterplot(model, word, list_names):\n",
    "    \"\"\" Plot in seaborn the results from the t-SNE dimensionality reduction algorithm of the vectors of a query word,\n",
    "    its list of most similar words, and a list of words.\n",
    "    \"\"\"\n",
    "    arrays = np.empty((0, 300), dtype='f')\n",
    "    word_labels = [word]\n",
    "    color_list  = ['red']\n",
    "\n",
    "    # adds the vector of the query word\n",
    "    arrays = np.append(arrays, model.wv.__getitem__([word]), axis=0)\n",
    "    \n",
    "    # gets list of most similar words\n",
    "    close_words = model.wv.most_similar([word])\n",
    "    \n",
    "    # adds the vector for each of the closest words to the array\n",
    "    for wrd_score in close_words:\n",
    "        wrd_vector = model.wv.__getitem__([wrd_score[0]])\n",
    "        word_labels.append(wrd_score[0])\n",
    "        color_list.append('blue')\n",
    "        arrays = np.append(arrays, wrd_vector, axis=0)\n",
    "    \n",
    "    # adds the vector for each of the words from list_names to the array\n",
    "    for wrd in list_names:\n",
    "        wrd_vector = model.wv.__getitem__([wrd])\n",
    "        word_labels.append(wrd)\n",
    "        color_list.append('green')\n",
    "        arrays = np.append(arrays, wrd_vector, axis=0)\n",
    "        \n",
    "    # Reduces the dimensionality from 300 to 50 dimensions with PCA\n",
    "    reduc = PCA(n_components=5).fit_transform(arrays)\n",
    "    \n",
    "    # Finds t-SNE coordinates for 2 dimensions\n",
    "    np.set_printoptions(suppress=True)\n",
    "    \n",
    "    Y = TSNE(n_components=2, random_state=0, perplexity=15).fit_transform(reduc)\n",
    "    \n",
    "    # Sets everything up to plot\n",
    "    df = pd.DataFrame({'x': [x for x in Y[:, 0]],\n",
    "                       'y': [y for y in Y[:, 1]],\n",
    "                       'words': word_labels,\n",
    "                       'color': color_list})\n",
    "    \n",
    "    fig, _ = plt.subplots()\n",
    "    fig.set_size_inches(9, 9)\n",
    "    \n",
    "    # Basic plot\n",
    "    p1 = sns.regplot(data=df,\n",
    "                     x=\"x\",\n",
    "                     y=\"y\",\n",
    "                     fit_reg=False,\n",
    "                     marker=\"o\",\n",
    "                     scatter_kws={'s': 40,\n",
    "                                  'facecolors': df['color']\n",
    "                                 }\n",
    "                    )\n",
    "    \n",
    "    # Adds annotations one by one with a loop\n",
    "    for line in range(0, df.shape[0]):\n",
    "         p1.text(df[\"x\"][line],\n",
    "                 df['y'][line],\n",
    "                 '  ' + df[\"words\"][line].title(),\n",
    "                 horizontalalignment='left',\n",
    "                 verticalalignment='bottom', size='medium',\n",
    "                 color=df['color'][line],\n",
    "                 weight='normal'\n",
    "                ).set_size(15)\n",
    "\n",
    "    \n",
    "    plt.xlim(Y[:, 0].min()-50, Y[:, 0].max()+50)\n",
    "    plt.ylim(Y[:, 1].min()-50, Y[:, 1].max()+50)\n",
    "            \n",
    "    plt.title('t-SNE visualization for {}'.format(word.title()))\n",
    "    "
   ]
  },
  {
   "cell_type": "markdown",
   "metadata": {
    "_uuid": "3943c170a5f5f09974d90c89bdb9ec761e63a416",
    "colab_type": "text",
    "id": "nV4H2b_DnObr"
   },
   "source": [
    "\n",
    "## 10 Most similar words vs. 5 Random words:\n",
    "Let's compare where the vector representation of activist, the 10 most similar words from the model, as well as 5 random ones, lies in a 2D graph:"
   ]
  },
  {
   "cell_type": "code",
   "execution_count": 92,
   "metadata": {
    "_uuid": "18d788b2a92f94771a5f9485a885d44dfba62a94",
    "colab": {},
    "colab_type": "code",
    "id": "URfJqpXAnObr"
   },
   "outputs": [
    {
     "data": {
      "image/png": "[encoded data removed]",
      "text/plain": [
       "<Figure size 648x648 with 1 Axes>"
      ]
     },
     "metadata": {},
     "output_type": "display_data"
    }
   ],
   "source": [
    "tsnescatterplot(w2v_model, 'activist', ['new', 'times', 'today', 'great', 'black'])"
   ]
  },
  {
   "cell_type": "markdown",
   "metadata": {
    "_uuid": "c73fc2faaf0baecc84f02a97b50cb9ccefa48686",
    "colab_type": "text",
    "id": "PdvRmVdTnObx"
   },
   "source": [
    "Interestingly, the 10 most similar words to Homer ends up around him, so does Apu and (sideshow) Bob, two recurrent characters.\n",
    "\n",
    "## 10 Most similar words vs. 10 Most dissimilar\n",
    "\n",
    "This time, let's compare where the vector representation of Maggie and her 10 most similar words from the model lies compare to the vector representation of the 10 most dissimilar words to Maggie:"
   ]
  },
  {
   "cell_type": "code",
   "execution_count": 94,
   "metadata": {
    "_uuid": "10c77b072f7c281f2be919341be116565c20d8a8",
    "colab": {},
    "colab_type": "code",
    "id": "U0vQKEL2nOby"
   },
   "outputs": [
    {
     "data": {
      "image/png": "[encoded data removed]",
      "text/plain": [
       "<Figure size 648x648 with 1 Axes>"
      ]
     },
     "metadata": {},
     "output_type": "display_data"
    }
   ],
   "source": [
    "tsnescatterplot(w2v_model, 'protest', [i[0] for i in w2v_model.wv.most_similar(negative=[\"protest\"])])"
   ]
  },
  {
   "cell_type": "markdown",
   "metadata": {
    "_uuid": "011aa35b717d985f1d9fb820208531222055ff7b",
    "colab_type": "text",
    "id": "KLWH0vb6nOb7"
   },
   "source": [
    "# Materials for more in depths understanding:\n",
    "* Word Embeddings introduction: https://www.analyticsvidhya.com/blog/2017/06/word-embeddings-count-word2veec/\n",
    "* Another Word2Vec introduction: http://mccormickml.com/2016/04/19/word2vec-tutorial-the-skip-gram-model/\n",
    "* Le and Mikolov in 2014 introduced the Doc2Vec algorithm, which usually outperforms such simple-averaging of Word2Vec vectors. The basic idea is: act as if a document has another floating word-like vector, which contributes to all training predictions, and is updated like other word-vectors, but we will call it a doc-vector. Gensim’s Doc2Vec class implements this algorithm. There are two implementations: Paragraph Vector - Distributed Memory (PV-DM) and Paragraph Vector - Distributed Bag of Words (PV-DBOW). PV-DM is analogous to Word2Vec CBOW. The doc-vectors are obtained by training a neural network on the synthetic task of predicting a center word based an average of both context word-vectors and the full document’s doc-vector. PV-DBOW is analogous to Word2Vec SG. The doc-vectors are obtained by training a neural network on the synthetic task of predicting a target word just from the full document’s doc-vector. (It is also common to combine this with skip-gram testing, using both the doc-vector and nearby word-vectors to predict a single target word, but only one at a time.) You can check here for more details. <https://radimrehurek.com/gensim/auto_examples/tutorials/run_doc2vec_lee.html#sphx-glr-auto-examples-tutorials-run-doc2vec-lee-py>\n",
    "\n",
    "# Acknowledgements\n",
    "* This tutorial is adapted from <https://www.kaggle.com/pierremegret/gensim-word2vec-tutorial> and <https://radimrehurek.com/gensim/auto_examples/tutorials/run_word2vec.html#sphx-glr-download-auto-examples-tutorials-run-word2vec-py>.\n",
    "\n",
    "# End"
   ]
  },
  {
   "cell_type": "code",
   "execution_count": null,
   "metadata": {},
   "outputs": [],
   "source": []
  }
 ],
 "metadata": {
  "colab": {
   "name": "Lab4.ipynb",
   "provenance": []
  },
  "kernelspec": {
   "display_name": "Python 3",
   "language": "python",
   "name": "python3"
  },
  "language_info": {
   "codemirror_mode": {
    "name": "ipython",
    "version": 3
   },
   "file_extension": ".py",
   "mimetype": "text/x-python",
   "name": "python",
   "nbconvert_exporter": "python",
   "pygments_lexer": "ipython3",
   "version": "3.8.12"
  }
 },
 "nbformat": 4,
 "nbformat_minor": 1
}
